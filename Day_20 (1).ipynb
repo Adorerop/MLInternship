{
  "nbformat": 4,
  "nbformat_minor": 0,
  "metadata": {
    "colab": {
      "provenance": []
    },
    "kernelspec": {
      "name": "python3",
      "display_name": "Python 3"
    },
    "language_info": {
      "name": "python"
    }
  },
  "cells": [
    {
      "cell_type": "markdown",
      "source": [
        "#Practice code :\n",
        "\n",
        "Create employee class having 3 variables : name,grade, designation and also having init method.\n",
        "\n",
        "Read n integer from user which is total number of employees.\n",
        "\n",
        "For each and every employee read variables from user and create object and add it to 'lst' list.\n",
        "\n",
        "\n",
        "In lst list if any employee has grade less than 7 , add him in 'improvement' list."
      ],
      "metadata": {
        "id": "xv37arBKb30v"
      }
    },
    {
      "cell_type": "code",
      "execution_count": 1,
      "metadata": {
        "id": "v93BbLLebxwb"
      },
      "outputs": [],
      "source": [
        "class Employee:\n",
        "  name = \"\"\n",
        "  grade = 0\n",
        "  designation = \"\"\n",
        "  def __init__(self, name, grade , designation):\n",
        "    self.name = name\n",
        "    self.grade = grade\n",
        "    self.designation = designation"
      ]
    },
    {
      "cell_type": "code",
      "source": [
        "n = int(input(\"Enter total number of employees : \"))"
      ],
      "metadata": {
        "colab": {
          "base_uri": "https://localhost:8080/"
        },
        "id": "CYzZcGB6gEqn",
        "outputId": "4ef1814b-29b8-460e-a594-ec39726bc553"
      },
      "execution_count": 2,
      "outputs": [
        {
          "name": "stdout",
          "output_type": "stream",
          "text": [
            "Enter total number of employees : 3\n"
          ]
        }
      ]
    },
    {
      "cell_type": "code",
      "source": [
        "lst = []\n",
        "for i in range(n):\n",
        "  nm = input(\"Enter name : \")\n",
        "  grd = int(input(\"Enter Grade : \"))\n",
        "  des = input(\"Enter Designation : \")\n",
        "\n",
        "  obj = Employee(nm ,grd, des)\n",
        "\n",
        "  lst.append(obj)\n",
        "improvement = []\n",
        "for i in lst:\n",
        "  if(i.grade<7):\n",
        "    improvement.append(i)\n",
        "print(improvement[0].grade)"
      ],
      "metadata": {
        "colab": {
          "base_uri": "https://localhost:8080/"
        },
        "id": "slBDWoXvgMyD",
        "outputId": "3f303584-1bd4-4268-b688-9c023ff30f70"
      },
      "execution_count": 3,
      "outputs": [
        {
          "name": "stdout",
          "output_type": "stream",
          "text": [
            "Enter name : Parth\n",
            "Enter Grade : 8\n",
            "Enter Designation : Developer\n",
            "Enter name : Raj\n",
            "Enter Grade : 9\n",
            "Enter Designation : Senior_Developer\n",
            "Enter name : Yash\n",
            "Enter Grade : 5\n",
            "Enter Designation : Consultant\n"
          ]
        }
      ]
    },
    {
      "cell_type": "markdown",
      "source": [
        "#Inheritance between classes"
      ],
      "metadata": {
        "id": "Ls-tzeUGihpu"
      }
    },
    {
      "cell_type": "markdown",
      "source": [
        "#There are 2 classes \n",
        "(1) Parent class \n",
        "\n",
        "(2) Child Class\n",
        "\n",
        "\n",
        "Due to inheritance relation between classes child class gets the property of parent class."
      ],
      "metadata": {
        "id": "TdQ3xVmXjxNd"
      }
    },
    {
      "cell_type": "code",
      "source": [
        "class FatherClass:\n",
        "  \n",
        "  number_of_house = 0\n",
        "\n",
        "  def __init__(self, n):\n",
        "    self.number_of_house = n"
      ],
      "metadata": {
        "id": "IQ-EQyQqg6H7"
      },
      "execution_count": 13,
      "outputs": []
    },
    {
      "cell_type": "code",
      "source": [
        "class SonClass(FatherClass):\n",
        "\n",
        "  number_of_cars = 0\n",
        "\n",
        "  def __init__(self,n_cars,n_house):\n",
        "    self.number_of_cars = n_cars\n",
        "\n",
        "    FatherClass.__init__(self,n_house)"
      ],
      "metadata": {
        "id": "T0CCjBkthNFF"
      },
      "execution_count": 14,
      "outputs": []
    },
    {
      "cell_type": "code",
      "source": [
        "obj = SonClass(2,3)"
      ],
      "metadata": {
        "id": "9YAw89S8iCsZ"
      },
      "execution_count": 15,
      "outputs": []
    },
    {
      "cell_type": "code",
      "source": [
        "print(obj.number_of_cars)"
      ],
      "metadata": {
        "colab": {
          "base_uri": "https://localhost:8080/"
        },
        "id": "e3Y9qtX4mRAG",
        "outputId": "48b585d0-c2ea-4efa-eb92-5f90641f9f97"
      },
      "execution_count": 16,
      "outputs": [
        {
          "output_type": "stream",
          "name": "stdout",
          "text": [
            "2\n"
          ]
        }
      ]
    },
    {
      "cell_type": "code",
      "source": [
        "print(obj.number_of_house)"
      ],
      "metadata": {
        "colab": {
          "base_uri": "https://localhost:8080/"
        },
        "id": "ndbl0YJBmd8V",
        "outputId": "4e7dd2e9-68db-4129-e1af-e0a7cb67af3e"
      },
      "execution_count": 17,
      "outputs": [
        {
          "output_type": "stream",
          "name": "stdout",
          "text": [
            "3\n"
          ]
        }
      ]
    },
    {
      "cell_type": "code",
      "source": [
        "class Person:\n",
        "  name = \"\"\n",
        "  adhar_id = \"\"\n",
        "\n",
        "  def __init__(self,name, adhar_id):\n",
        "    self.name = name\n",
        "    self.adhar_id = adhar_id"
      ],
      "metadata": {
        "id": "oRAMTREamiVA"
      },
      "execution_count": 18,
      "outputs": []
    },
    {
      "cell_type": "code",
      "source": [
        "class Employee(Person):\n",
        "  designation = \"\"\n",
        "  company_name  = \"\"\n",
        "  \n",
        "  def __init__(self, des, cname, name, adhar_id):\n",
        "    self.designation = des\n",
        "    self.company_name = cname\n",
        "\n",
        "    Person.__init__(self, name , adhar_id)"
      ],
      "metadata": {
        "id": "rglq5AZBnyI8"
      },
      "execution_count": 19,
      "outputs": []
    },
    {
      "cell_type": "code",
      "source": [
        "obj = Employee(\"Senior\",\"Infosys\",\"Jay\",\"123\")"
      ],
      "metadata": {
        "id": "Pj304J_wodZS"
      },
      "execution_count": 20,
      "outputs": []
    },
    {
      "cell_type": "code",
      "source": [
        "print(obj.name)\n",
        "print(obj.company_name)"
      ],
      "metadata": {
        "colab": {
          "base_uri": "https://localhost:8080/"
        },
        "id": "J7rJrR6GopRI",
        "outputId": "14298e9c-b3aa-4038-f9c5-3b2d292ed637"
      },
      "execution_count": 21,
      "outputs": [
        {
          "output_type": "stream",
          "name": "stdout",
          "text": [
            "Jay\n",
            "Infosys\n"
          ]
        }
      ]
    },
    {
      "cell_type": "markdown",
      "source": [
        "#polymorphism\n",
        "\n",
        "(1) static polymorphism : method overloading\n",
        "\n",
        "(2) Dynamic polymorphism : method overriding"
      ],
      "metadata": {
        "id": "WX3XQ2tro85-"
      }
    },
    {
      "cell_type": "markdown",
      "source": [
        "method overloading : Overload same name method with different parameters"
      ],
      "metadata": {
        "id": "OoG7NK_XpO8z"
      }
    },
    {
      "cell_type": "code",
      "source": [
        "class MyClass:\n",
        "\n",
        "  def same_name(self, s1):\n",
        "    print(\"Single string method called with : \",s1)\n",
        "\n",
        "  def same_name(self, s1, s2):\n",
        "    print(s1, s2)"
      ],
      "metadata": {
        "id": "MjGWmgHsouwZ"
      },
      "execution_count": 22,
      "outputs": []
    },
    {
      "cell_type": "code",
      "source": [
        "obj = MyClass()"
      ],
      "metadata": {
        "id": "2nVj9Fxtpuf8"
      },
      "execution_count": 23,
      "outputs": []
    },
    {
      "cell_type": "code",
      "source": [
        "obj.same_name(\"Parth\",\"Shah\")"
      ],
      "metadata": {
        "colab": {
          "base_uri": "https://localhost:8080/"
        },
        "id": "-ayPW5-hp1fS",
        "outputId": "f6b8ddf7-e014-4455-8a16-dfd77d41a518"
      },
      "execution_count": 24,
      "outputs": [
        {
          "output_type": "stream",
          "name": "stdout",
          "text": [
            "Parth Shah\n"
          ]
        }
      ]
    },
    {
      "cell_type": "code",
      "source": [
        "#This will generate error bcoz latest method will be considered\n",
        "#obj.same_name(\"Parth\")"
      ],
      "metadata": {
        "colab": {
          "base_uri": "https://localhost:8080/",
          "height": 166
        },
        "id": "BZkKgJsZp8Hb",
        "outputId": "e718f2b1-cde7-4150-b53f-3191f94f702e"
      },
      "execution_count": 25,
      "outputs": [
        {
          "output_type": "error",
          "ename": "TypeError",
          "evalue": "ignored",
          "traceback": [
            "\u001b[0;31m---------------------------------------------------------------------------\u001b[0m",
            "\u001b[0;31mTypeError\u001b[0m                                 Traceback (most recent call last)",
            "\u001b[0;32m<ipython-input-25-744e1d62b5f6>\u001b[0m in \u001b[0;36m<module>\u001b[0;34m\u001b[0m\n\u001b[0;32m----> 1\u001b[0;31m \u001b[0mobj\u001b[0m\u001b[0;34m.\u001b[0m\u001b[0msame_name\u001b[0m\u001b[0;34m(\u001b[0m\u001b[0;34m\"Parth\"\u001b[0m\u001b[0;34m)\u001b[0m\u001b[0;34m\u001b[0m\u001b[0;34m\u001b[0m\u001b[0m\n\u001b[0m",
            "\u001b[0;31mTypeError\u001b[0m: same_name() missing 1 required positional argument: 's2'"
          ]
        }
      ]
    },
    {
      "cell_type": "markdown",
      "source": [
        "#Method override\n",
        "\n",
        "Two same name method with parent and child class"
      ],
      "metadata": {
        "id": "VgFYbsUSquqY"
      }
    },
    {
      "cell_type": "code",
      "source": [
        "class Parent:\n",
        "  v1 = \"\"\n",
        "  def __init__(self,value):\n",
        "    self.v1 = value\n",
        "  \n",
        "  def show(self):\n",
        "    print(\"Hello I am from Parent Class with value : \",self.v1)"
      ],
      "metadata": {
        "id": "AETVmwIXqCmi"
      },
      "execution_count": 49,
      "outputs": []
    },
    {
      "cell_type": "code",
      "source": [
        "class Child(Parent):\n",
        "  value = \"\"\n",
        "\n",
        "  def __init__(self,value1,value2):\n",
        "    self.value = value1\n",
        "\n",
        "    Parent.__init__(self, value2)\n",
        "\n",
        "  def show(self):\n",
        "    print(\"Child Class value : \", self.value)"
      ],
      "metadata": {
        "id": "rvpaFW_hrRDc"
      },
      "execution_count": 50,
      "outputs": []
    },
    {
      "cell_type": "code",
      "source": [
        "obj1 = Child(\"Ranbir\",\"Rishi\")"
      ],
      "metadata": {
        "id": "BgxbSbQurzBg"
      },
      "execution_count": 51,
      "outputs": []
    },
    {
      "cell_type": "code",
      "source": [
        "obj1.show()"
      ],
      "metadata": {
        "colab": {
          "base_uri": "https://localhost:8080/"
        },
        "id": "nId4RUUksDB0",
        "outputId": "38011ac4-d03c-4924-d5a7-149491474333"
      },
      "execution_count": 52,
      "outputs": [
        {
          "output_type": "stream",
          "name": "stdout",
          "text": [
            "Child Class value :  Ranbir\n"
          ]
        }
      ]
    },
    {
      "cell_type": "code",
      "source": [
        "obj2 = Parent(\"Khan\")"
      ],
      "metadata": {
        "id": "YYDN3EJjsGjf"
      },
      "execution_count": 44,
      "outputs": []
    },
    {
      "cell_type": "code",
      "source": [
        "obj2.show()"
      ],
      "metadata": {
        "colab": {
          "base_uri": "https://localhost:8080/"
        },
        "id": "MBWjmng3sUDF",
        "outputId": "dd32109d-4956-4cf0-8f91-115fec92536c"
      },
      "execution_count": 45,
      "outputs": [
        {
          "output_type": "stream",
          "name": "stdout",
          "text": [
            "Hello I am from Parent Class with value :  Khan\n"
          ]
        }
      ]
    },
    {
      "cell_type": "code",
      "source": [],
      "metadata": {
        "id": "xatPjGIisWNo"
      },
      "execution_count": null,
      "outputs": []
    }
  ]
}