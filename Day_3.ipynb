{
  "nbformat": 4,
  "nbformat_minor": 0,
  "metadata": {
    "colab": {
      "provenance": []
    },
    "kernelspec": {
      "name": "python3",
      "display_name": "Python 3"
    },
    "language_info": {
      "name": "python"
    }
  },
  "cells": [
    {
      "cell_type": "markdown",
      "source": [
        "#Yesterdays assignment\n",
        "\n",
        "Read 2 integer variables and subtract them and store result in new variable RES1\n",
        "\n",
        "Read 3 string variables and concat them and store result in new variable RES2\n",
        "\n",
        "Read 4 float variables and add all of them and store result in new variable RES3\n",
        "\n",
        "Concat 3 variables RES1, RES2 and RES3 and assigne the result in new string FINAL_RES\n",
        "\n",
        "print length of FINAL_RES variable"
      ],
      "metadata": {
        "id": "jKALaekx6yst"
      }
    },
    {
      "cell_type": "code",
      "execution_count": 1,
      "metadata": {
        "colab": {
          "base_uri": "https://localhost:8080/"
        },
        "id": "ZqXhTYAt6vfY",
        "outputId": "ce3b64ad-521b-448d-b717-687b331e0dd2"
      },
      "outputs": [
        {
          "name": "stdout",
          "output_type": "stream",
          "text": [
            "40\n",
            "20\n"
          ]
        }
      ],
      "source": [
        "int1 = int(input())\n",
        "int2 = int(input())\n",
        "RES1 = int1 - int2\n",
        "\n",
        "str1 = input()\n",
        "str2 = input()\n",
        "str3 = input()\n",
        "RES2 = str1 + str2 + str3\n",
        "\n",
        "f1 = float(input())\n",
        "f2 = float(input())\n",
        "f3 = float(input())\n",
        "f4 = float(input())\n",
        "RES3 = f1 + f2 + f3 + f4\n",
        "\n",
        "\n",
        "FINAL_RES =  str(RES1) + RES2 + str(RES3)\n",
        "\n",
        "\n",
        "l = len(FINAL_RES)"
      ]
    },
    {
      "cell_type": "code",
      "source": [
        "a = 10\n",
        "print(\"Welcome \",a , 3.4, True , \"This is also string\")"
      ],
      "metadata": {
        "colab": {
          "base_uri": "https://localhost:8080/"
        },
        "id": "DlZdD7sN-2f3",
        "outputId": "1677ac49-e4b0-4ee0-cee2-9f7a20e1dbdc"
      },
      "execution_count": 20,
      "outputs": [
        {
          "output_type": "stream",
          "name": "stdout",
          "text": [
            "Welcome  10 3.4 True This is also string\n"
          ]
        }
      ]
    },
    {
      "cell_type": "markdown",
      "source": [
        "#Multiple variable assignment"
      ],
      "metadata": {
        "id": "zGh2FcU8Cn1p"
      }
    },
    {
      "cell_type": "code",
      "source": [
        "a = 10\n",
        "b = 3.4\n",
        "c = 'Parth'\n",
        "\n",
        "#Alternative way is as per below :\n",
        "a, b, c = 10,3.4,'Parth'"
      ],
      "metadata": {
        "id": "j3sdlvpTCngw"
      },
      "execution_count": 21,
      "outputs": []
    },
    {
      "cell_type": "markdown",
      "source": [
        "#Variable Reassign"
      ],
      "metadata": {
        "id": "as2uWME2DWfG"
      }
    },
    {
      "cell_type": "code",
      "source": [
        "a = 5.5\n",
        "print(a)\n",
        "a = 'Parth'\n",
        "print(a)"
      ],
      "metadata": {
        "colab": {
          "base_uri": "https://localhost:8080/"
        },
        "id": "natjAEb6_HNr",
        "outputId": "bf3a69c2-81ec-4481-f012-4cb1888f3918"
      },
      "execution_count": 23,
      "outputs": [
        {
          "output_type": "stream",
          "name": "stdout",
          "text": [
            "5.5\n",
            "Parth\n"
          ]
        }
      ]
    },
    {
      "cell_type": "markdown",
      "source": [
        "#String operations "
      ],
      "metadata": {
        "id": "9VB1IBDJD521"
      }
    },
    {
      "cell_type": "code",
      "source": [
        "s = 'Ahmedabad'"
      ],
      "metadata": {
        "id": "M1swZIxT_c22"
      },
      "execution_count": 24,
      "outputs": []
    },
    {
      "cell_type": "code",
      "source": [
        "l = len(s)"
      ],
      "metadata": {
        "id": "DW1kpKIO_wjs"
      },
      "execution_count": 25,
      "outputs": []
    },
    {
      "cell_type": "code",
      "source": [
        "#String slicing\n",
        "ch = s[0]\n",
        "sub_str  = s[0:7]\n",
        "sub_str2 = s[2:7]\n",
        "sub_str3 = s[2:]  "
      ],
      "metadata": {
        "id": "XmOpxsxr_7Tf"
      },
      "execution_count": 30,
      "outputs": []
    },
    {
      "cell_type": "code",
      "source": [
        "#Count of character in string\n",
        "cnt = s.count('a')\n",
        "\n",
        "str1 = \"Hello how are you are you fine ?\"\n",
        "cnt = str1.count('you')"
      ],
      "metadata": {
        "id": "VC7iw6R3Abpf"
      },
      "execution_count": 34,
      "outputs": []
    },
    {
      "cell_type": "code",
      "source": [
        "#Append character\n",
        "s = s +'k'"
      ],
      "metadata": {
        "id": "OAPhyrO9A7Zr"
      },
      "execution_count": 37,
      "outputs": []
    },
    {
      "cell_type": "markdown",
      "source": [
        "#Assignment operation"
      ],
      "metadata": {
        "id": "nRyDCQq5IGRH"
      }
    },
    {
      "cell_type": "code",
      "source": [
        "a = 10\n",
        "\n",
        "a += 5  #a = a + 5\n",
        "\n",
        "a *= 5  #a = a * 5"
      ],
      "metadata": {
        "id": "awXzFjvyBEaE"
      },
      "execution_count": 44,
      "outputs": []
    },
    {
      "cell_type": "markdown",
      "source": [
        "#Comparision operators"
      ],
      "metadata": {
        "id": "TJhfPCGiI6Vm"
      }
    },
    {
      "cell_type": "code",
      "source": [
        "a = 10\n",
        "b = 30\n",
        "\n",
        "a == b\n",
        "a != 10\n",
        "a > 10\n",
        "a >= 10\n",
        "a <=10"
      ],
      "metadata": {
        "id": "SPA1L0DiBgSi"
      },
      "execution_count": 55,
      "outputs": []
    },
    {
      "cell_type": "markdown",
      "source": [
        "#if statement"
      ],
      "metadata": {
        "id": "jS8AL39KKU3o"
      }
    },
    {
      "cell_type": "code",
      "source": [
        "a = 10\n",
        "\n",
        "if(a > 5):\n",
        "  print('a is greater')\n",
        "  print('within block')\n",
        "print(\"Outside block\")"
      ],
      "metadata": {
        "colab": {
          "base_uri": "https://localhost:8080/"
        },
        "id": "oEoq8g5eBiLQ",
        "outputId": "2b5c690d-f3a2-40d4-b1b7-7ce8dcf17b7f"
      },
      "execution_count": 62,
      "outputs": [
        {
          "output_type": "stream",
          "name": "stdout",
          "text": [
            "a is greater\n",
            "within block\n",
            "Outside block\n"
          ]
        }
      ]
    },
    {
      "cell_type": "code",
      "source": [
        "if(a>8):\n",
        "  print(\"Yes I will get printed\") #1\n",
        "else:\n",
        "  print(\"I will not\")             #2\n",
        "print(\"Will I get printed ?\")     #3"
      ],
      "metadata": {
        "colab": {
          "base_uri": "https://localhost:8080/"
        },
        "id": "96T5Xnm2F5Yo",
        "outputId": "0c3478d1-0674-4095-9e55-595f41f99dbc"
      },
      "execution_count": 63,
      "outputs": [
        {
          "output_type": "stream",
          "name": "stdout",
          "text": [
            "Yes I will get printed\n",
            "Will I get printed ?\n"
          ]
        }
      ]
    },
    {
      "cell_type": "markdown",
      "source": [
        "#Logical operator"
      ],
      "metadata": {
        "id": "4OMPoNbNMoIZ"
      }
    },
    {
      "cell_type": "code",
      "source": [
        "# AND operator : All of the condition should be true\n",
        "# OR operator : Any one condition should be true "
      ],
      "metadata": {
        "id": "mRJx1ih6GHBz"
      },
      "execution_count": 61,
      "outputs": []
    },
    {
      "cell_type": "code",
      "source": [
        "a = 10\n",
        "b = 25\n",
        "\n",
        "and_1 = (a>5) and (b>20)\n",
        "and_2 = (a>5) and (b>30)\n",
        "\n",
        "or1 = (a>=10) or (b<9)\n",
        "or2 = (a<3) or (b<5)"
      ],
      "metadata": {
        "id": "BfPdCvFTGdhM"
      },
      "execution_count": 68,
      "outputs": []
    },
    {
      "cell_type": "markdown",
      "source": [
        "#If else statement"
      ],
      "metadata": {
        "id": "DKMGPuBHOhqM"
      }
    },
    {
      "cell_type": "code",
      "source": [
        "a = 15\n",
        "b = 3"
      ],
      "metadata": {
        "id": "WDmhnJyMOg_T"
      },
      "execution_count": null,
      "outputs": []
    },
    {
      "cell_type": "markdown",
      "source": [
        "if a less than 5 then I have to print \"A is too small\"\n",
        "\n",
        "if a is greater than or equal to 5 and less than 10: then print a/b\n",
        "\n",
        "otherwise print \"a is too big\"\n"
      ],
      "metadata": {
        "id": "sqsiiKuDO3Wo"
      }
    },
    {
      "cell_type": "code",
      "source": [
        "if(a<5):\n",
        "  print(\"A is too small\")\n",
        "elif(a>=5 and a<10):\n",
        "  print(10/3)\n",
        "else:\n",
        "  print(\"a is too big\")"
      ],
      "metadata": {
        "colab": {
          "base_uri": "https://localhost:8080/"
        },
        "id": "UQLYi2yINO2O",
        "outputId": "3b36a3cd-1beb-4a6d-ebb2-ac47bdcec056"
      },
      "execution_count": 73,
      "outputs": [
        {
          "output_type": "stream",
          "name": "stdout",
          "text": [
            "a is too big\n"
          ]
        }
      ]
    },
    {
      "cell_type": "markdown",
      "source": [
        "#Question1\n",
        "\n",
        "Read a string from user and print last character of the string"
      ],
      "metadata": {
        "id": "2WVNHH1GQFz_"
      }
    },
    {
      "cell_type": "markdown",
      "source": [
        "#Question 2\n",
        "1. Read a string from user STR1.\n",
        "2. \n",
        "\n",
        "(if the length of STR1 is less than or equal to 7)\n",
        "\n",
        "    -> read 2 strings and print last character of the two strings\n",
        "\n",
        "(if the length of string is greater than or equal to 7 and less than or equal to 10 )\n",
        "\n",
        "      ->then read 3 float variables from user and print sum of that 4 variables\n",
        "\n",
        "Otherwise\n",
        "        -> print \"String is too leangthy\"\n",
        "  \n"
      ],
      "metadata": {
        "id": "jLEXuq8LQUBa"
      }
    }
  ]
}