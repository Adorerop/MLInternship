{
  "nbformat": 4,
  "nbformat_minor": 0,
  "metadata": {
    "colab": {
      "provenance": []
    },
    "kernelspec": {
      "name": "python3",
      "display_name": "Python 3"
    },
    "language_info": {
      "name": "python"
    }
  },
  "cells": [
    {
      "cell_type": "code",
      "execution_count": null,
      "metadata": {
        "id": "xMxzEDMOhM6g"
      },
      "outputs": [],
      "source": [
        "import numpy as np"
      ]
    },
    {
      "cell_type": "code",
      "source": [
        "arr = np.array([3,5,7,1,4,2,5])"
      ],
      "metadata": {
        "id": "e806sQlBicGI"
      },
      "execution_count": null,
      "outputs": []
    },
    {
      "cell_type": "code",
      "source": [
        "np.sum(arr)"
      ],
      "metadata": {
        "colab": {
          "base_uri": "https://localhost:8080/"
        },
        "id": "UDAhO-Qpib-x",
        "outputId": "1ed4829c-59d6-40ba-b7c0-6a6aede2da19"
      },
      "execution_count": null,
      "outputs": [
        {
          "output_type": "execute_result",
          "data": {
            "text/plain": [
              "27"
            ]
          },
          "metadata": {},
          "execution_count": 3
        }
      ]
    },
    {
      "cell_type": "code",
      "source": [
        "np.mean(arr), np.median(arr)"
      ],
      "metadata": {
        "colab": {
          "base_uri": "https://localhost:8080/"
        },
        "id": "GCV2kU4Niby3",
        "outputId": "cb6bf9b6-57e7-49be-857b-c534f31b709b"
      },
      "execution_count": null,
      "outputs": [
        {
          "output_type": "execute_result",
          "data": {
            "text/plain": [
              "(3.857142857142857, 4.0)"
            ]
          },
          "metadata": {},
          "execution_count": 7
        }
      ]
    },
    {
      "cell_type": "code",
      "source": [
        "np.sin(arr), np.cos(arr)"
      ],
      "metadata": {
        "colab": {
          "base_uri": "https://localhost:8080/"
        },
        "id": "7u11rnP8ivzZ",
        "outputId": "830d706c-8e90-4c9f-b311-d697cec0bb91"
      },
      "execution_count": null,
      "outputs": [
        {
          "output_type": "execute_result",
          "data": {
            "text/plain": [
              "(array([ 0.14112001, -0.95892427,  0.6569866 ,  0.84147098, -0.7568025 ,\n",
              "         0.90929743, -0.95892427]),\n",
              " array([-0.9899925 ,  0.28366219,  0.75390225,  0.54030231, -0.65364362,\n",
              "        -0.41614684,  0.28366219]))"
            ]
          },
          "metadata": {},
          "execution_count": 11
        }
      ]
    },
    {
      "cell_type": "code",
      "source": [
        "np.min(arr), np.max(arr)"
      ],
      "metadata": {
        "colab": {
          "base_uri": "https://localhost:8080/"
        },
        "id": "Pnu_t8wnjFK4",
        "outputId": "45da2a26-73bf-4104-8c1e-227b99c42396"
      },
      "execution_count": null,
      "outputs": [
        {
          "output_type": "execute_result",
          "data": {
            "text/plain": [
              "1"
            ]
          },
          "metadata": {},
          "execution_count": 13
        }
      ]
    },
    {
      "cell_type": "markdown",
      "source": [
        "#Numerical operations on 2D array"
      ],
      "metadata": {
        "id": "jMMh8NFzj1PV"
      }
    },
    {
      "cell_type": "code",
      "source": [
        "arr = np.array([[2,4,1,7],[5,2,7,1],[3,6,1,0],[5,4,3,2]])\n",
        "print(arr)"
      ],
      "metadata": {
        "colab": {
          "base_uri": "https://localhost:8080/"
        },
        "id": "uWwv31ysjbBz",
        "outputId": "0d14d7b4-30a5-4d21-a1e9-dccb2a88b571"
      },
      "execution_count": null,
      "outputs": [
        {
          "output_type": "stream",
          "name": "stdout",
          "text": [
            "[[2 4 1 7]\n",
            " [5 2 7 1]\n",
            " [3 6 1 0]\n",
            " [5 4 3 2]]\n"
          ]
        }
      ]
    },
    {
      "cell_type": "code",
      "source": [
        "np.max(arr), np.min(arr)"
      ],
      "metadata": {
        "colab": {
          "base_uri": "https://localhost:8080/"
        },
        "id": "3-4uPMMWjsHl",
        "outputId": "90fdbca1-9706-433e-fa0b-94fcfe27911a"
      },
      "execution_count": null,
      "outputs": [
        {
          "output_type": "execute_result",
          "data": {
            "text/plain": [
              "(7, 0)"
            ]
          },
          "metadata": {},
          "execution_count": 17
        }
      ]
    },
    {
      "cell_type": "code",
      "source": [
        "np.max(arr, axis = 0)\n",
        "#Column wise operation"
      ],
      "metadata": {
        "colab": {
          "base_uri": "https://localhost:8080/"
        },
        "id": "VkwugyIHkH4E",
        "outputId": "e816f301-d9a8-4054-c56f-dc9326a4d19f"
      },
      "execution_count": null,
      "outputs": [
        {
          "output_type": "execute_result",
          "data": {
            "text/plain": [
              "array([5, 6, 7, 7])"
            ]
          },
          "metadata": {},
          "execution_count": 18
        }
      ]
    },
    {
      "cell_type": "code",
      "source": [
        "np.max(arr , axis = 1)\n",
        "#Row wise operation"
      ],
      "metadata": {
        "colab": {
          "base_uri": "https://localhost:8080/"
        },
        "id": "v0ECEJUWkUCd",
        "outputId": "1717b0e4-38a3-4f57-ee1a-9627ba6dc20f"
      },
      "execution_count": null,
      "outputs": [
        {
          "output_type": "execute_result",
          "data": {
            "text/plain": [
              "array([7, 7, 6, 5])"
            ]
          },
          "metadata": {},
          "execution_count": 23
        }
      ]
    },
    {
      "cell_type": "code",
      "source": [
        "np.mean(arr, axis = 1)"
      ],
      "metadata": {
        "colab": {
          "base_uri": "https://localhost:8080/"
        },
        "id": "RSKn20yfkerc",
        "outputId": "fe57bb49-cd13-4807-f2e8-af5db6a47e4e"
      },
      "execution_count": null,
      "outputs": [
        {
          "output_type": "execute_result",
          "data": {
            "text/plain": [
              "array([3.5 , 3.75, 2.5 , 3.5 ])"
            ]
          },
          "metadata": {},
          "execution_count": 20
        }
      ]
    },
    {
      "cell_type": "code",
      "source": [
        "np.sum(arr, axis = 1)"
      ],
      "metadata": {
        "colab": {
          "base_uri": "https://localhost:8080/"
        },
        "id": "alKMJ35Dkwqt",
        "outputId": "5431a632-b85b-4427-e147-02daf7ff75ae"
      },
      "execution_count": null,
      "outputs": [
        {
          "output_type": "execute_result",
          "data": {
            "text/plain": [
              "array([14, 15, 10, 14])"
            ]
          },
          "metadata": {},
          "execution_count": 22
        }
      ]
    },
    {
      "cell_type": "code",
      "source": [
        "arr = np.array([[2,4,1,7],[5,2,7,1],[3,6,1,0],[5,4,3,2]])\n",
        "print(arr)"
      ],
      "metadata": {
        "colab": {
          "base_uri": "https://localhost:8080/"
        },
        "id": "c7dUNqAbnCdg",
        "outputId": "1654bbff-5141-42e5-c54f-355213f9ce5f"
      },
      "execution_count": null,
      "outputs": [
        {
          "output_type": "stream",
          "name": "stdout",
          "text": [
            "[[2 4 1 7]\n",
            " [5 2 7 1]\n",
            " [3 6 1 0]\n",
            " [5 4 3 2]]\n"
          ]
        }
      ]
    },
    {
      "cell_type": "code",
      "source": [
        "arr = arr + 10"
      ],
      "metadata": {
        "id": "zIul2WlpnCaW"
      },
      "execution_count": null,
      "outputs": []
    },
    {
      "cell_type": "code",
      "source": [
        "arr = arr * 10"
      ],
      "metadata": {
        "id": "y7LRriiAnCYc"
      },
      "execution_count": null,
      "outputs": []
    },
    {
      "cell_type": "code",
      "source": [
        "arr"
      ],
      "metadata": {
        "colab": {
          "base_uri": "https://localhost:8080/"
        },
        "id": "28nOSCwinvgh",
        "outputId": "a707e0ff-f9de-45b8-e9a9-66abcfc35108"
      },
      "execution_count": null,
      "outputs": [
        {
          "output_type": "execute_result",
          "data": {
            "text/plain": [
              "array([[120, 140, 110, 170],\n",
              "       [150, 120, 170, 110],\n",
              "       [130, 160, 110, 100],\n",
              "       [150, 140, 130, 120]])"
            ]
          },
          "metadata": {},
          "execution_count": 37
        }
      ]
    },
    {
      "cell_type": "code",
      "source": [
        "print(arr)"
      ],
      "metadata": {
        "colab": {
          "base_uri": "https://localhost:8080/"
        },
        "id": "sjDT_6OPnCVw",
        "outputId": "7496caa5-49a7-4d3d-8d94-b0f591bec70d"
      },
      "execution_count": null,
      "outputs": [
        {
          "output_type": "stream",
          "name": "stdout",
          "text": [
            "[[120 140 110 170]\n",
            " [150 120 170 110]\n",
            " [130 160 110 100]\n",
            " [150 140 130 120]]\n"
          ]
        }
      ]
    },
    {
      "cell_type": "code",
      "source": [
        "arr2 = np.array([[4,1,8,7],[8,3,9,4],[6,7,1,2],[6,4,3,1]])\n",
        "print(arr2)"
      ],
      "metadata": {
        "colab": {
          "base_uri": "https://localhost:8080/"
        },
        "id": "_iT4m1c0nCTj",
        "outputId": "790fc98d-9b90-4351-f0d7-f7ef371da50b"
      },
      "execution_count": null,
      "outputs": [
        {
          "output_type": "stream",
          "name": "stdout",
          "text": [
            "[[4 1 8 7]\n",
            " [8 3 9 4]\n",
            " [6 7 1 2]\n",
            " [6 4 3 1]]\n"
          ]
        }
      ]
    },
    {
      "cell_type": "code",
      "source": [
        "arr + arr2"
      ],
      "metadata": {
        "colab": {
          "base_uri": "https://localhost:8080/"
        },
        "id": "MN4ux71EnCP2",
        "outputId": "c11a727c-0474-4224-b6c2-249efc8c6cac"
      },
      "execution_count": null,
      "outputs": [
        {
          "output_type": "execute_result",
          "data": {
            "text/plain": [
              "array([[124, 141, 118, 177],\n",
              "       [158, 123, 179, 114],\n",
              "       [136, 167, 111, 102],\n",
              "       [156, 144, 133, 121]])"
            ]
          },
          "metadata": {},
          "execution_count": 38
        }
      ]
    },
    {
      "cell_type": "markdown",
      "source": [
        "#Practice code :\n",
        "\n",
        "Create 2d array having shape 4*4\n",
        "\n",
        "find columnwise minimum and store arrayvalue in l1\n",
        "\n",
        "create 2d array with shape 4*4\n",
        "\n",
        "find rowwise average and store arrayvalue in l2\n",
        "\n",
        "Perform multiplication between l1 and l2"
      ],
      "metadata": {
        "id": "lQh6n_bmoEHR"
      }
    },
    {
      "cell_type": "code",
      "source": [
        "arr1 = np.array([[1,2,3,4],[5,6,7,8],[1,2,3,5],[9,8,4,3]])"
      ],
      "metadata": {
        "id": "P9awKP0toDy6"
      },
      "execution_count": null,
      "outputs": []
    },
    {
      "cell_type": "code",
      "source": [
        "l1 = np.min(arr1, axis =0)"
      ],
      "metadata": {
        "id": "YFFCarUrnCN_"
      },
      "execution_count": null,
      "outputs": []
    },
    {
      "cell_type": "code",
      "source": [
        "arr2=np.array([[2,3,4,5],[1,2,3,4],[3,4,5,6],[1,2,5,6]])"
      ],
      "metadata": {
        "id": "2PGWnw6rpzBN"
      },
      "execution_count": null,
      "outputs": []
    },
    {
      "cell_type": "code",
      "source": [
        "l2 = np.mean(arr2, axis = 1)"
      ],
      "metadata": {
        "id": "8Q40OVIzpy4M"
      },
      "execution_count": null,
      "outputs": []
    },
    {
      "cell_type": "code",
      "source": [
        "l1 * l2"
      ],
      "metadata": {
        "colab": {
          "base_uri": "https://localhost:8080/"
        },
        "id": "hZLpTTM2py0u",
        "outputId": "69cc38de-5324-42ea-d538-f65b0212a928"
      },
      "execution_count": null,
      "outputs": [
        {
          "output_type": "execute_result",
          "data": {
            "text/plain": [
              "array([ 3.5,  5. , 13.5, 10.5])"
            ]
          },
          "metadata": {},
          "execution_count": 45
        }
      ]
    },
    {
      "cell_type": "markdown",
      "source": [
        "#Broadcasting in array"
      ],
      "metadata": {
        "id": "naqfHNK3qdLY"
      }
    },
    {
      "cell_type": "code",
      "source": [
        "arr1 = np.array([[1,2,3,4],[5,6,7,8],[1,2,3,5],[9,8,4,3]])\n",
        "print(arr1)"
      ],
      "metadata": {
        "colab": {
          "base_uri": "https://localhost:8080/"
        },
        "id": "ODXWETgLqABg",
        "outputId": "3b15a95a-94f7-4ea9-cae0-7fdac7c716ce"
      },
      "execution_count": null,
      "outputs": [
        {
          "output_type": "stream",
          "name": "stdout",
          "text": [
            "[[1 2 3 4]\n",
            " [5 6 7 8]\n",
            " [1 2 3 5]\n",
            " [9 8 4 3]]\n"
          ]
        }
      ]
    },
    {
      "cell_type": "code",
      "source": [
        "row_array = np.array([10,20,30,40])\n",
        "arr1 + row_array"
      ],
      "metadata": {
        "id": "0BzXOlQyp_7E"
      },
      "execution_count": null,
      "outputs": []
    },
    {
      "cell_type": "code",
      "source": [],
      "metadata": {
        "colab": {
          "base_uri": "https://localhost:8080/"
        },
        "id": "3z3SeYVsqyE_",
        "outputId": "56827290-235d-4279-dfd7-a8fd216b35fb"
      },
      "execution_count": null,
      "outputs": [
        {
          "output_type": "execute_result",
          "data": {
            "text/plain": [
              "array([[11, 22, 33, 44],\n",
              "       [15, 26, 37, 48],\n",
              "       [11, 22, 33, 45],\n",
              "       [19, 28, 34, 43]])"
            ]
          },
          "metadata": {},
          "execution_count": 50
        }
      ]
    },
    {
      "cell_type": "code",
      "source": [
        "col_array = np.array([[10],[20],[30],[40]])\n",
        "print(col_array)"
      ],
      "metadata": {
        "colab": {
          "base_uri": "https://localhost:8080/"
        },
        "id": "4N_uaWusrEKN",
        "outputId": "bf335542-b5c3-4adb-a8df-0e0bb7317fa1"
      },
      "execution_count": null,
      "outputs": [
        {
          "output_type": "stream",
          "name": "stdout",
          "text": [
            "[[10]\n",
            " [20]\n",
            " [30]\n",
            " [40]]\n"
          ]
        }
      ]
    },
    {
      "cell_type": "code",
      "source": [
        "arr1 + col_array"
      ],
      "metadata": {
        "colab": {
          "base_uri": "https://localhost:8080/"
        },
        "id": "jH7DI6VRrvFe",
        "outputId": "fb6204ce-a983-4743-b55e-6a05985fc223"
      },
      "execution_count": null,
      "outputs": [
        {
          "output_type": "execute_result",
          "data": {
            "text/plain": [
              "array([[11, 12, 13, 14],\n",
              "       [25, 26, 27, 28],\n",
              "       [31, 32, 33, 35],\n",
              "       [49, 48, 44, 43]])"
            ]
          },
          "metadata": {},
          "execution_count": 54
        }
      ]
    },
    {
      "cell_type": "markdown",
      "source": [
        "#Assignment code :\n",
        "\n",
        "Create one 4*4 2D array.\n",
        "\n",
        "Create one 1D array having length 4 and add that array to 2d array by rowwise broadcasting\n",
        "\n",
        "CONVERT THE ROW ARRAY TO COLUMN ARRAY.\n",
        "\n",
        "Multiply the column array on 2d array by column wise broadcasting."
      ],
      "metadata": {
        "id": "-zq0s7iusDoL"
      }
    },
    {
      "cell_type": "markdown",
      "source": [
        "#Practice code\n",
        "\n",
        "Create 2d array having shape 4*4\n",
        "\n",
        "Find array that contains average of all columns\n",
        "\n",
        "get the sum of that average array."
      ],
      "metadata": {
        "id": "f25DUE7-lNbe"
      }
    },
    {
      "cell_type": "code",
      "source": [
        "arr = np.array([[2,4,1,7],[5,2,7,1],[3,6,1,0],[5,4,3,2]])\n",
        "print(arr)"
      ],
      "metadata": {
        "colab": {
          "base_uri": "https://localhost:8080/"
        },
        "id": "VCRi0Zrck15L",
        "outputId": "b7a6af10-8816-485f-dd92-9ef9edca08bd"
      },
      "execution_count": null,
      "outputs": [
        {
          "output_type": "stream",
          "name": "stdout",
          "text": [
            "[[2 4 1 7]\n",
            " [5 2 7 1]\n",
            " [3 6 1 0]\n",
            " [5 4 3 2]]\n"
          ]
        }
      ]
    },
    {
      "cell_type": "code",
      "source": [
        "np.sum(np.mean(arr, axis = 0))"
      ],
      "metadata": {
        "colab": {
          "base_uri": "https://localhost:8080/"
        },
        "id": "Sc7xeHZJmmwb",
        "outputId": "afa52cac-4bec-439d-930a-f93d3fc05ae2"
      },
      "execution_count": null,
      "outputs": [
        {
          "output_type": "execute_result",
          "data": {
            "text/plain": [
              "13.25"
            ]
          },
          "metadata": {},
          "execution_count": 28
        }
      ]
    },
    {
      "cell_type": "code",
      "source": [],
      "metadata": {
        "id": "6fqdizg4mojH"
      },
      "execution_count": null,
      "outputs": []
    }
  ]
}