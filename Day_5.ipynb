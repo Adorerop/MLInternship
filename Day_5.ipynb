{
  "nbformat": 4,
  "nbformat_minor": 0,
  "metadata": {
    "colab": {
      "provenance": []
    },
    "kernelspec": {
      "name": "python3",
      "display_name": "Python 3"
    },
    "language_info": {
      "name": "python"
    }
  },
  "cells": [
    {
      "cell_type": "markdown",
      "source": [
        "#Assignment 1:\n",
        "#Write a table of 18 (from 1 to 30) for numbers divisible by 3 only\n",
        "\n",
        "\n",
        "18 * 3 = 54\n",
        "\n",
        "18 * 6 = 108\n",
        "\n",
        "..\n",
        "\n",
        "18 * 30 = 540"
      ],
      "metadata": {
        "id": "V8H4d5LwW2JK"
      }
    },
    {
      "cell_type": "code",
      "execution_count": null,
      "metadata": {
        "colab": {
          "base_uri": "https://localhost:8080/"
        },
        "id": "G8o8GapAWa7v",
        "outputId": "1cbfba6c-eb11-4190-dca1-af644d1eb2e0"
      },
      "outputs": [
        {
          "output_type": "stream",
          "name": "stdout",
          "text": [
            "18 *  3 =  54\n",
            "18 *  6 =  108\n",
            "18 *  9 =  162\n",
            "18 *  12 =  216\n",
            "18 *  15 =  270\n",
            "18 *  18 =  324\n",
            "18 *  21 =  378\n",
            "18 *  24 =  432\n",
            "18 *  27 =  486\n",
            "18 *  30 =  540\n"
          ]
        }
      ],
      "source": [
        "for i in range(1,31,1):\n",
        "  if(i%3 == 0):\n",
        "    print(\"18 * \", i , \"= \" , 18*i)\n",
        "\n",
        "#Alternative method\n",
        "for i in range(3,31,3):\n",
        "  print(\"18 * \", i , \"= \" , 18*i)"
      ]
    },
    {
      "cell_type": "markdown",
      "source": [
        "#Assignment 2\n",
        "#Read integer and print digit of the integer (Its not done by for loop)\n",
        "\n",
        "Example1 : 8 : Answer -1\n",
        "\n",
        "Example2 : 204 : Answer - 3\n",
        "\n",
        "Example2 : 20455 : Answer - 5"
      ],
      "metadata": {
        "id": "gMkt8gkBW6BB"
      }
    },
    {
      "cell_type": "code",
      "source": [
        "var1 = int(input())\n",
        "l = len(str(var1))"
      ],
      "metadata": {
        "colab": {
          "base_uri": "https://localhost:8080/"
        },
        "id": "MLbFrAooWfPw",
        "outputId": "3caf0f5a-0d2a-4bcb-cf04-1cf6272e1509"
      },
      "execution_count": null,
      "outputs": [
        {
          "name": "stdout",
          "output_type": "stream",
          "text": [
            "2675\n"
          ]
        }
      ]
    },
    {
      "cell_type": "markdown",
      "source": [
        "#Assignment 3\n",
        "\n",
        "Write numbers from 500 to 100 who are divisible by 5 but not divisible by 25"
      ],
      "metadata": {
        "id": "ZQ4CZMVPW-Gp"
      }
    },
    {
      "cell_type": "code",
      "source": [
        "for i in range(500,99,-1):\n",
        "  if(i%5==0 and i%25!=0):\n",
        "    print(i)"
      ],
      "metadata": {
        "id": "uUvSxgGWWfJm"
      },
      "execution_count": null,
      "outputs": []
    },
    {
      "cell_type": "markdown",
      "source": [
        "#Functions"
      ],
      "metadata": {
        "id": "I2Dd0FdlcyfC"
      }
    },
    {
      "cell_type": "code",
      "source": [
        "def function1():\n",
        "  print(\"Hello this is within function\")\n",
        "  print(\"I am newly added\")\n",
        "  print(2)\n",
        "function1()"
      ],
      "metadata": {
        "id": "qjbp1qCPWe-s"
      },
      "execution_count": null,
      "outputs": []
    },
    {
      "cell_type": "markdown",
      "source": [
        "#Function with arguments"
      ],
      "metadata": {
        "id": "Qh8bsWhfd2Q-"
      }
    },
    {
      "cell_type": "code",
      "source": [
        "def function2(var1,var2, var3):\n",
        "  var1 = \"City : \"+ var1\n",
        "  var2 = var2 + 5\n",
        "  var3 = var3* 10\n",
        "  print(var1)\n",
        "  print(var2)\n",
        "  print(var3)\n",
        "function2(\"Ahmedabad\",10,15)"
      ],
      "metadata": {
        "id": "Dxpv-0MJdRWy"
      },
      "execution_count": null,
      "outputs": []
    },
    {
      "cell_type": "markdown",
      "source": [
        "#Function that returns values"
      ],
      "metadata": {
        "id": "2pmM7T90fXc2"
      }
    },
    {
      "cell_type": "code",
      "source": [
        "def function3(var1):\n",
        "  var1 = var1 + 10\n",
        "  return(var1)\n",
        "a = function3(40)"
      ],
      "metadata": {
        "id": "ieqp0OJKdb0K"
      },
      "execution_count": null,
      "outputs": []
    },
    {
      "cell_type": "markdown",
      "source": [],
      "metadata": {
        "id": "xQkAhhQrgqBk"
      }
    },
    {
      "cell_type": "markdown",
      "source": [
        "#Practice code1\n",
        "read an integer from user r1.\n",
        "\n",
        "create function function5(var1) that takes 1 argument 'r1' variable.\n",
        "\n",
        "if r1 is less then 50, print all even numbers less then half of r1\n",
        "\n",
        "if r1 is greater than  or equal to 50 get the total digits of the number\n"
      ],
      "metadata": {
        "id": "T5l3I2kEf-XR"
      }
    },
    {
      "cell_type": "code",
      "source": [
        "r1 = int(input())\n",
        "\n",
        "def function5(r1):\n",
        "  if(r1 < 50):\n",
        "    for i in range(2,int(r1/2)+1,2):\n",
        "      print(i)\n",
        "  else:\n",
        "    l = len(str(r1))\n",
        "function5(r1)"
      ],
      "metadata": {
        "colab": {
          "base_uri": "https://localhost:8080/"
        },
        "id": "qqINiVJiearH",
        "outputId": "f14696ef-69e1-4dd7-c493-e1c5bc6cec34"
      },
      "execution_count": null,
      "outputs": [
        {
          "name": "stdout",
          "output_type": "stream",
          "text": [
            "30\n"
          ]
        }
      ]
    },
    {
      "cell_type": "markdown",
      "source": [
        "#Assignment 1\n",
        "\n",
        "Read a string from user s1 and reverse it to s2"
      ],
      "metadata": {
        "id": "MjeAxKBBN8hk"
      }
    },
    {
      "cell_type": "markdown",
      "source": [
        "#Assignment2\n",
        "\n",
        "create function that takes 4 string variables(s1,s2,s3,s4) and concat them in variable c1.\n",
        "\n",
        "if the length of c1 is less than 20, print even indexed characters of c1.\n",
        "\n",
        "else print first 10 character of string."
      ],
      "metadata": {
        "id": "amD1Dk46jw9d"
      }
    }
  ]
}