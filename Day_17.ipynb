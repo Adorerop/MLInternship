{
  "cells": [
    {
      "cell_type": "markdown",
      "metadata": {
        "dotnet_interactive": {
          "language": "csharp"
        },
        "polyglot_notebook": {
          "kernelName": "csharp"
        }
      },
      "source": [
        "#Assignment code:\n",
        "Given 2 matrix (size is 3*3) \n",
        "\n",
        "Concat them both and store them with new Matrix RES.\n",
        "\n",
        "if length of RES variable is greater than 6 print its indexes."
      ]
    },
    {
      "cell_type": "code",
      "execution_count": null,
      "metadata": {
        "dotnet_interactive": {
          "language": "csharp"
        },
        "polyglot_notebook": {
          "kernelName": "csharp"
        }
      },
      "outputs": [],
      "source": [
        "mat1 = [['abc','asd','hgf'],['sdf','sddfgh','sdf'],['qw','gh','vb']]\n",
        "mat2 = [['sa','gg','hh'],['a','k','m'],['f','g','h']]\n",
        "print(\"**************\")\n",
        "for i in mat1:\n",
        "  print(i)\n",
        "print(\"**************\")\n",
        "for i in mat2:\n",
        "  print(i)"
      ]
    },
    {
      "cell_type": "code",
      "execution_count": null,
      "metadata": {
        "dotnet_interactive": {
          "language": "csharp"
        },
        "polyglot_notebook": {
          "kernelName": "csharp"
        }
      },
      "outputs": [],
      "source": [
        "RES = []\n",
        "for i in range(3):\n",
        "  row = []\n",
        "  for j in range(3):\n",
        "    res_var = mat1[i][j]+mat2[i][j]\n",
        "    row.append(res_var)\n",
        "  RES.append(row)"
      ]
    },
    {
      "cell_type": "code",
      "execution_count": null,
      "metadata": {
        "dotnet_interactive": {
          "language": "csharp"
        },
        "polyglot_notebook": {
          "kernelName": "csharp"
        }
      },
      "outputs": [],
      "source": [
        "print(\"**************\")\n",
        "for i in RES:\n",
        "  print(i)"
      ]
    },
    {
      "cell_type": "code",
      "execution_count": null,
      "metadata": {
        "dotnet_interactive": {
          "language": "csharp"
        },
        "polyglot_notebook": {
          "kernelName": "csharp"
        }
      },
      "outputs": [],
      "source": [
        "for i in range(3):\n",
        "  for j in range(3):\n",
        "    var = RES[i][j]\n",
        "    l = len(var)\n",
        "    if(l>6):\n",
        "      print(i,j)"
      ]
    },
    {
      "cell_type": "markdown",
      "metadata": {
        "dotnet_interactive": {
          "language": "csharp"
        },
        "polyglot_notebook": {
          "kernelName": "csharp"
        }
      },
      "source": [
        "#Print 2nd row of matrix"
      ]
    },
    {
      "cell_type": "code",
      "execution_count": null,
      "metadata": {
        "dotnet_interactive": {
          "language": "csharp"
        },
        "polyglot_notebook": {
          "kernelName": "csharp"
        }
      },
      "outputs": [],
      "source": [
        "for i in RES:\n",
        "  print(i)"
      ]
    },
    {
      "cell_type": "code",
      "execution_count": null,
      "metadata": {
        "dotnet_interactive": {
          "language": "csharp"
        },
        "polyglot_notebook": {
          "kernelName": "csharp"
        }
      },
      "outputs": [],
      "source": [
        "RES[1]"
      ]
    },
    {
      "cell_type": "markdown",
      "metadata": {
        "dotnet_interactive": {
          "language": "csharp"
        },
        "polyglot_notebook": {
          "kernelName": "csharp"
        }
      },
      "source": [
        "#Print 2nd Column of matrix"
      ]
    },
    {
      "cell_type": "code",
      "execution_count": null,
      "metadata": {
        "dotnet_interactive": {
          "language": "csharp"
        },
        "polyglot_notebook": {
          "kernelName": "csharp"
        }
      },
      "outputs": [],
      "source": [
        "for i in RES:\n",
        "  print(i[1])"
      ]
    },
    {
      "cell_type": "markdown",
      "metadata": {
        "dotnet_interactive": {
          "language": "csharp"
        },
        "polyglot_notebook": {
          "kernelName": "csharp"
        }
      },
      "source": [
        "#Practice puzzle.\n",
        "Today is Monday. What will be day after 400 Days ?"
      ]
    },
    {
      "cell_type": "markdown",
      "metadata": {
        "dotnet_interactive": {
          "language": "csharp"
        },
        "polyglot_notebook": {
          "kernelName": "csharp"
        }
      },
      "source": [
        "![image.png](data:image/png;base64,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)"
      ]
    },
    {
      "cell_type": "code",
      "execution_count": null,
      "metadata": {
        "dotnet_interactive": {
          "language": "csharp"
        },
        "polyglot_notebook": {
          "kernelName": "csharp"
        }
      },
      "outputs": [],
      "source": [
        "print(400%7)\n",
        "print(\"Answer is tuesday\")"
      ]
    },
    {
      "cell_type": "markdown",
      "metadata": {
        "dotnet_interactive": {
          "language": "csharp"
        },
        "polyglot_notebook": {
          "kernelName": "csharp"
        }
      },
      "source": [
        "#datetime library"
      ]
    },
    {
      "cell_type": "markdown",
      "metadata": {
        "dotnet_interactive": {
          "language": "csharp"
        },
        "polyglot_notebook": {
          "kernelName": "csharp"
        }
      },
      "source": [
        "#Q : Get current date in python"
      ]
    },
    {
      "cell_type": "code",
      "execution_count": null,
      "metadata": {
        "dotnet_interactive": {
          "language": "csharp"
        },
        "polyglot_notebook": {
          "kernelName": "csharp"
        }
      },
      "outputs": [],
      "source": [
        "import datetime\n",
        "current_time = datetime.datetime.now()"
      ]
    },
    {
      "cell_type": "code",
      "execution_count": null,
      "metadata": {
        "dotnet_interactive": {
          "language": "csharp"
        },
        "polyglot_notebook": {
          "kernelName": "csharp"
        }
      },
      "outputs": [],
      "source": [
        "print(current_time)"
      ]
    },
    {
      "cell_type": "code",
      "execution_count": null,
      "metadata": {
        "dotnet_interactive": {
          "language": "csharp"
        },
        "polyglot_notebook": {
          "kernelName": "csharp"
        }
      },
      "outputs": [],
      "source": [
        "import datetime\n",
        " \n",
        "# using now() to get current time\n",
        "current_time = datetime.datetime.now()\n",
        " \n",
        "# Printing attributes of now().\n",
        "print(\"The attributes of now() are :\")\n",
        " \n",
        "print(\"Year :\", current_time.year)\n",
        " \n",
        "print(\"Month : \", current_time.month)\n",
        " \n",
        "print(\"Day : \", current_time.day)\n",
        " \n",
        "print(\"Hour : \", current_time.hour)\n",
        " \n",
        "print(\"Minute : \", current_time.minute)\n",
        " \n",
        "print(\"Second :\", current_time.second)\n",
        " \n",
        "print(\"Microsecond :\", current_time.microsecond)"
      ]
    },
    {
      "cell_type": "code",
      "execution_count": null,
      "metadata": {
        "dotnet_interactive": {
          "language": "csharp"
        },
        "polyglot_notebook": {
          "kernelName": "csharp"
        }
      },
      "outputs": [],
      "source": [
        "import datetime\n",
        " \n",
        "# for timezone()\n",
        "import pytz\n",
        " \n",
        "# using now() to get current time\n",
        "current_time = datetime.datetime.now(pytz.timezone('Asia/Kolkata'))\n",
        " \n",
        "# printing current time in india\n",
        "print(\"The current time in india is :\", current_time)"
      ]
    },
    {
      "cell_type": "code",
      "execution_count": null,
      "metadata": {
        "dotnet_interactive": {
          "language": "csharp"
        },
        "polyglot_notebook": {
          "kernelName": "csharp"
        }
      },
      "outputs": [],
      "source": [
        "import datetime\n",
        "from dateutil.relativedelta import relativedelta\n",
        "\n",
        "one_year_from_now = datetime.datetime.now()\n",
        "date_formated = one_year_from_now.strftime(\"%d/%m/%Y\")\n",
        "print(date_formated)"
      ]
    },
    {
      "cell_type": "markdown",
      "metadata": {
        "dotnet_interactive": {
          "language": "csharp"
        },
        "polyglot_notebook": {
          "kernelName": "csharp"
        }
      },
      "source": [
        "#Some alphabet operations"
      ]
    },
    {
      "cell_type": "code",
      "execution_count": null,
      "metadata": {
        "dotnet_interactive": {
          "language": "csharp"
        },
        "polyglot_notebook": {
          "kernelName": "csharp"
        }
      },
      "outputs": [],
      "source": [
        "ch1 = 'a'\n",
        "ch2 = 'A'\n",
        "\n",
        "str1 = \"PYTHON\"\n",
        "str2 = \"python\""
      ]
    },
    {
      "cell_type": "code",
      "execution_count": null,
      "metadata": {
        "dotnet_interactive": {
          "language": "csharp"
        },
        "polyglot_notebook": {
          "kernelName": "csharp"
        }
      },
      "outputs": [],
      "source": [
        "print(ch1.isupper())\n",
        "print(ch1.islower())\n",
        "\n",
        "print(ch2.isupper())\n",
        "print(ch2.islower())"
      ]
    },
    {
      "cell_type": "code",
      "execution_count": null,
      "metadata": {
        "dotnet_interactive": {
          "language": "csharp"
        },
        "polyglot_notebook": {
          "kernelName": "csharp"
        }
      },
      "outputs": [],
      "source": [
        "print(str1.isupper())\n",
        "print(str1.islower())\n",
        "\n",
        "print(str2.isupper())\n",
        "print(str2.islower())"
      ]
    },
    {
      "cell_type": "code",
      "execution_count": null,
      "metadata": {
        "dotnet_interactive": {
          "language": "csharp"
        },
        "polyglot_notebook": {
          "kernelName": "csharp"
        }
      },
      "outputs": [],
      "source": [
        "convt = str1.lower()\n",
        "print(convt)\n",
        "\n",
        "cvt = str2.upper()\n",
        "print(cvt)"
      ]
    },
    {
      "cell_type": "markdown",
      "metadata": {
        "dotnet_interactive": {
          "language": "csharp"
        },
        "polyglot_notebook": {
          "kernelName": "csharp"
        }
      },
      "source": [
        "#Assignment code 1\n",
        "\n",
        "Find a method to check if the character is alphabet or not.\n"
      ]
    },
    {
      "cell_type": "code",
      "execution_count": 6,
      "metadata": {},
      "outputs": [
        {
          "name": "stdout",
          "output_type": "stream",
          "text": [
            "True\n"
          ]
        }
      ],
      "source": [
        "str=\"ghgf\"\n",
        "print(str.isalpha())"
      ]
    },
    {
      "cell_type": "markdown",
      "metadata": {
        "dotnet_interactive": {
          "language": "csharp"
        },
        "polyglot_notebook": {
          "kernelName": "csharp"
        }
      },
      "source": [
        "#Assignment code 2\n",
        "\n",
        "Given a string  \n",
        "\n",
        "Convert all uppercase character to lower case and all lowercase to uppercase. "
      ]
    },
    {
      "cell_type": "code",
      "execution_count": null,
      "metadata": {
        "dotnet_interactive": {
          "language": "csharp"
        },
        "polyglot_notebook": {
          "kernelName": "csharp"
        }
      },
      "outputs": [],
      "source": [
        "inp =  \"Hi, How Are YOU?\"\n",
        "expected_output = \"hI, hOW aRE you?\""
      ]
    },
    {
      "cell_type": "code",
      "execution_count": 7,
      "metadata": {
        "dotnet_interactive": {
          "language": "csharp"
        },
        "polyglot_notebook": {
          "kernelName": "csharp"
        }
      },
      "outputs": [],
      "source": [
        "str=\"Hi, How Are YOU?\"\n",
        "print(str.swapcase())"
      ]
    }
  ],
  "metadata": {
    "kernelspec": {
      "display_name": "Python 3",
      "language": "python",
      "name": "python3"
    },
    "language_info": {
      "codemirror_mode": {
        "name": "ipython",
        "version": 3
      },
      "file_extension": ".py",
      "mimetype": "text/x-python",
      "name": "python",
      "nbconvert_exporter": "python",
      "pygments_lexer": "ipython3",
      "version": "3.10.9"
    },
    "polyglot_notebook": {
      "kernelInfo": {
        "defaultKernelName": "csharp",
        "items": [
          {
            "aliases": [],
            "name": "csharp"
          },
          {
            "aliases": [
              "frontend"
            ],
            "languageName": null,
            "name": "vscode"
          }
        ]
      }
    },
    "vscode": {
      "interpreter": {
        "hash": "ad07ebab88d1e5b94220597f580ab388a2da609d4a866ff34500956748c9067d"
      }
    }
  },
  "nbformat": 4,
  "nbformat_minor": 2
}
