{
  "nbformat": 4,
  "nbformat_minor": 0,
  "metadata": {
    "colab": {
      "provenance": []
    },
    "kernelspec": {
      "name": "python3",
      "display_name": "Python 3"
    },
    "language_info": {
      "name": "python"
    }
  },
  "cells": [
    {
      "cell_type": "markdown",
      "source": [
        "#Assignment 1\n",
        "\n",
        "Given a list that contains lists.\n",
        "create dictionary where 1st element will be key and rest of the element will be values(in list format)"
      ],
      "metadata": {
        "id": "wR8XkWHDcXBi"
      }
    },
    {
      "cell_type": "code",
      "execution_count": 13,
      "metadata": {
        "id": "mwy8jj32cVIY"
      },
      "outputs": [],
      "source": [
        "inp = [['abc',12,23,45,56,44], ['pqrs',55,66,77,89,56], ['xyz',34,6], ['opst',45,67,897,7,7]]"
      ]
    },
    {
      "cell_type": "code",
      "source": [
        "dict1 = {}\n",
        "\n",
        "for i in inp:\n",
        "  key = i[0]\n",
        "  value = i[1:]\n",
        "\n",
        "  dict1[key] = value\n",
        "\n",
        "print(dict1)"
      ],
      "metadata": {
        "id": "fjJhcj3Lcdeo"
      },
      "execution_count": 14,
      "outputs": []
    },
    {
      "cell_type": "markdown",
      "source": [
        "#Dictionaries in list"
      ],
      "metadata": {
        "id": "a-nvdlB8gXm2"
      }
    },
    {
      "cell_type": "code",
      "source": [
        "l = [11,23,4,'abc',4.5,[4,5,6],True]"
      ],
      "metadata": {
        "id": "TQjZDO6LeYwJ"
      },
      "execution_count": 17,
      "outputs": []
    },
    {
      "cell_type": "code",
      "source": [
        "d1 = {\n",
        "    'name':'Parth',\n",
        "    'city':'Modasa'\n",
        "}\n",
        "d2 = {\n",
        "    'name' : 'Sagar',\n",
        "    'city' : 'Abd'\n",
        "}\n",
        "d3 = {\n",
        "    'name' : 'Jay',\n",
        "    'city' : 'Gng'\n",
        "}"
      ],
      "metadata": {
        "id": "n3UOog39ee5_"
      },
      "execution_count": 18,
      "outputs": []
    },
    {
      "cell_type": "code",
      "source": [
        "l2 = [d1,d2, d3] "
      ],
      "metadata": {
        "id": "B05Q032HfoSf"
      },
      "execution_count": 20,
      "outputs": []
    },
    {
      "cell_type": "code",
      "source": [
        "l2"
      ],
      "metadata": {
        "colab": {
          "base_uri": "https://localhost:8080/"
        },
        "id": "lbBszIAkgVs9",
        "outputId": "1a8ef04d-f043-4669-b1df-fa35be72574d"
      },
      "execution_count": 21,
      "outputs": [
        {
          "output_type": "execute_result",
          "data": {
            "text/plain": [
              "[{'name': 'Parth', 'city': 'Modasa'},\n",
              " {'name': 'Sagar', 'city': 'Abd'},\n",
              " {'name': 'Jay', 'city': 'Gng'}]"
            ]
          },
          "metadata": {},
          "execution_count": 21
        }
      ]
    },
    {
      "cell_type": "markdown",
      "source": [
        "#Practice assignment\n",
        "\n",
        "Read n integer from user where n is total number of students in lab.\n",
        "\n",
        "for each and every student create dictionary with keys \"Name\" and \"Marks\"\n",
        "\n",
        "\"Id\" : Value should be Auto oncreament start from 1000\n",
        "\n",
        "\"Name\" : Read it from user\n",
        "\n",
        "\"Marks\" : Read it from user\n"
      ],
      "metadata": {
        "id": "AxCLErhfhlEe"
      }
    },
    {
      "cell_type": "code",
      "source": [
        "n = int(input())"
      ],
      "metadata": {
        "colab": {
          "base_uri": "https://localhost:8080/"
        },
        "id": "ORS6Tz7Cg8KH",
        "outputId": "304792d5-c2e1-4e67-cabc-8c2aeb52cf93"
      },
      "execution_count": 22,
      "outputs": [
        {
          "name": "stdout",
          "output_type": "stream",
          "text": [
            "3\n"
          ]
        }
      ]
    },
    {
      "cell_type": "code",
      "source": [
        "expected_output = [{\"Name\":\"Parth\",\"Marks\":40},{\"Name\":\"Sagar\",\"Marks\":50},{\"Name\":\"Yash\",\"Marks\":50}]"
      ],
      "metadata": {
        "id": "XBzQdt2vixFt"
      },
      "execution_count": 23,
      "outputs": []
    },
    {
      "cell_type": "code",
      "source": [
        "l1 = []\n",
        "\n",
        "for i in range(n):\n",
        "  id = i + 1000\n",
        "  name = input(\"Enter name\")\n",
        "  marks = int(input(\"Enter marks\"))\n",
        "\n",
        "  dict1 = {\"Id\" : id ,\"Name\":name , \"Marks\" : marks}\n",
        "\n",
        "  l1.append(dict1)"
      ],
      "metadata": {
        "colab": {
          "base_uri": "https://localhost:8080/"
        },
        "id": "UY_R5afAjQtD",
        "outputId": "fbc5b5c7-5f6b-463b-8733-69b4a81996a4"
      },
      "execution_count": 29,
      "outputs": [
        {
          "name": "stdout",
          "output_type": "stream",
          "text": [
            "Enter nameParth\n",
            "Enter marks30\n",
            "Enter nameRaj\n",
            "Enter marks40\n",
            "Enter nameSagar\n",
            "Enter marks70\n"
          ]
        }
      ]
    },
    {
      "cell_type": "code",
      "source": [
        "print(l1)"
      ],
      "metadata": {
        "colab": {
          "base_uri": "https://localhost:8080/"
        },
        "id": "wXxEqpLzk2Ic",
        "outputId": "add9986b-24ff-449d-9b58-02df603a71dc"
      },
      "execution_count": 30,
      "outputs": [
        {
          "output_type": "stream",
          "name": "stdout",
          "text": [
            "[{'Id': 1000, 'Name': 'Parth', 'Marks': 30}, {'Id': 1001, 'Name': 'Raj', 'Marks': 40}, {'Id': 1002, 'Name': 'Sagar', 'Marks': 70}]\n"
          ]
        }
      ]
    },
    {
      "cell_type": "code",
      "source": [],
      "metadata": {
        "id": "kjbkQ2TylElt"
      },
      "execution_count": null,
      "outputs": []
    },
    {
      "cell_type": "markdown",
      "source": [
        "#Practice assignment 2\n",
        "\n",
        "(1)Read n integer from user where n is total number of employees in firm.\n",
        "\n",
        "(2)\n",
        "\n",
        "for each and every employee create dictionary with keys \"Name\" and \"Grade\"\n",
        "\n",
        "\"Name\" : Read it from user\n",
        "\n",
        "\"Grade\" : Read it from user (It should be integer from 1 to 10)\n",
        "\n",
        "(3)\n",
        "Create 2 lists 'excelent' and 'improvement'.\n",
        "\n",
        "If employee grade is greater than or equal to 7 put employee to 'excellent' dictionary or else put him to 'improvement' dictionary"
      ],
      "metadata": {
        "id": "qDopMExUoBqU"
      }
    },
    {
      "cell_type": "code",
      "source": [
        "#1\n",
        "n = int(input(\"Enter total number of Employees\"))"
      ],
      "metadata": {
        "colab": {
          "base_uri": "https://localhost:8080/"
        },
        "id": "CxJtZD_zpGrn",
        "outputId": "949ca249-36f5-431f-e1ad-a54b5ffd4c49"
      },
      "execution_count": 31,
      "outputs": [
        {
          "name": "stdout",
          "output_type": "stream",
          "text": [
            "Enter total number of Employees3\n"
          ]
        }
      ]
    },
    {
      "cell_type": "code",
      "source": [
        "l2 = []\n",
        "for i in range(n):\n",
        "  name = input(\"Enter Name \")\n",
        "  grade = int(input(\"Enger Grade\"))\n",
        "\n",
        "  dict1 = {\"Name\" : name , \"Grade\" : grade}\n",
        "  l2.append(dict1)"
      ],
      "metadata": {
        "colab": {
          "base_uri": "https://localhost:8080/"
        },
        "id": "hhogSbnGpHhx",
        "outputId": "e387f50c-e5ed-4b4b-800a-1a8d5a9fbc00"
      },
      "execution_count": 32,
      "outputs": [
        {
          "name": "stdout",
          "output_type": "stream",
          "text": [
            "Enter Name Parth\n",
            "Enger Grade5\n",
            "Enter Name Harsh\n",
            "Enger Grade8\n",
            "Enter Name Shiv\n",
            "Enger Grade4\n"
          ]
        }
      ]
    },
    {
      "cell_type": "code",
      "source": [
        "print(l2)"
      ],
      "metadata": {
        "colab": {
          "base_uri": "https://localhost:8080/"
        },
        "id": "h8Kpb3mLpHeW",
        "outputId": "59a857b7-ac7c-4309-db0c-af9fe34c31b8"
      },
      "execution_count": 33,
      "outputs": [
        {
          "output_type": "stream",
          "name": "stdout",
          "text": [
            "[{'Name': 'Parth', 'Grade': 5}, {'Name': 'Harsh', 'Grade': 8}, {'Name': 'Shiv', 'Grade': 4}]\n"
          ]
        }
      ]
    },
    {
      "cell_type": "code",
      "source": [
        "excelent = []\n",
        "improvement = []"
      ],
      "metadata": {
        "id": "uyI2YKnrpHQi"
      },
      "execution_count": 37,
      "outputs": []
    },
    {
      "cell_type": "code",
      "source": [
        "for i in l2:\n",
        "  if(i[\"Grade\"]>=7):\n",
        "    excelent.append(i)\n",
        "  else:\n",
        "    improvement.append(i)"
      ],
      "metadata": {
        "id": "nudna7T7q93Z"
      },
      "execution_count": 38,
      "outputs": []
    },
    {
      "cell_type": "code",
      "source": [
        "print(excelent)"
      ],
      "metadata": {
        "colab": {
          "base_uri": "https://localhost:8080/"
        },
        "id": "RcYDWJXQrtNp",
        "outputId": "7ec09763-d15e-4bd1-d4b7-b6de16ccfdf2"
      },
      "execution_count": 39,
      "outputs": [
        {
          "output_type": "stream",
          "name": "stdout",
          "text": [
            "[{'Name': 'Harsh', 'Grade': 8}]\n"
          ]
        }
      ]
    },
    {
      "cell_type": "code",
      "source": [
        "print(improvement)"
      ],
      "metadata": {
        "colab": {
          "base_uri": "https://localhost:8080/"
        },
        "id": "S6Vl2Wscsdk7",
        "outputId": "f2ae5af7-f706-4ab7-ae98-a5065493ed83"
      },
      "execution_count": 40,
      "outputs": [
        {
          "output_type": "stream",
          "name": "stdout",
          "text": [
            "[{'Name': 'Parth', 'Grade': 5}, {'Name': 'Shiv', 'Grade': 4}]\n"
          ]
        }
      ]
    },
    {
      "cell_type": "code",
      "source": [],
      "metadata": {
        "id": "SI34OpOksk18"
      },
      "execution_count": null,
      "outputs": []
    }
  ]
}