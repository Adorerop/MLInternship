{
  "nbformat": 4,
  "nbformat_minor": 0,
  "metadata": {
    "colab": {
      "provenance": []
    },
    "kernelspec": {
      "name": "python3",
      "display_name": "Python 3"
    },
    "language_info": {
      "name": "python"
    }
  },
  "cells": [
    {
      "cell_type": "markdown",
      "source": [
        "#Yesterdays assignment :Question1\n",
        "\n",
        "Read a string from user and print last character of the string"
      ],
      "metadata": {
        "id": "ksvW4aCbCNEk"
      }
    },
    {
      "cell_type": "code",
      "source": [
        "str1 = input()\n",
        "ch = str1[-1]\n",
        "print(ch)"
      ],
      "metadata": {
        "colab": {
          "base_uri": "https://localhost:8080/"
        },
        "id": "DyUm8XKLCNgJ",
        "outputId": "f2daf5ed-c9da-46a4-e89b-579442a857d1"
      },
      "execution_count": 1,
      "outputs": [
        {
          "name": "stdout",
          "output_type": "stream",
          "text": [
            "Gandhinagar\n"
          ]
        }
      ]
    },
    {
      "cell_type": "markdown",
      "source": [
        "#Yesterdays assignment :Question 2\n",
        "1. Read a string from user STR1.\n",
        "2. \n",
        "\n",
        "(if the length of STR1 is less than or equal to 7)\n",
        "\n",
        "    -> read 2 strings and print last character of the two strings\n",
        "\n",
        "(if the length of string is greater than or equal to 7 and less than or equal to 10 )\n",
        "\n",
        "      ->then read 3 float variables from user and print sum of that 4 variables\n",
        "\n",
        "Otherwise\n",
        "        -> print \"String is too leangthy\""
      ],
      "metadata": {
        "id": "yYqo9VuNCKE5"
      }
    },
    {
      "cell_type": "code",
      "execution_count": 5,
      "metadata": {
        "colab": {
          "base_uri": "https://localhost:8080/"
        },
        "id": "7N_6E5isCJRc",
        "outputId": "45deea5a-732c-4231-f443-dbac8404ffe2"
      },
      "outputs": [
        {
          "output_type": "stream",
          "name": "stdout",
          "text": [
            "abcd\n",
            "pqr\n",
            "d r\n"
          ]
        }
      ],
      "source": [
        "\n",
        "STR1 = 'Ahmedab'\n",
        "\n",
        "l = len(STR1)\n",
        "if(l<=7):\n",
        "  s1 = input()\n",
        "  s2 = input()\n",
        "  print(s1[-1], s2[-1])\n",
        "elif(l>=7 and l<=10):\n",
        "  f1 = float(input())\n",
        "  f2 = float(input())\n",
        "  f3 = float(input())\n",
        "  print(f1+f2+f3)\n",
        "else:\n",
        "  print(\"String is too leangthy\")"
      ]
    },
    {
      "cell_type": "markdown",
      "source": [
        "#Modulo operator"
      ],
      "metadata": {
        "id": "DNcz1crtLKUS"
      }
    },
    {
      "cell_type": "code",
      "source": [
        "a = 10 \n",
        "if(a%2 == 0):\n",
        "  print(\"Even\")\n",
        "else:\n",
        "  print(\"Odd\")"
      ],
      "metadata": {
        "colab": {
          "base_uri": "https://localhost:8080/"
        },
        "id": "MOagwfxILI6I",
        "outputId": "9b66065b-a41b-473f-b716-b05d640171a6"
      },
      "execution_count": 6,
      "outputs": [
        {
          "output_type": "execute_result",
          "data": {
            "text/plain": [
              "2"
            ]
          },
          "metadata": {},
          "execution_count": 6
        }
      ]
    },
    {
      "cell_type": "markdown",
      "source": [
        "#Nested if else "
      ],
      "metadata": {
        "id": "t5jNsS4mKbaO"
      }
    },
    {
      "cell_type": "markdown",
      "source": [
        "Read integer from user \n",
        "\n",
        "if number is greater than 100\n",
        "\n",
        "    if number is odd \n",
        "\n",
        "        then print (Big and ODD)\n",
        "    if number is even\n",
        "\n",
        "        then print (Big and Even)\n",
        "\n",
        "if number is less than or equal to 100\n",
        "\n",
        "      if number is odd \n",
        "\n",
        "        then print (Small and ODD)\n",
        "        \n",
        "     if number is even\n",
        "        then print (Small and Even)\n"
      ],
      "metadata": {
        "id": "ByZ4VgW0Keix"
      }
    },
    {
      "cell_type": "code",
      "source": [
        "i = int(input())\n",
        "if(i>100):\n",
        "  if(i%2 == 1):\n",
        "    print(\"Big and ODD\")\n",
        "  else:\n",
        "    print(\"Big and Even\")\n",
        "else:\n",
        "  if(i%2 ==1):\n",
        "    print(\"Small and ODD\")\n",
        "  else:\n",
        "    print(\"Small and Even\")"
      ],
      "metadata": {
        "colab": {
          "base_uri": "https://localhost:8080/"
        },
        "id": "vCryfRHOIakm",
        "outputId": "358bc9ac-edc8-40ac-8643-0ef337bd0e25"
      },
      "execution_count": 7,
      "outputs": [
        {
          "output_type": "stream",
          "name": "stdout",
          "text": [
            "23\n",
            "Small and ODD\n"
          ]
        }
      ]
    },
    {
      "cell_type": "markdown",
      "source": [
        "#For loop"
      ],
      "metadata": {
        "id": "NqiWM8JQNts8"
      }
    },
    {
      "cell_type": "code",
      "source": [
        "#print numbers from 17 to 45\n",
        "for i in range(17,46,1):\n",
        "  print(i)"
      ],
      "metadata": {
        "colab": {
          "base_uri": "https://localhost:8080/"
        },
        "id": "yZ3imd5ONTSI",
        "outputId": "cb2c11c2-73f5-4fde-c67b-14bb8c994791"
      },
      "execution_count": 10,
      "outputs": [
        {
          "output_type": "stream",
          "name": "stdout",
          "text": [
            "17\n",
            "18\n",
            "19\n",
            "20\n",
            "21\n",
            "22\n",
            "23\n",
            "24\n",
            "25\n",
            "26\n",
            "27\n",
            "28\n",
            "29\n",
            "30\n",
            "31\n",
            "32\n",
            "33\n",
            "34\n",
            "35\n",
            "36\n",
            "37\n",
            "38\n",
            "39\n",
            "40\n",
            "41\n",
            "42\n",
            "43\n",
            "44\n",
            "45\n"
          ]
        }
      ]
    },
    {
      "cell_type": "code",
      "source": [
        "#Print even numbers from 1 to 50\n",
        "for i in range(2,51,2):\n",
        "  print(i)\n",
        "  \n",
        "#Alternative method\n",
        "for i in range(1,51,1):\n",
        "  if(i%2 == 0):\n",
        "    print(i)"
      ],
      "metadata": {
        "id": "6FTFyhDMNTOk"
      },
      "execution_count": 12,
      "outputs": []
    },
    {
      "cell_type": "markdown",
      "source": [
        "# Write table of 18 (from 1 to 10)\n",
        "\n",
        "18 * 1 = 18\n",
        "\n",
        "18 * 2 = 36\n",
        "\n",
        ".\n",
        ".\n",
        "\n",
        "18 * 10 = 180"
      ],
      "metadata": {
        "id": "_HK7FqZ6P5wN"
      }
    },
    {
      "cell_type": "code",
      "source": [
        "for i in range(1,11,1):\n",
        "  print(\"18 *\",i, \"=\", 18*i)"
      ],
      "metadata": {
        "colab": {
          "base_uri": "https://localhost:8080/"
        },
        "id": "PpR3SUXyNTMf",
        "outputId": "7b66b3e9-f37e-4e9b-fd6b-aa87fea85d9c"
      },
      "execution_count": 13,
      "outputs": [
        {
          "output_type": "stream",
          "name": "stdout",
          "text": [
            "18 * 1 = 18\n",
            "18 * 2 = 36\n",
            "18 * 3 = 54\n",
            "18 * 4 = 72\n",
            "18 * 5 = 90\n",
            "18 * 6 = 108\n",
            "18 * 7 = 126\n",
            "18 * 8 = 144\n",
            "18 * 9 = 162\n",
            "18 * 10 = 180\n"
          ]
        }
      ]
    },
    {
      "cell_type": "markdown",
      "source": [
        "#Reverse for loop"
      ],
      "metadata": {
        "id": "vK1cqg9wSZ5Q"
      }
    },
    {
      "cell_type": "code",
      "source": [
        "for i in range(20,9,-1):\n",
        "  print(i)"
      ],
      "metadata": {
        "colab": {
          "base_uri": "https://localhost:8080/"
        },
        "id": "Zct2VKzdSZSc",
        "outputId": "d60e1ab2-93ad-4284-8947-375381715658"
      },
      "execution_count": 15,
      "outputs": [
        {
          "output_type": "stream",
          "name": "stdout",
          "text": [
            "20\n",
            "19\n",
            "18\n",
            "17\n",
            "16\n",
            "15\n",
            "14\n",
            "13\n",
            "12\n",
            "11\n",
            "10\n"
          ]
        }
      ]
    },
    {
      "cell_type": "markdown",
      "source": [
        "#Write a reverse for loop to print values from 100 to 10 who are divisible either 5 or 3"
      ],
      "metadata": {
        "id": "lmxAHVkrSvxR"
      }
    },
    {
      "cell_type": "code",
      "source": [
        "for i in range(100,9,-1):\n",
        "  if(i%5==0 or i%3 ==0):\n",
        "    print(i)"
      ],
      "metadata": {
        "colab": {
          "base_uri": "https://localhost:8080/"
        },
        "id": "Oit354eJNTJp",
        "outputId": "81921c95-96d2-47ce-e524-577eafc37431"
      },
      "execution_count": 16,
      "outputs": [
        {
          "output_type": "stream",
          "name": "stdout",
          "text": [
            "100\n",
            "99\n",
            "96\n",
            "95\n",
            "93\n",
            "90\n",
            "87\n",
            "85\n",
            "84\n",
            "81\n",
            "80\n",
            "78\n",
            "75\n",
            "72\n",
            "70\n",
            "69\n",
            "66\n",
            "65\n",
            "63\n",
            "60\n",
            "57\n",
            "55\n",
            "54\n",
            "51\n",
            "50\n",
            "48\n",
            "45\n",
            "42\n",
            "40\n",
            "39\n",
            "36\n",
            "35\n",
            "33\n",
            "30\n",
            "27\n",
            "25\n",
            "24\n",
            "21\n",
            "20\n",
            "18\n",
            "15\n",
            "12\n",
            "10\n"
          ]
        }
      ]
    },
    {
      "cell_type": "markdown",
      "source": [
        "#Assignment 1:\n",
        "#Write a table of 18 (from 1 to 30) for numbers divisible by 3 only\n",
        "\n",
        "\n",
        "18 * 3 = 54\n",
        "\n",
        "18 * 6 = 108\n",
        "\n",
        "..\n",
        "\n",
        "18 * 30 = 540\n"
      ],
      "metadata": {
        "id": "hP5UwN_bRH9v"
      }
    },
    {
      "cell_type": "markdown",
      "source": [
        "#Assignment 2\n",
        "#Read integer and print digit of the integer (Its not done by for loop)\n",
        "\n",
        "Example1 : 8 : Answer -1\n",
        "\n",
        "Example2 : 204 : Answer - 3\n",
        "\n",
        "Example2 : 20455 : Answer - 5\n"
      ],
      "metadata": {
        "id": "s1qFaQbHR2ZI"
      }
    },
    {
      "cell_type": "markdown",
      "source": [
        "#Assignment 3\n",
        "\n",
        "Write numbers from 500 to 100 who are divisible by 5 but not divisible by 25"
      ],
      "metadata": {
        "id": "Xhc_dj29UtOR"
      }
    }
  ]
}