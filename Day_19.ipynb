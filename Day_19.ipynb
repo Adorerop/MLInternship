{
  "cells": [
    {
      "cell_type": "markdown",
      "metadata": {
        "id": "150phoU443hm"
      },
      "source": [
        "#OOP  : Object Oriented Programing"
      ]
    },
    {
      "cell_type": "markdown",
      "metadata": {
        "id": "IvmxgMCb5C7T"
      },
      "source": [
        "#Class and Objects:\n",
        "\n",
        "Class is collection of objects.\n",
        "All objects in same class have same behaviours."
      ]
    },
    {
      "cell_type": "code",
      "execution_count": 1,
      "metadata": {
        "id": "OWkHmTzk4YL-"
      },
      "outputs": [],
      "source": [
        "class Teacher:\n",
        "  name = \"\"\n",
        "  designation =\"\""
      ]
    },
    {
      "cell_type": "code",
      "execution_count": 2,
      "metadata": {
        "id": "n_HxQ66q6-ZU"
      },
      "outputs": [],
      "source": [
        "p1 = Teacher()"
      ]
    },
    {
      "cell_type": "code",
      "execution_count": 3,
      "metadata": {
        "id": "2N1932JO7Dau"
      },
      "outputs": [],
      "source": [
        "p1.name = \"Parth\"\n",
        "p1.designation = \"Developer\""
      ]
    },
    {
      "cell_type": "code",
      "execution_count": 5,
      "metadata": {
        "id": "3XXsvnbb7dHu"
      },
      "outputs": [],
      "source": [
        "p2 = Teacher()\n",
        "p2.name = \"Sagar\"\n",
        "p2.designation = \"Senior Develoer\""
      ]
    },
    {
      "cell_type": "code",
      "execution_count": 6,
      "metadata": {
        "id": "S6RC7rrT7w5l"
      },
      "outputs": [],
      "source": [
        "class Student:\n",
        "  name = \"\"\n",
        "  id = \"\"\n",
        "  batch = \"\""
      ]
    },
    {
      "cell_type": "code",
      "execution_count": 7,
      "metadata": {
        "id": "y7DCBDXJ755_"
      },
      "outputs": [],
      "source": [
        "r1 = Student()\n",
        "r1.name = \"Ravi\"\n",
        "r1.id = \"1\"\n",
        "r1.batch = \"Data Science\""
      ]
    },
    {
      "cell_type": "code",
      "execution_count": 8,
      "metadata": {
        "colab": {
          "base_uri": "https://localhost:8080/"
        },
        "id": "FWoGqatK8C89",
        "outputId": "b3e23cf6-d4be-472c-eb71-ebe0678e95a1"
      },
      "outputs": [
        {
          "name": "stdout",
          "output_type": "stream",
          "text": [
            "<__main__.Student object at 0x7f7d23628c10>\n"
          ]
        }
      ],
      "source": [
        "print(r1)"
      ]
    },
    {
      "cell_type": "code",
      "execution_count": 10,
      "metadata": {
        "colab": {
          "base_uri": "https://localhost:8080/"
        },
        "id": "HK6JKnYN8Frz",
        "outputId": "0375a89a-a89e-4bba-d280-aeb86fdbf0bf"
      },
      "outputs": [
        {
          "name": "stdout",
          "output_type": "stream",
          "text": [
            "Data Science\n"
          ]
        }
      ],
      "source": [
        "print(r1.batch)"
      ]
    },
    {
      "cell_type": "markdown",
      "metadata": {
        "id": "rdHyzFB68XOj"
      },
      "source": [
        "#Self keyword\n",
        "It is object of same class"
      ]
    },
    {
      "cell_type": "code",
      "execution_count": null,
      "metadata": {
        "id": "hCTviNYw8lFO"
      },
      "outputs": [],
      "source": [
        "__init__() method"
      ]
    },
    {
      "cell_type": "code",
      "execution_count": 20,
      "metadata": {
        "id": "AlwiWh3I8WwQ"
      },
      "outputs": [],
      "source": [
        "class Student:\n",
        "  name = \"\"\n",
        "  id = \"\"\n",
        "  batch = \"\"\n",
        "  def __init__(self,name,id):\n",
        "    self.name = name\n",
        "    self.id = id"
      ]
    },
    {
      "cell_type": "code",
      "execution_count": 24,
      "metadata": {
        "id": "nhSVBNbi8NZV"
      },
      "outputs": [],
      "source": [
        "s1 = Student(\"Raj\",\"5\")"
      ]
    },
    {
      "cell_type": "markdown",
      "metadata": {
        "id": "tohp8Xm2_cDv"
      },
      "source": [
        "#Methods within class"
      ]
    },
    {
      "cell_type": "code",
      "execution_count": 25,
      "metadata": {
        "id": "W1mbJhf2_a4-"
      },
      "outputs": [],
      "source": [
        "class Person:\n",
        "  id = \"\"\n",
        "  name = \"\"\n",
        "  def __init__(self,id,name):\n",
        "    self.id =id\n",
        "    self.name = name\n",
        "  def speak(self):\n",
        "    print(\"My name is \", self.name)"
      ]
    },
    {
      "cell_type": "code",
      "execution_count": 26,
      "metadata": {
        "id": "DLBW9_Bj9wwv"
      },
      "outputs": [],
      "source": [
        "p1 = Person(\"1\",\"Jay\")"
      ]
    },
    {
      "cell_type": "code",
      "execution_count": 27,
      "metadata": {
        "colab": {
          "base_uri": "https://localhost:8080/"
        },
        "id": "tz5BaWU296b7",
        "outputId": "4757aa9c-0a64-44f4-ee4f-fb92010ce856"
      },
      "outputs": [
        {
          "name": "stdout",
          "output_type": "stream",
          "text": [
            "Jay\n"
          ]
        }
      ],
      "source": [
        "print(p1.name)"
      ]
    },
    {
      "cell_type": "code",
      "execution_count": 28,
      "metadata": {
        "colab": {
          "base_uri": "https://localhost:8080/"
        },
        "id": "Akxs06wD-xXk",
        "outputId": "35e58b91-4ca6-4ca3-cc6e-724e63663079"
      },
      "outputs": [
        {
          "name": "stdout",
          "output_type": "stream",
          "text": [
            "My name is  Jay\n"
          ]
        }
      ],
      "source": [
        "p1.speak()"
      ]
    },
    {
      "cell_type": "markdown",
      "metadata": {
        "id": "kwEP7KYJBGgZ"
      },
      "source": [
        "Create Vehicle class having 2 variables\n",
        "\n",
        "(1) vehicle_name\n",
        "\n",
        "(2) number_of_tires\n",
        "\n",
        "\n",
        "create init method to set 2 variables\n",
        "\n",
        "**************************************\n",
        "\n",
        "Create 2 objects\n",
        "\n",
        "1) vehicle_name = \"Car\" , number_of_tires = 4\n",
        "\n",
        "2) vehicle_name = \"Truck\", number_of_tires = 8"
      ]
    },
    {
      "cell_type": "code",
      "execution_count": 3,
      "metadata": {
        "id": "UVU3whCqAihk"
      },
      "outputs": [],
      "source": [
        "class Vehicle:\n",
        "  vehicle_name = \"\"\n",
        "  number_of_tires = 0\n",
        "  \n",
        "  def __init__(self, v1, nt):\n",
        "    self.vehicle_name = v1\n",
        "    self.number_of_tires = nt"
      ]
    },
    {
      "cell_type": "code",
      "execution_count": 4,
      "metadata": {
        "id": "WjipCHxxDd_W"
      },
      "outputs": [],
      "source": [
        "c1 = Vehicle(\"Car\",4)"
      ]
    },
    {
      "cell_type": "code",
      "execution_count": 5,
      "metadata": {
        "id": "4fPygHoqDsg_"
      },
      "outputs": [],
      "source": [
        "t1 = Vehicle(\"Truck\",8)"
      ]
    },
    {
      "cell_type": "code",
      "execution_count": 6,
      "metadata": {
        "colab": {
          "base_uri": "https://localhost:8080/"
        },
        "id": "TW1EmXJSD7Aa",
        "outputId": "3b30eaaa-ec19-4abc-ad96-647eedf5fe19"
      },
      "outputs": [
        {
          "name": "stdout",
          "output_type": "stream",
          "text": [
            "8\n"
          ]
        }
      ],
      "source": [
        "print(t1.number_of_tires)"
      ]
    },
    {
      "cell_type": "markdown",
      "metadata": {
        "id": "kLNyyO8IGQPO"
      },
      "source": [
        "#Practice code :\n",
        "\n",
        "Create employee class having 3 variables : name,grade, designation and also having init method.\n",
        "\n",
        "Read n integer from user which is total number of employees.\n",
        "\n",
        "For each and every employee read variables from user and create object and add it to 'lst' list.\n",
        "\n",
        "\n",
        "In lst list if any employee has grade less than 7 , add him in 'improvement' list."
      ]
    },
    {
      "cell_type": "code",
      "execution_count": 7,
      "metadata": {},
      "outputs": [
        {
          "name": "stdout",
          "output_type": "stream",
          "text": [
            "List of all employees:\n",
            "gg 5 ah\n",
            "ff 10 df\n",
            "List of employees needing improvement:\n",
            "gg 5 ah\n"
          ]
        }
      ],
      "source": [
        "class Employee:\n",
        "    def __init__(self, name, grade, designation):\n",
        "        self.name = name\n",
        "        self.grade = grade\n",
        "        self.designation = designation\n",
        "\n",
        "n = int(input(\"Enter the number of employees: \"))\n",
        "lst = []\n",
        "improvement = []\n",
        "\n",
        "for i in range(n):\n",
        "    name = input(\"Enter the name of employee: \")\n",
        "    grade = int(input(\"Enter the grade of employee: \"))\n",
        "    designation = input(\"Enter the designation of employee: \")\n",
        "    emp = Employee(name, grade, designation)\n",
        "    lst.append(emp)\n",
        "    if emp.grade < 7:\n",
        "        improvement.append(emp)\n",
        "\n",
        "print(\"List of all employees:\")\n",
        "for emp in lst:\n",
        "    print(emp.name, emp.grade, emp.designation)\n",
        "\n",
        "print(\"List of employees needing improvement:\")\n",
        "for emp in improvement:\n",
        "    print(emp.name, emp.grade, emp.designation)\n"
      ]
    }
  ],
  "metadata": {
    "colab": {
      "provenance": []
    },
    "kernelspec": {
      "display_name": "Python 3",
      "name": "python3"
    },
    "language_info": {
      "codemirror_mode": {
        "name": "ipython",
        "version": 3
      },
      "file_extension": ".py",
      "mimetype": "text/x-python",
      "name": "python",
      "nbconvert_exporter": "python",
      "pygments_lexer": "ipython3",
      "version": "3.10.9"
    }
  },
  "nbformat": 4,
  "nbformat_minor": 0
}
