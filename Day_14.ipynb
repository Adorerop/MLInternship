{
  "nbformat": 4,
  "nbformat_minor": 0,
  "metadata": {
    "colab": {
      "provenance": []
    },
    "kernelspec": {
      "name": "python3",
      "display_name": "Python 3"
    },
    "language_info": {
      "name": "python"
    }
  },
  "cells": [
    {
      "cell_type": "markdown",
      "source": [
        "#Assignment code 1\n",
        " Read n from user where n is total number of students in a class.\n",
        " \n",
        " Read dictionary from user for each and every student of class with keys : \"name\" and \"marks\".\n",
        "\n",
        " Add all the dictionaries to l1 list.\n",
        "\n",
        "\n",
        " in l1 list if the students marks are less then 33 add the students to l2 list with new key value pair : \"Result\" : \"fail\"\n",
        "\n",
        "  in l1 list if the students marks are greater then or equal to 33, add the students to l3 list with new key value pair : \"Result\" : \"pass\""
      ],
      "metadata": {
        "id": "BfMCtRQNX2aj"
      }
    },
    {
      "cell_type": "code",
      "execution_count": 4,
      "metadata": {
        "colab": {
          "base_uri": "https://localhost:8080/"
        },
        "id": "2w7tMtzPVLBz",
        "outputId": "abe4ca15-7528-42a3-e5e0-29a8a045a810"
      },
      "outputs": [
        {
          "name": "stdout",
          "output_type": "stream",
          "text": [
            "Enter total number of Students of class : 2\n"
          ]
        }
      ],
      "source": [
        "n = int(input(\"Enter total number of Students of class : \"))"
      ]
    },
    {
      "cell_type": "code",
      "source": [
        "l1 = []\n",
        "for i in range(n):\n",
        "  name = input(\"Enter name \")\n",
        "  marks = int(input(\"Enter marks \"))\n",
        "\n",
        "  dict1 = {\"name\":name,\"marks\":marks}\n",
        "  l1.append(dict1)"
      ],
      "metadata": {
        "colab": {
          "base_uri": "https://localhost:8080/"
        },
        "id": "bMe9YeT_VR3W",
        "outputId": "61c1f092-c2ec-44d0-9f1c-2702652e2d96"
      },
      "execution_count": 5,
      "outputs": [
        {
          "name": "stdout",
          "output_type": "stream",
          "text": [
            "Enter nameparth\n",
            "Enter marks55\n",
            "Enter nameraj\n",
            "Enter marks20\n"
          ]
        }
      ]
    },
    {
      "cell_type": "code",
      "source": [
        "l2 = []\n",
        "l3 = []\n",
        "\n",
        "for i in l1:\n",
        "  if(i['marks']<33):\n",
        "    i[\"Result\"] = \"Fail\"\n",
        "    l2.append(i)\n",
        "  else:\n",
        "    i[\"Result\"] = \"Pass\"\n",
        "    l3.append(i)"
      ],
      "metadata": {
        "id": "WK7cLsH4ZngJ"
      },
      "execution_count": 7,
      "outputs": []
    },
    {
      "cell_type": "code",
      "source": [
        "print(l1)\n",
        "print(l2)"
      ],
      "metadata": {
        "colab": {
          "base_uri": "https://localhost:8080/"
        },
        "id": "Xpgs2UNVaTkr",
        "outputId": "da56bc79-845e-4873-fafe-94dde8cb98b7"
      },
      "execution_count": 12,
      "outputs": [
        {
          "output_type": "stream",
          "name": "stdout",
          "text": [
            "[{'name': 'parth', 'marks': 55}, {'name': 'raj', 'marks': 20}]\n"
          ]
        }
      ]
    },
    {
      "cell_type": "markdown",
      "source": [
        "# Practice code 1\n",
        "Read 2 string from user 'big' and 'small'.\n",
        "\n",
        "check if the 'small' string is substring of 'big' or not."
      ],
      "metadata": {
        "id": "6Np7apBgdGwU"
      }
    },
    {
      "cell_type": "code",
      "source": [
        "big = input(\"Enter parent string : \")"
      ],
      "metadata": {
        "colab": {
          "base_uri": "https://localhost:8080/"
        },
        "id": "EZ1Hbr0nZw-k",
        "outputId": "1b54cb46-5710-4f66-faf1-108742774169"
      },
      "execution_count": 21,
      "outputs": [
        {
          "name": "stdout",
          "output_type": "stream",
          "text": [
            "Enter parent string : abcdpqr\n"
          ]
        }
      ]
    },
    {
      "cell_type": "code",
      "source": [
        "small = input(\"Enter string need to be checked : \")"
      ],
      "metadata": {
        "colab": {
          "base_uri": "https://localhost:8080/"
        },
        "id": "FSs5tTa3alLn",
        "outputId": "58487138-9df8-42b0-8487-228c3295b616"
      },
      "execution_count": 19,
      "outputs": [
        {
          "name": "stdout",
          "output_type": "stream",
          "text": [
            "Enter string need to be checked : abcd\n"
          ]
        }
      ]
    },
    {
      "cell_type": "code",
      "source": [
        "if(small in big):\n",
        "  print(\"It is substring\")\n",
        "else:\n",
        "  print(\"It is not substring\")"
      ],
      "metadata": {
        "colab": {
          "base_uri": "https://localhost:8080/"
        },
        "id": "Q1ymoyMYdsh9",
        "outputId": "9d79d7f1-7145-48f4-a314-ae19873719b1"
      },
      "execution_count": 20,
      "outputs": [
        {
          "output_type": "stream",
          "name": "stdout",
          "text": [
            "It is substring\n"
          ]
        }
      ]
    },
    {
      "cell_type": "markdown",
      "source": [
        "#Print in single line"
      ],
      "metadata": {
        "id": "shZDccAEekxD"
      }
    },
    {
      "cell_type": "code",
      "source": [
        "print(\"Parth \",end=\"\")\n",
        "print(\"Shah \")"
      ],
      "metadata": {
        "colab": {
          "base_uri": "https://localhost:8080/"
        },
        "id": "PRC7mu52eTYq",
        "outputId": "6c1e60a4-0414-4d40-8131-ba629eef0d0a"
      },
      "execution_count": 27,
      "outputs": [
        {
          "output_type": "stream",
          "name": "stdout",
          "text": [
            "Parth Shah \n"
          ]
        }
      ]
    },
    {
      "cell_type": "code",
      "source": [
        "for i in range(10):\n",
        "  print(i, end=\" \")"
      ],
      "metadata": {
        "colab": {
          "base_uri": "https://localhost:8080/"
        },
        "id": "uqYZxDsvevvq",
        "outputId": "ebeccd34-b98b-4e91-8d0f-a05691f2a875"
      },
      "execution_count": 30,
      "outputs": [
        {
          "output_type": "stream",
          "name": "stdout",
          "text": [
            "0 1 2 3 4 5 6 7 8 9 "
          ]
        }
      ]
    },
    {
      "cell_type": "markdown",
      "source": [
        "#Star patterns\n",
        "\n",
        "Steps :\n",
        "We have to iterate 2 for loops majorly\n",
        "1 : Outer\n",
        "\n",
        "2 : Inner\n",
        "\n",
        "Outer : To iterate through the row\n",
        "Inner : Iterate through the columns\n",
        "\n"
      ],
      "metadata": {
        "id": "gwkl_D5LfdCg"
      }
    },
    {
      "cell_type": "code",
      "source": [
        "for i in range(5):\n",
        "  for j in range(5):\n",
        "    print(\"*\" ,end=\" \")\n",
        "  print('\\n')"
      ],
      "metadata": {
        "colab": {
          "base_uri": "https://localhost:8080/"
        },
        "id": "dZ-04QedhKfq",
        "outputId": "48bb07eb-4ecc-4772-b6a5-dea374f5fa64"
      },
      "execution_count": 34,
      "outputs": [
        {
          "output_type": "stream",
          "name": "stdout",
          "text": [
            "* * * * * \n",
            "\n",
            "* * * * * \n",
            "\n",
            "* * * * * \n",
            "\n",
            "* * * * * \n",
            "\n",
            "* * * * * \n",
            "\n"
          ]
        }
      ]
    },
    {
      "cell_type": "markdown",
      "source": [
        "![image.png](data:image/png;base64,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)"
      ],
      "metadata": {
        "id": "2OK6_hPCfrhT"
      }
    },
    {
      "cell_type": "code",
      "source": [
        "for i in range(5):\n",
        "  for j in range(5):\n",
        "    if(i==0 or j==0 or i==4 or j==4):\n",
        "      print(\"*\" ,end=\" \")\n",
        "    else:\n",
        "      print(\" \",end=\" \")\n",
        "  print('\\n')"
      ],
      "metadata": {
        "colab": {
          "base_uri": "https://localhost:8080/"
        },
        "id": "_AGeVXVsfGM1",
        "outputId": "31c59006-7801-47fc-8d79-a75e3f0e1ee3"
      },
      "execution_count": 55,
      "outputs": [
        {
          "output_type": "stream",
          "name": "stdout",
          "text": [
            "* * * * * \n",
            "\n",
            "*       * \n",
            "\n",
            "*       * \n",
            "\n",
            "*       * \n",
            "\n",
            "* * * * * \n",
            "\n"
          ]
        }
      ]
    },
    {
      "cell_type": "markdown",
      "source": [
        "![image.png](data:image/png;base64,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)"
      ],
      "metadata": {
        "id": "HHikw6h8jQD1"
      }
    },
    {
      "cell_type": "code",
      "source": [
        "for i in range(5):\n",
        "  for j in range(5):\n",
        "    if(i==2 or j==2):\n",
        "      print(\"*\" ,end=\" \")\n",
        "    else:\n",
        "      print(\" \",end=\" \")\n",
        "  print('\\n')"
      ],
      "metadata": {
        "colab": {
          "base_uri": "https://localhost:8080/"
        },
        "id": "YckaU_jygXwJ",
        "outputId": "9332c53c-20d5-4184-bde2-fb257ec5cffb"
      },
      "execution_count": 54,
      "outputs": [
        {
          "output_type": "stream",
          "name": "stdout",
          "text": [
            "    *     \n",
            "\n",
            "    *     \n",
            "\n",
            "* * * * * \n",
            "\n",
            "    *     \n",
            "\n",
            "    *     \n",
            "\n"
          ]
        }
      ]
    },
    {
      "cell_type": "markdown",
      "source": [
        "# Assignment code :\n",
        "Print below * pattern :\n",
        "\n",
        "![image.png](data:image/png;base64,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)"
      ],
      "metadata": {
        "id": "nS_sY3wYkQrb"
      }
    },
    {
      "cell_type": "code",
      "source": [],
      "metadata": {
        "id": "Lr4Zwim_jgmb"
      },
      "execution_count": null,
      "outputs": []
    }
  ]
}