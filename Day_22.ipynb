{
  "nbformat": 4,
  "nbformat_minor": 0,
  "metadata": {
    "colab": {
      "provenance": []
    },
    "kernelspec": {
      "name": "python3",
      "display_name": "Python 3"
    },
    "language_info": {
      "name": "python"
    }
  },
  "cells": [
    {
      "cell_type": "markdown",
      "source": [
        "#Numpy\n",
        "\n",
        "Numerical + python"
      ],
      "metadata": {
        "id": "nUSR7122GTMc"
      }
    },
    {
      "cell_type": "code",
      "source": [
        "import numpy as np"
      ],
      "metadata": {
        "id": "b3ZoQn1uGy6I"
      },
      "execution_count": 3,
      "outputs": []
    },
    {
      "cell_type": "code",
      "execution_count": 4,
      "metadata": {
        "id": "1VDz1GdlE_cH"
      },
      "outputs": [],
      "source": [
        "l = [3,5,8,3,2]"
      ]
    },
    {
      "cell_type": "code",
      "source": [
        "arr = np.array([4,3,5,6,8])"
      ],
      "metadata": {
        "id": "8F-b3xsfGnoa"
      },
      "execution_count": 6,
      "outputs": []
    },
    {
      "cell_type": "code",
      "source": [
        "print(arr)"
      ],
      "metadata": {
        "colab": {
          "base_uri": "https://localhost:8080/"
        },
        "id": "RH5tA1O5GxC-",
        "outputId": "b382714f-b439-4dee-cbbf-f707c835d723"
      },
      "execution_count": 7,
      "outputs": [
        {
          "output_type": "stream",
          "name": "stdout",
          "text": [
            "[4 3 5 6 8]\n"
          ]
        }
      ]
    },
    {
      "cell_type": "code",
      "source": [
        "print(l)"
      ],
      "metadata": {
        "colab": {
          "base_uri": "https://localhost:8080/"
        },
        "id": "80fUpaclG-vl",
        "outputId": "232c30d7-5258-4643-a71d-ea67239d7653"
      },
      "execution_count": 8,
      "outputs": [
        {
          "output_type": "stream",
          "name": "stdout",
          "text": [
            "[3, 5, 8, 3, 2]\n"
          ]
        }
      ]
    },
    {
      "cell_type": "code",
      "source": [
        "arr_2d = np.array([[5,2,7],[8,1,2]])"
      ],
      "metadata": {
        "id": "i3Kb3hARHBbw"
      },
      "execution_count": 9,
      "outputs": []
    },
    {
      "cell_type": "code",
      "source": [
        "print(arr_2d)"
      ],
      "metadata": {
        "colab": {
          "base_uri": "https://localhost:8080/"
        },
        "id": "MQcLIO58HVDD",
        "outputId": "fa31ac12-6f53-409a-9964-3bb9498c5d5a"
      },
      "execution_count": 10,
      "outputs": [
        {
          "output_type": "stream",
          "name": "stdout",
          "text": [
            "[[5 2 7]\n",
            " [8 1 2]]\n"
          ]
        }
      ]
    },
    {
      "cell_type": "markdown",
      "source": [
        "#Check characteristics of array"
      ],
      "metadata": {
        "id": "40EYmhThHhaH"
      }
    },
    {
      "cell_type": "code",
      "source": [
        "arr = np.array([[5,2,7],[8,1,2]])"
      ],
      "metadata": {
        "id": "NI834ur7HWyD"
      },
      "execution_count": 41,
      "outputs": []
    },
    {
      "cell_type": "code",
      "source": [
        "#Dimension of array\n",
        "op = arr.ndim\n",
        "print(op)"
      ],
      "metadata": {
        "colab": {
          "base_uri": "https://localhost:8080/"
        },
        "id": "MHr5GaMSHoTx",
        "outputId": "73716c2d-3bba-426e-d896-1b8549d922ca"
      },
      "execution_count": 43,
      "outputs": [
        {
          "output_type": "stream",
          "name": "stdout",
          "text": [
            "2\n"
          ]
        }
      ]
    },
    {
      "cell_type": "code",
      "source": [
        "#Shape of array\n",
        "op2 = arr.shape"
      ],
      "metadata": {
        "id": "ZgiFN4T0Hy8I"
      },
      "execution_count": 44,
      "outputs": []
    },
    {
      "cell_type": "code",
      "source": [
        "print(op2)"
      ],
      "metadata": {
        "colab": {
          "base_uri": "https://localhost:8080/"
        },
        "id": "3jL0sCqnONHa",
        "outputId": "8723561f-fb22-443a-83b4-e674e66bd3da"
      },
      "execution_count": 45,
      "outputs": [
        {
          "output_type": "stream",
          "name": "stdout",
          "text": [
            "(2, 3)\n"
          ]
        }
      ]
    },
    {
      "cell_type": "code",
      "source": [
        "#datatype of elements\n",
        "arr.dtype"
      ],
      "metadata": {
        "colab": {
          "base_uri": "https://localhost:8080/"
        },
        "id": "0tebd6aHH-fD",
        "outputId": "d3b87f12-ae6b-4dea-fa72-95fc3543fb8b"
      },
      "execution_count": 14,
      "outputs": [
        {
          "output_type": "execute_result",
          "data": {
            "text/plain": [
              "dtype('int64')"
            ]
          },
          "metadata": {},
          "execution_count": 14
        }
      ]
    },
    {
      "cell_type": "markdown",
      "source": [
        "#Create array based on requirements"
      ],
      "metadata": {
        "id": "DBKBu4P_IQw_"
      }
    },
    {
      "cell_type": "code",
      "source": [
        "arr1 = np.array([[5,2,7],[8,1,2]])"
      ],
      "metadata": {
        "id": "3QJB383wIHNe"
      },
      "execution_count": 15,
      "outputs": []
    },
    {
      "cell_type": "code",
      "source": [
        "arr4 = np.ones(6)\n",
        "arr4"
      ],
      "metadata": {
        "colab": {
          "base_uri": "https://localhost:8080/"
        },
        "id": "InAwjaM2JN1A",
        "outputId": "1310af9e-5f93-4d7d-ae74-6b8aa073b25f"
      },
      "execution_count": 22,
      "outputs": [
        {
          "output_type": "execute_result",
          "data": {
            "text/plain": [
              "array([1., 1., 1., 1., 1., 1.])"
            ]
          },
          "metadata": {},
          "execution_count": 22
        }
      ]
    },
    {
      "cell_type": "code",
      "source": [
        "#Create array with zeros\n",
        "arr2 = np.zeros((2,5))"
      ],
      "metadata": {
        "id": "q5H4C5WFIQMa"
      },
      "execution_count": 16,
      "outputs": []
    },
    {
      "cell_type": "code",
      "source": [
        "#Create array with ones\n",
        "arr3 = np.ones((3,6))"
      ],
      "metadata": {
        "id": "IV3665vnIVEQ"
      },
      "execution_count": 18,
      "outputs": []
    },
    {
      "cell_type": "code",
      "source": [
        "#Create array for any value\n",
        "arr5 = np.full((4,7),25)"
      ],
      "metadata": {
        "id": "LTAUfSy_IVA5"
      },
      "execution_count": 23,
      "outputs": []
    },
    {
      "cell_type": "code",
      "source": [
        "arr5"
      ],
      "metadata": {
        "colab": {
          "base_uri": "https://localhost:8080/"
        },
        "id": "TgmuyEXxIU_M",
        "outputId": "9b0b09f1-2278-4828-f4b4-2555b52f65c2"
      },
      "execution_count": 24,
      "outputs": [
        {
          "output_type": "execute_result",
          "data": {
            "text/plain": [
              "array([[25, 25, 25, 25, 25, 25, 25],\n",
              "       [25, 25, 25, 25, 25, 25, 25],\n",
              "       [25, 25, 25, 25, 25, 25, 25],\n",
              "       [25, 25, 25, 25, 25, 25, 25]])"
            ]
          },
          "metadata": {},
          "execution_count": 24
        }
      ]
    },
    {
      "cell_type": "code",
      "source": [
        "#Create array with range\n",
        "arr6 = np.arange(0,30,4)"
      ],
      "metadata": {
        "id": "gq_4jug8LyUN"
      },
      "execution_count": 32,
      "outputs": []
    },
    {
      "cell_type": "markdown",
      "source": [
        "#Array slicing"
      ],
      "metadata": {
        "id": "qkf-lBtkMamy"
      }
    },
    {
      "cell_type": "code",
      "source": [
        "arr = np.array([[4,2,8,9],[5,1,0,9],[4,1,6,9],[6,1,0,0]])"
      ],
      "metadata": {
        "id": "TzHQEchFMaNu"
      },
      "execution_count": 47,
      "outputs": []
    },
    {
      "cell_type": "code",
      "source": [
        "print(arr)"
      ],
      "metadata": {
        "colab": {
          "base_uri": "https://localhost:8080/"
        },
        "id": "X-Es-9w_MPkL",
        "outputId": "a9c987b6-932b-46bb-ed2a-357fffdb3092"
      },
      "execution_count": 35,
      "outputs": [
        {
          "output_type": "stream",
          "name": "stdout",
          "text": [
            "[[4 2 8 9]\n",
            " [5 1 0 9]\n",
            " [4 1 6 9]\n",
            " [6 1 0 0]]\n"
          ]
        }
      ]
    },
    {
      "cell_type": "code",
      "source": [
        "arr[2,2]"
      ],
      "metadata": {
        "colab": {
          "base_uri": "https://localhost:8080/"
        },
        "id": "A5Ubg6uyMcz9",
        "outputId": "78331e44-5279-4fd2-e7ab-ac78a9d7668c"
      },
      "execution_count": 36,
      "outputs": [
        {
          "output_type": "execute_result",
          "data": {
            "text/plain": [
              "6"
            ]
          },
          "metadata": {},
          "execution_count": 36
        }
      ]
    },
    {
      "cell_type": "code",
      "source": [
        "arr[0:2,:]"
      ],
      "metadata": {
        "colab": {
          "base_uri": "https://localhost:8080/"
        },
        "id": "D4ZKB0wgMcwh",
        "outputId": "e56a1e9e-14a9-4f78-beeb-bfe0ddc8c8ae"
      },
      "execution_count": 37,
      "outputs": [
        {
          "output_type": "execute_result",
          "data": {
            "text/plain": [
              "array([[4, 2, 8, 9],\n",
              "       [5, 1, 0, 9]])"
            ]
          },
          "metadata": {},
          "execution_count": 37
        }
      ]
    },
    {
      "cell_type": "code",
      "source": [
        "#First row\n",
        "arr[ 0, :]"
      ],
      "metadata": {
        "colab": {
          "base_uri": "https://localhost:8080/"
        },
        "id": "J_HC0uVdMcud",
        "outputId": "00191910-721c-459f-a4c4-1452b8f8a592"
      },
      "execution_count": 38,
      "outputs": [
        {
          "output_type": "execute_result",
          "data": {
            "text/plain": [
              "array([4, 2, 8, 9])"
            ]
          },
          "metadata": {},
          "execution_count": 38
        }
      ]
    },
    {
      "cell_type": "code",
      "source": [
        "#Last column\n",
        "arr[ : ,3]"
      ],
      "metadata": {
        "colab": {
          "base_uri": "https://localhost:8080/"
        },
        "id": "R66WC6RTMcsC",
        "outputId": "b8f7e20e-476d-4665-c4f5-52bfee0261e6"
      },
      "execution_count": 39,
      "outputs": [
        {
          "output_type": "execute_result",
          "data": {
            "text/plain": [
              "array([9, 9, 9, 0])"
            ]
          },
          "metadata": {},
          "execution_count": 39
        }
      ]
    },
    {
      "cell_type": "code",
      "source": [
        "#First 3 rows and 3 columns\n",
        "arr[0:3,0:3]"
      ],
      "metadata": {
        "colab": {
          "base_uri": "https://localhost:8080/"
        },
        "id": "eSIJQ_GkMcpg",
        "outputId": "29776054-67c8-41fc-d21e-f1849a893033"
      },
      "execution_count": 48,
      "outputs": [
        {
          "output_type": "execute_result",
          "data": {
            "text/plain": [
              "array([[4, 2, 8],\n",
              "       [5, 1, 0],\n",
              "       [4, 1, 6]])"
            ]
          },
          "metadata": {},
          "execution_count": 48
        }
      ]
    },
    {
      "cell_type": "code",
      "source": [
        "# Last 2 columns\n",
        "arr[:,2:]"
      ],
      "metadata": {
        "colab": {
          "base_uri": "https://localhost:8080/"
        },
        "id": "UL-G9DOBMcnb",
        "outputId": "b68f50b0-342e-4be0-a8ee-795f0c212166"
      },
      "execution_count": 49,
      "outputs": [
        {
          "output_type": "execute_result",
          "data": {
            "text/plain": [
              "array([[8, 9],\n",
              "       [0, 9],\n",
              "       [6, 9],\n",
              "       [0, 0]])"
            ]
          },
          "metadata": {},
          "execution_count": 49
        }
      ]
    },
    {
      "cell_type": "markdown",
      "source": [
        "#Array flattening"
      ],
      "metadata": {
        "id": "uVA7OIliPm5_"
      }
    },
    {
      "cell_type": "code",
      "source": [
        "arr = np.array([[4,2,8,9],[5,1,0,9],[4,1,6,9],[6,1,0,0]])"
      ],
      "metadata": {
        "id": "30ELT23jPqSq"
      },
      "execution_count": 53,
      "outputs": []
    },
    {
      "cell_type": "code",
      "source": [
        "print(arr)\n",
        "print(arr.shape)"
      ],
      "metadata": {
        "colab": {
          "base_uri": "https://localhost:8080/"
        },
        "id": "tGetr5N6P7nG",
        "outputId": "792e5961-30ce-49ce-efdf-144562f3a4d9"
      },
      "execution_count": 54,
      "outputs": [
        {
          "output_type": "stream",
          "name": "stdout",
          "text": [
            "[[4 2 8 9]\n",
            " [5 1 0 9]\n",
            " [4 1 6 9]\n",
            " [6 1 0 0]]\n",
            "(4, 4)\n"
          ]
        }
      ]
    },
    {
      "cell_type": "code",
      "source": [
        "x = arr.flatten()"
      ],
      "metadata": {
        "id": "FInOdNXAPtDK"
      },
      "execution_count": 51,
      "outputs": []
    },
    {
      "cell_type": "code",
      "source": [
        "print(x)"
      ],
      "metadata": {
        "colab": {
          "base_uri": "https://localhost:8080/"
        },
        "id": "BU51V2XKPs_2",
        "outputId": "0fa4f41b-18a1-4afb-9977-6c2f67600990"
      },
      "execution_count": 52,
      "outputs": [
        {
          "output_type": "stream",
          "name": "stdout",
          "text": [
            "[4 2 8 9 5 1 0 9 4 1 6 9 6 1 0 0]\n"
          ]
        }
      ]
    },
    {
      "cell_type": "markdown",
      "source": [
        "#Array reshaping"
      ],
      "metadata": {
        "id": "A-jPruDKP3SA"
      }
    },
    {
      "cell_type": "code",
      "source": [
        "arr2 = arr.reshape((2,8))\n",
        "print(arr2)"
      ],
      "metadata": {
        "colab": {
          "base_uri": "https://localhost:8080/"
        },
        "id": "Ag7VxFnUPs-U",
        "outputId": "3b89faf6-43bb-4cf3-9621-9dc0d2c93227"
      },
      "execution_count": 59,
      "outputs": [
        {
          "output_type": "stream",
          "name": "stdout",
          "text": [
            "[[4 2 8 9 5 1 0 9]\n",
            " [4 1 6 9 6 1 0 0]]\n"
          ]
        }
      ]
    },
    {
      "cell_type": "code",
      "source": [
        "arr3 = arr.reshape((8,2))\n",
        "print(arr3)"
      ],
      "metadata": {
        "colab": {
          "base_uri": "https://localhost:8080/"
        },
        "id": "TKYeqVZ4Ps8L",
        "outputId": "71ab4200-46f2-41e4-e4dd-a9115e6b7207"
      },
      "execution_count": 60,
      "outputs": [
        {
          "output_type": "stream",
          "name": "stdout",
          "text": [
            "[[4 2]\n",
            " [8 9]\n",
            " [5 1]\n",
            " [0 9]\n",
            " [4 1]\n",
            " [6 9]\n",
            " [6 1]\n",
            " [0 0]]\n"
          ]
        }
      ]
    },
    {
      "cell_type": "code",
      "source": [
        "#This will generate error\n",
        "arr4 = arr.reshape((5,3))\n",
        "print(arr4)"
      ],
      "metadata": {
        "id": "y0p7P4VJPs6c"
      },
      "execution_count": 62,
      "outputs": []
    },
    {
      "cell_type": "code",
      "source": [
        "arr5 = arr.reshape((1,16))\n",
        "print(arr5)"
      ],
      "metadata": {
        "colab": {
          "base_uri": "https://localhost:8080/"
        },
        "id": "132rIIWUPs4b",
        "outputId": "5158a39c-29ae-49f1-b3be-eb6fcab4f684"
      },
      "execution_count": 64,
      "outputs": [
        {
          "output_type": "stream",
          "name": "stdout",
          "text": [
            "[[4 2 8 9 5 1 0 9 4 1 6 9 6 1 0 0]]\n"
          ]
        }
      ]
    },
    {
      "cell_type": "markdown",
      "source": [
        "#Practice code\n",
        "\n",
        "Create 1 numpy array having dimension 4,5 and values are 1\n",
        "\n",
        "Create 1 numpy array having dimension 4,5 and values are 45\n",
        "\n",
        "Check their dimension and shape, If dimensions and shape of both arrays are same, print : \"They both can do mathemeticaloperations\""
      ],
      "metadata": {
        "id": "TekQKRK4JscW"
      }
    },
    {
      "cell_type": "code",
      "source": [
        "arr1 = np.ones((4,5))"
      ],
      "metadata": {
        "id": "r7Mz2b5ZIU9c"
      },
      "execution_count": 25,
      "outputs": []
    },
    {
      "cell_type": "code",
      "source": [
        "arr1"
      ],
      "metadata": {
        "colab": {
          "base_uri": "https://localhost:8080/"
        },
        "id": "lPpwSfM_IU7X",
        "outputId": "b3be327b-1d87-4a12-b220-48b454ce5ed2"
      },
      "execution_count": 26,
      "outputs": [
        {
          "output_type": "execute_result",
          "data": {
            "text/plain": [
              "array([[1., 1., 1., 1., 1.],\n",
              "       [1., 1., 1., 1., 1.],\n",
              "       [1., 1., 1., 1., 1.],\n",
              "       [1., 1., 1., 1., 1.]])"
            ]
          },
          "metadata": {},
          "execution_count": 26
        }
      ]
    },
    {
      "cell_type": "code",
      "source": [
        "arr2 = np.full((4,5),45)"
      ],
      "metadata": {
        "id": "1IEvN9FhIU49"
      },
      "execution_count": 27,
      "outputs": []
    },
    {
      "cell_type": "code",
      "source": [
        "arr2"
      ],
      "metadata": {
        "colab": {
          "base_uri": "https://localhost:8080/"
        },
        "id": "bj80vdCMIU2d",
        "outputId": "a4bcbb85-6fcc-49ff-bc11-3e66f6fa666d"
      },
      "execution_count": 28,
      "outputs": [
        {
          "output_type": "execute_result",
          "data": {
            "text/plain": [
              "array([[45, 45, 45, 45, 45],\n",
              "       [45, 45, 45, 45, 45],\n",
              "       [45, 45, 45, 45, 45],\n",
              "       [45, 45, 45, 45, 45]])"
            ]
          },
          "metadata": {},
          "execution_count": 28
        }
      ]
    },
    {
      "cell_type": "code",
      "source": [
        "if(arr1.ndim == arr2.ndim and arr1.shape == arr2.shape):\n",
        "  print(\"They both can do mathemeticaloperations\")"
      ],
      "metadata": {
        "colab": {
          "base_uri": "https://localhost:8080/"
        },
        "id": "ZUX43T0oKLu-",
        "outputId": "b31393fb-53bb-4a7e-82a8-d7f0271ac8df"
      },
      "execution_count": 29,
      "outputs": [
        {
          "output_type": "stream",
          "name": "stdout",
          "text": [
            "They both can do mathemeticaloperations\n"
          ]
        }
      ]
    },
    {
      "cell_type": "code",
      "source": [],
      "metadata": {
        "id": "gbe3pt9JLk3K"
      },
      "execution_count": null,
      "outputs": []
    }
  ]
}