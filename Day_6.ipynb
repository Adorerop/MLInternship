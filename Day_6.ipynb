{
  "nbformat": 4,
  "nbformat_minor": 0,
  "metadata": {
    "colab": {
      "provenance": []
    },
    "kernelspec": {
      "name": "python3",
      "display_name": "Python 3"
    },
    "language_info": {
      "name": "python"
    }
  },
  "cells": [
    {
      "cell_type": "markdown",
      "source": [
        "#Function"
      ],
      "metadata": {
        "id": "B2QEPn3ybHuR"
      }
    },
    {
      "cell_type": "markdown",
      "source": [
        "2 parts of function\n",
        "\n",
        "(1) To define the function\n",
        "\n",
        "(2) Call the function"
      ],
      "metadata": {
        "id": "7j8MsnKubZ34"
      }
    },
    {
      "cell_type": "code",
      "execution_count": 1,
      "metadata": {
        "colab": {
          "base_uri": "https://localhost:8080/"
        },
        "id": "kLuwWXWvW9bT",
        "outputId": "c27f6e04-f3a2-48c1-9abe-cc13a167df70"
      },
      "outputs": [
        {
          "output_type": "stream",
          "name": "stdout",
          "text": [
            "I am ouside function\n"
          ]
        }
      ],
      "source": [
        "def func1():\n",
        "  a = 10\n",
        "  print(\"Hello i am from function\")\n",
        "  print(\"This is 2nd statement\")\n",
        "\n",
        "print(\"I am ouside function\")\n",
        "func1()"
      ]
    },
    {
      "cell_type": "markdown",
      "source": [
        "#Function with return values"
      ],
      "metadata": {
        "id": "W8T-Q2xHcuzR"
      }
    },
    {
      "cell_type": "code",
      "source": [
        "def func2():\n",
        "  a = 10\n",
        "  print(\"Inside\")\n",
        "  return(a)\n",
        "var1 = func2()"
      ],
      "metadata": {
        "id": "YyMCt7xOcakE"
      },
      "execution_count": 4,
      "outputs": []
    },
    {
      "cell_type": "markdown",
      "source": [
        "#Return multiple values from function"
      ],
      "metadata": {
        "id": "a-K4nMZNdhLl"
      }
    },
    {
      "cell_type": "code",
      "source": [
        "def func3():\n",
        "  a = 10\n",
        "  b = 'Parth'\n",
        "  c = 5.5\n",
        "  return(a,b,c)\n",
        "x,y,z = func3()\n",
        "\n",
        "print(x,y,z)"
      ],
      "metadata": {
        "id": "XWvQLfk5ctXJ"
      },
      "execution_count": 7,
      "outputs": []
    },
    {
      "cell_type": "markdown",
      "source": [
        "#Function with arguments"
      ],
      "metadata": {
        "id": "mWm1QxhHeawH"
      }
    },
    {
      "cell_type": "code",
      "source": [
        "def argument_accepting(var1):\n",
        "  print(var1)\n",
        "  return(10)\n",
        "ret = argument_accepting(3.4)"
      ],
      "metadata": {
        "id": "XPCOhgn_ctSg"
      },
      "execution_count": 10,
      "outputs": []
    },
    {
      "cell_type": "markdown",
      "source": [
        "#Function with multiple arguments"
      ],
      "metadata": {
        "id": "7XPhb_m6fSe_"
      }
    },
    {
      "cell_type": "code",
      "source": [
        "def func_with_multi_arg(arg1,arg2,arg3):\n",
        "  print(arg1)\n",
        "  print(arg2)\n",
        "  print(arg3)\n",
        "\n",
        "  return(arg1 + arg2 +arg3)\n",
        "\n",
        "v1 = func_with_multi_arg(10,20,30)\n",
        "print(v1)"
      ],
      "metadata": {
        "id": "TDvCb1gwctOD"
      },
      "execution_count": 14,
      "outputs": []
    },
    {
      "cell_type": "markdown",
      "source": [
        "#Practice code1\n",
        "\n",
        "Read 3 integers from user v1,v2,v3\n",
        "\n",
        "create a function find_average(arg1,arg2,arg3) that takes 3 integer variables and count their average and return their average\n",
        "\n",
        "call the function find_average with v1,v2,v3 and store result in RES variable\n"
      ],
      "metadata": {
        "id": "GTmktRgCgvmD"
      }
    },
    {
      "cell_type": "code",
      "source": [
        "#statement1\n",
        "v1 = int(input())\n",
        "v2 = int(input())\n",
        "v3 = int(input())\n",
        "\n",
        "#Statement2\n",
        "def find_average(arg1,arg2,arg3):\n",
        "  s = (arg1+arg2+arg3)/3\n",
        "  return(s)\n",
        "\n",
        "#Statement3\n",
        "RES = find_average(v1,v2,v3)\n",
        "print(RES)"
      ],
      "metadata": {
        "colab": {
          "base_uri": "https://localhost:8080/"
        },
        "id": "IWY01FmEctKQ",
        "outputId": "51f822fc-27ed-4920-f264-68ee1b0e1230"
      },
      "execution_count": 18,
      "outputs": [
        {
          "name": "stdout",
          "output_type": "stream",
          "text": [
            "40\n",
            "69\n",
            "32\n"
          ]
        }
      ]
    },
    {
      "cell_type": "markdown",
      "source": [
        "#Yesterdays Assignment 1\n",
        "\n",
        "Read a string from user s1 and reverse it to s2"
      ],
      "metadata": {
        "id": "0tHsmUZdi7f6"
      }
    },
    {
      "cell_type": "code",
      "source": [
        "s1 = input()\n",
        "s2 = s1[::-1]\n",
        "print(s2)"
      ],
      "metadata": {
        "colab": {
          "base_uri": "https://localhost:8080/"
        },
        "id": "UBSCdTmzcs_z",
        "outputId": "bef89214-d31e-4196-cc0a-f1c455a6e99a"
      },
      "execution_count": 23,
      "outputs": [
        {
          "name": "stdout",
          "output_type": "stream",
          "text": [
            "Ahmedabad\n"
          ]
        }
      ]
    },
    {
      "cell_type": "markdown",
      "source": [
        "#Yesterdays Assignment2\n",
        "\n",
        "create function that takes 4 string variables(s1,s2,s3,s4) and concat them in variable c1.\n",
        "\n",
        "if the length of c1 is less than 20, print even indexed characters of c1.\n",
        "\n",
        "else print first 10 character of string."
      ],
      "metadata": {
        "id": "C-5wqDPHj09V"
      }
    },
    {
      "cell_type": "code",
      "source": [
        "def my_function(s1,s2,s3,s4):\n",
        "  c1 = s1 + s2 +s3 + s4\n",
        "  l = len(c1)\n",
        "  if(l<20):\n",
        "    for i in range(0,l,1):\n",
        "      if(i%2 == 0):\n",
        "        print(a[i])\n",
        "  else:\n",
        "    s1 = c1[:10]\n",
        "    print(s1)\n",
        "\n",
        "my_function('abcddvfdbd','qwertyusdvfdbd','asdfghjk','zxcvbnqwer')"
      ],
      "metadata": {
        "id": "1XwWgs8vgWOx"
      },
      "execution_count": 32,
      "outputs": []
    },
    {
      "cell_type": "markdown",
      "source": [
        "#Lists"
      ],
      "metadata": {
        "id": "3pVjGKNrmBSM"
      }
    },
    {
      "cell_type": "code",
      "source": [
        "l1 = [10,20,30,50,40]\n",
        "l2 = ['parth','shah','sagar','jay','vrunda']\n",
        "l3 = [3.5,7.5, 8.9, 7.6]"
      ],
      "metadata": {
        "id": "6rUygv_LiSXj"
      },
      "execution_count": 34,
      "outputs": []
    },
    {
      "cell_type": "code",
      "source": [
        "l4 = [10 , 20 , 'c' , \"Ahmedabad\" , 8.9 , False]"
      ],
      "metadata": {
        "id": "upqwbCSviWoC"
      },
      "execution_count": 39,
      "outputs": []
    },
    {
      "cell_type": "markdown",
      "source": [
        "#Find length of list"
      ],
      "metadata": {
        "id": "WPE1SaaxnTVs"
      }
    },
    {
      "cell_type": "code",
      "source": [
        "r1 = len(l4)"
      ],
      "metadata": {
        "id": "F7KhtnjuikQF"
      },
      "execution_count": 43,
      "outputs": []
    },
    {
      "cell_type": "markdown",
      "source": [
        "#Access values from list"
      ],
      "metadata": {
        "id": "-n01IOLbnscw"
      }
    },
    {
      "cell_type": "code",
      "source": [
        "l = [55,60,61,62,63,64]\n",
        "print(l[0])\n",
        "print(l[3])"
      ],
      "metadata": {
        "id": "yfP4lQkxkoLk"
      },
      "execution_count": 45,
      "outputs": []
    },
    {
      "cell_type": "markdown",
      "source": [
        "#Append variable in list"
      ],
      "metadata": {
        "id": "wn65R9wOoWFm"
      }
    },
    {
      "cell_type": "code",
      "source": [
        "l = [55,60,61,62,63,64]\n",
        "a = 100"
      ],
      "metadata": {
        "id": "JJOpxWvwmlDk"
      },
      "execution_count": 58,
      "outputs": []
    },
    {
      "cell_type": "code",
      "source": [
        "l.append(a)"
      ],
      "metadata": {
        "id": "tal7OsqnmrrU"
      },
      "execution_count": 59,
      "outputs": []
    },
    {
      "cell_type": "code",
      "source": [
        "print(l)"
      ],
      "metadata": {
        "colab": {
          "base_uri": "https://localhost:8080/"
        },
        "id": "FeP3AsSqmty-",
        "outputId": "cab76fe9-a7d3-468b-dadb-18aee7b87eda"
      },
      "execution_count": 60,
      "outputs": [
        {
          "output_type": "stream",
          "name": "stdout",
          "text": [
            "[55, 60, 61, 62, 63, 64, 100]\n"
          ]
        }
      ]
    },
    {
      "cell_type": "code",
      "source": [
        "s2 = 'Abcd'"
      ],
      "metadata": {
        "id": "S4lI_g6fox1N"
      },
      "execution_count": 61,
      "outputs": []
    },
    {
      "cell_type": "code",
      "source": [
        "l.append(s2)"
      ],
      "metadata": {
        "id": "d6av7s1zpGCy"
      },
      "execution_count": 62,
      "outputs": []
    },
    {
      "cell_type": "code",
      "source": [
        "print(l)"
      ],
      "metadata": {
        "colab": {
          "base_uri": "https://localhost:8080/"
        },
        "id": "iD4hMiZLpRm9",
        "outputId": "80d23994-5f04-4401-d53f-4d1acf5eb938"
      },
      "execution_count": 63,
      "outputs": [
        {
          "output_type": "stream",
          "name": "stdout",
          "text": [
            "[55, 60, 61, 62, 63, 64, 100, 'Abcd']\n"
          ]
        }
      ]
    },
    {
      "cell_type": "markdown",
      "source": [
        "#Iterate through list"
      ],
      "metadata": {
        "id": "1fnOw3x7par5"
      }
    },
    {
      "cell_type": "code",
      "source": [
        "l = [55,60,61,62,63,64,'Abcd' , 3.5, False, 22.2]"
      ],
      "metadata": {
        "id": "IoS6YMyCpTpr"
      },
      "execution_count": 69,
      "outputs": []
    },
    {
      "cell_type": "code",
      "source": [
        "for i in l:\n",
        "  print(i)"
      ],
      "metadata": {
        "colab": {
          "base_uri": "https://localhost:8080/"
        },
        "id": "lIzJ2nXmphES",
        "outputId": "fa5a0135-ccdb-4a87-aca8-0249f6ee7a06"
      },
      "execution_count": 70,
      "outputs": [
        {
          "output_type": "stream",
          "name": "stdout",
          "text": [
            "55\n",
            "60\n",
            "61\n",
            "62\n",
            "63\n",
            "64\n",
            "Abcd\n",
            "3.5\n",
            "False\n",
            "22.2\n"
          ]
        }
      ]
    }
  ]
}