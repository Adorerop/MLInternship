{
  "nbformat": 4,
  "nbformat_minor": 0,
  "metadata": {
    "colab": {
      "provenance": []
    },
    "kernelspec": {
      "name": "python3",
      "display_name": "Python 3"
    },
    "language_info": {
      "name": "python"
    }
  },
  "cells": [
    {
      "cell_type": "markdown",
      "source": [
        "#Assignment 1\n",
        "\n",
        "Read a list named lt of 7 string variables\n",
        "\n",
        "create function get_last that takes list of string as argument and print last character of each and every element\n",
        "\n",
        "call function get_last with argument lt"
      ],
      "metadata": {
        "id": "N_MbvCtxFqaB"
      }
    },
    {
      "cell_type": "code",
      "execution_count": 1,
      "metadata": {
        "colab": {
          "base_uri": "https://localhost:8080/"
        },
        "id": "IQaY2wdHFpul",
        "outputId": "b596e1ba-00b9-4340-a42f-b756a3be98b4"
      },
      "outputs": [
        {
          "name": "stdout",
          "output_type": "stream",
          "text": [
            "xyz\n",
            "abcd\n",
            "pqr\n",
            "fgh\n",
            "qwer\n",
            "dfg\n",
            "vbnm\n"
          ]
        }
      ],
      "source": [
        "lt = []\n",
        "for i in range(7):\n",
        "  inp = input()\n",
        "  lt.append(inp)\n",
        "\n",
        "print(lt)\n",
        "\n",
        "def get_last(st_lst):\n",
        "  for i in st_lst:\n",
        "    print(i[-1])\n",
        "\n",
        "get_last(lt)"
      ]
    },
    {
      "cell_type": "markdown",
      "source": [
        "#Sort list"
      ],
      "metadata": {
        "id": "1mxORFCbOFy8"
      }
    },
    {
      "cell_type": "code",
      "source": [
        "a = [20,30,40,100,91,52,54]\n",
        "a.sort()\n",
        "print(a)"
      ],
      "metadata": {
        "colab": {
          "base_uri": "https://localhost:8080/"
        },
        "id": "NFtfiyGlM-SR",
        "outputId": "6d750aea-6666-44c3-a715-84115ceaf851"
      },
      "execution_count": 20,
      "outputs": [
        {
          "output_type": "stream",
          "name": "stdout",
          "text": [
            "[20, 30, 40, 52, 54, 91, 100]\n"
          ]
        }
      ]
    },
    {
      "cell_type": "code",
      "source": [
        "st_lst = ['banana','apple','orange','grapes']\n",
        "st_lst.sort()\n",
        "print(st_lst)"
      ],
      "metadata": {
        "colab": {
          "base_uri": "https://localhost:8080/"
        },
        "id": "0IGEKeeRMQxR",
        "outputId": "0c7e2b79-c23f-48de-d0c9-49994b143e80"
      },
      "execution_count": 21,
      "outputs": [
        {
          "output_type": "stream",
          "name": "stdout",
          "text": [
            "['apple', 'banana', 'grapes', 'orange']\n"
          ]
        }
      ]
    },
    {
      "cell_type": "markdown",
      "source": [
        "#Sort in Descending order"
      ],
      "metadata": {
        "id": "XP4QZVbkPAHp"
      }
    },
    {
      "cell_type": "code",
      "source": [
        "a = [20,30,40,100,91,52,54]\n",
        "a.sort(reverse = True)\n",
        "print(a)"
      ],
      "metadata": {
        "colab": {
          "base_uri": "https://localhost:8080/"
        },
        "id": "2l6Kv5ITMa5a",
        "outputId": "afdd25ca-1aa1-49e2-e857-ff31fac6e91f"
      },
      "execution_count": 22,
      "outputs": [
        {
          "output_type": "stream",
          "name": "stdout",
          "text": [
            "[100, 91, 54, 52, 40, 30, 20]\n"
          ]
        }
      ]
    },
    {
      "cell_type": "markdown",
      "source": [
        "#Set "
      ],
      "metadata": {
        "id": "UHB0tepePTlz"
      }
    },
    {
      "cell_type": "code",
      "source": [
        "s = {10,20,30,40,40,30,20}   #Consider only single occurence (Not duplicates)\n",
        "print(s)"
      ],
      "metadata": {
        "colab": {
          "base_uri": "https://localhost:8080/"
        },
        "id": "uStDmS-iNnoD",
        "outputId": "6fd6b03b-6592-4a6e-d9f4-540d4d91780c"
      },
      "execution_count": 29,
      "outputs": [
        {
          "output_type": "stream",
          "name": "stdout",
          "text": [
            "{40, 10, 20, 30}\n"
          ]
        }
      ]
    },
    {
      "cell_type": "code",
      "source": [
        "l = [1,1,1,2,2,3,4,4,4,5]\n",
        "l = set(l)\n",
        "print(l)"
      ],
      "metadata": {
        "id": "jpC3LyI3PSSo"
      },
      "execution_count": 26,
      "outputs": []
    },
    {
      "cell_type": "markdown",
      "source": [
        "#Dictionary"
      ],
      "metadata": {
        "id": "PMetUrRjQRmR"
      }
    },
    {
      "cell_type": "markdown",
      "source": [
        "Key Value format element"
      ],
      "metadata": {
        "id": "bjp88b8KQdCC"
      }
    },
    {
      "cell_type": "code",
      "source": [
        "dict1 = {\n",
        "    \"name\" : \"Jay\",\n",
        "    \"Age\" : 30,\n",
        "    \"City\" : \"Abd\",\n",
        "    \"Study\" : \"B-Tech\"\n",
        "}"
      ],
      "metadata": {
        "id": "q9LJzT4YOpgK"
      },
      "execution_count": 39,
      "outputs": []
    },
    {
      "cell_type": "code",
      "source": [
        "print(dict1[\"name\"])\n",
        "print(dict1[\"Age\"])"
      ],
      "metadata": {
        "colab": {
          "base_uri": "https://localhost:8080/"
        },
        "id": "13a6RxRcP600",
        "outputId": "23943d0f-dd16-45a8-b176-cceeb7824010"
      },
      "execution_count": 40,
      "outputs": [
        {
          "output_type": "stream",
          "name": "stdout",
          "text": [
            "Jay\n",
            "30\n"
          ]
        }
      ]
    },
    {
      "cell_type": "code",
      "source": [
        "# Update values of perticular key item\n",
        "dict1[\"Age\"] = 25"
      ],
      "metadata": {
        "id": "LmLDgcH3P8G8"
      },
      "execution_count": 41,
      "outputs": []
    },
    {
      "cell_type": "code",
      "source": [
        "#Add new key value pair\n",
        "dict1[\"Contact\"] = \"999999999\""
      ],
      "metadata": {
        "id": "sVL_35qqRgDp"
      },
      "execution_count": 44,
      "outputs": []
    },
    {
      "cell_type": "code",
      "source": [
        "dict1"
      ],
      "metadata": {
        "colab": {
          "base_uri": "https://localhost:8080/"
        },
        "id": "DWFcbV_YRjVx",
        "outputId": "2842b85d-d304-44ad-be9d-7794c3ea7b44"
      },
      "execution_count": 43,
      "outputs": [
        {
          "output_type": "execute_result",
          "data": {
            "text/plain": [
              "{'name': 'Jay',\n",
              " 'Age': 25,\n",
              " 'City': 'Abd',\n",
              " 'Study': 'B-Tech',\n",
              " 'Contact': '999999999'}"
            ]
          },
          "metadata": {},
          "execution_count": 43
        }
      ]
    },
    {
      "cell_type": "code",
      "source": [
        "#Delete one key value pair\n",
        "del dict1[\"City\"]"
      ],
      "metadata": {
        "id": "Z9rRsNu0SLWL"
      },
      "execution_count": 45,
      "outputs": []
    },
    {
      "cell_type": "code",
      "source": [
        "dict1"
      ],
      "metadata": {
        "colab": {
          "base_uri": "https://localhost:8080/"
        },
        "id": "K1EO55TGSn8T",
        "outputId": "a4be647d-8d51-434a-e9c7-47675f794f21"
      },
      "execution_count": 46,
      "outputs": [
        {
          "output_type": "execute_result",
          "data": {
            "text/plain": [
              "{'name': 'Jay', 'Age': 25, 'Study': 'B-Tech', 'Contact': '999999999'}"
            ]
          },
          "metadata": {},
          "execution_count": 46
        }
      ]
    },
    {
      "cell_type": "code",
      "source": [
        "dict1 = {\n",
        "    \"name\" : \"Jay\",\n",
        "    \"Age\" : 30,\n",
        "    \"City\" : \"Abd\",\n",
        "    \"Study\" : \"B-Tech\"\n",
        "}\n",
        "dict1[\"Age\"] = \"ijk\"\n",
        "print(dict1)\n",
        "\n",
        "dict1[\"NewKey\"] = 987\n",
        "print(dict1)"
      ],
      "metadata": {
        "id": "WpKLYHStSpu-"
      },
      "execution_count": 47,
      "outputs": []
    },
    {
      "cell_type": "code",
      "source": [
        "dict1 = {\n",
        "    \"name\" : \"Jay\",\n",
        "    \"Age\" : 30,\n",
        "    \"City\" : \"Abd\",\n",
        "    \"Study\" : \"B-Tech\", # \"hceT-B\"\n",
        "    \"Marks\" : [10,20,30,40]\n",
        "}"
      ],
      "metadata": {
        "id": "9HEVRcPBS6qW"
      },
      "execution_count": 64,
      "outputs": []
    },
    {
      "cell_type": "markdown",
      "source": [
        "# Practice code : reverse the value of key \"Study\""
      ],
      "metadata": {
        "id": "FyXbtldpUnfK"
      }
    },
    {
      "cell_type": "code",
      "source": [
        "s = dict1[\"Study\"]\n",
        "r = s[::-1]\n",
        "dict1[\"Study\"] = r\n",
        "\n",
        "#Alternative method\n",
        "dict1[\"Study\"] = dict1[\"Study\"][::-1]"
      ],
      "metadata": {
        "id": "_jRmFPp8TFPw"
      },
      "execution_count": 57,
      "outputs": []
    },
    {
      "cell_type": "markdown",
      "source": [
        "#Iterate dictionary through for loop"
      ],
      "metadata": {
        "id": "zd8Sa52IV8sk"
      }
    },
    {
      "cell_type": "code",
      "source": [
        "dict1 = {\n",
        "    \"name\" : \"Jay\",\n",
        "    \"Age\" : 30,\n",
        "    \"City\" : \"Abd\",\n",
        "    \"Study\" : \"B-Tech\", # \"hceT-B\"\n",
        "    \"Marks\" : [10,20,30,40]\n",
        "}"
      ],
      "metadata": {
        "id": "AwGM9lODV8D_"
      },
      "execution_count": 68,
      "outputs": []
    },
    {
      "cell_type": "code",
      "source": [
        "for i in dict1:\n",
        "  print(\"Key is =\",i,\"Value =\",dict1[i])"
      ],
      "metadata": {
        "colab": {
          "base_uri": "https://localhost:8080/"
        },
        "id": "dWKpePEkV78_",
        "outputId": "29d6e605-e74f-4fc6-84d6-e841bbfabee1"
      },
      "execution_count": 70,
      "outputs": [
        {
          "output_type": "stream",
          "name": "stdout",
          "text": [
            "Key is = name Value = Jay\n",
            "Key is = Age Value = 30\n",
            "Key is = City Value = Abd\n",
            "Key is = Study Value = B-Tech\n",
            "Key is = Marks Value = [10, 20, 30, 40]\n"
          ]
        }
      ]
    },
    {
      "cell_type": "markdown",
      "source": [
        "#Practice code\n",
        "\n",
        "Create Student dictionary which contains 4 keys 'name' , 'ph', 'ch', 'mt'('name' will be string and other 3 keys will be integer)\n",
        "\n",
        "if sum of ph,ch,mt is greater than or equal to 100 add new key named 'result' with value 'pass' otherwise with value 'fail'"
      ],
      "metadata": {
        "id": "Pwrv5pvEWwBB"
      }
    },
    {
      "cell_type": "code",
      "source": [
        "name = input()"
      ],
      "metadata": {
        "colab": {
          "base_uri": "https://localhost:8080/"
        },
        "id": "E8IJxFjITMaO",
        "outputId": "4783f025-cc3f-483e-cf1e-8190fb132864"
      },
      "execution_count": 71,
      "outputs": [
        {
          "name": "stdout",
          "output_type": "stream",
          "text": [
            "Parth\n"
          ]
        }
      ]
    },
    {
      "cell_type": "code",
      "source": [
        "ph = int(input())\n",
        "ch = int(input())\n",
        "mt = int(input())"
      ],
      "metadata": {
        "colab": {
          "base_uri": "https://localhost:8080/"
        },
        "id": "byBiuLdMTNUR",
        "outputId": "53003b9c-5575-4d17-fe2e-1a7a14d1f9a4"
      },
      "execution_count": 72,
      "outputs": [
        {
          "name": "stdout",
          "output_type": "stream",
          "text": [
            "33\n",
            "34\n",
            "66\n"
          ]
        }
      ]
    },
    {
      "cell_type": "code",
      "source": [
        "dict1 = {\n",
        "    'name' : name,\n",
        "    'ph' : ph,\n",
        "    'ch' : ch,\n",
        "    'mt' : mt\n",
        "}\n"
      ],
      "metadata": {
        "id": "ClLjs26wVJ8M"
      },
      "execution_count": 74,
      "outputs": []
    },
    {
      "cell_type": "code",
      "source": [
        "if(dict1['ph']+ dict1['ch']+ dict1['mt'] >=100):\n",
        "  dict1['result'] = \"pass\"\n",
        "else:\n",
        "  dict1['result']  = \"Fail\"\n",
        "\n",
        "print(dict1)"
      ],
      "metadata": {
        "id": "4sLCSWVGVP_Y"
      },
      "execution_count": 75,
      "outputs": []
    },
    {
      "cell_type": "markdown",
      "source": [
        "#Assignment\n",
        "\n",
        "Combine these two dictionary dict1 and dict2 in dict3"
      ],
      "metadata": {
        "id": "_VCaCV36ZYce"
      }
    },
    {
      "cell_type": "code",
      "source": [
        "dict1 = {\n",
        "    'name' : 'Parth',\n",
        "    'ph' : 40,\n",
        "    'ch' : 50,\n",
        "    'mt' : 70\n",
        "}\n",
        "dict2 = {\n",
        "    \"name\" : \"Jay\",\n",
        "    \"Age\" : 30,\n",
        "    \"City\" : \"Abd\",\n",
        "    \"Study\" : \"B-Tech\", # \"hceT-B\"\n",
        "    \"Marks\" : [10,20,30,40]\n",
        "}"
      ],
      "metadata": {
        "colab": {
          "base_uri": "https://localhost:8080/"
        },
        "id": "yvm7mnL5ZBFx",
        "outputId": "5ab793e5-38cb-45a6-ecaa-2b87ff1052a9"
      },
      "execution_count": 76,
      "outputs": [
        {
          "output_type": "execute_result",
          "data": {
            "text/plain": [
              "{'name': 'Parth', 'ph': 33, 'ch': 34, 'mt': 66, 'result': 'pass'}"
            ]
          },
          "metadata": {},
          "execution_count": 76
        }
      ]
    },
    {
      "cell_type": "code",
      "source": [],
      "metadata": {
        "id": "EBitZ6dpZEbJ"
      },
      "execution_count": null,
      "outputs": []
    }
  ]
}