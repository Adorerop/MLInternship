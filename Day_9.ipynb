{
  "nbformat": 4,
  "nbformat_minor": 0,
  "metadata": {
    "colab": {
      "provenance": []
    },
    "kernelspec": {
      "name": "python3",
      "display_name": "Python 3"
    },
    "language_info": {
      "name": "python"
    }
  },
  "cells": [
    {
      "cell_type": "markdown",
      "source": [
        "#Assignment\n",
        "\n",
        "Combine these two dictionary dict1 and dict2 in dict3"
      ],
      "metadata": {
        "id": "spU55WB-T2Da"
      }
    },
    {
      "cell_type": "code",
      "execution_count": 1,
      "metadata": {
        "id": "i4Qo2lzLTx7B"
      },
      "outputs": [],
      "source": [
        "dict1 = {\n",
        "    'name' : 'Parth',\n",
        "    'ph' : 40,\n",
        "    'ch' : 50,\n",
        "    'mt' : 70\n",
        "}\n",
        "dict2 = {\n",
        "    \"name\" : \"Jay\",\n",
        "    \"Age\" : 30,\n",
        "    \"City\" : \"Abd\",\n",
        "    \"Study\" : \"B-Tech\", # \"hceT-B\"\n",
        "    \"Marks\" : [10,20,30,40]\n",
        "}\n",
        "dict3 = {}\n",
        "dict3 = dict1\n",
        "\n",
        "for i in dict2:\n",
        "  dict3[i] = dict2[i]\n",
        "\n",
        "res = {**dict1 , ** dict2}\n",
        "print(res)"
      ]
    },
    {
      "cell_type": "markdown",
      "source": [
        "#Iterate dictionary with for loop"
      ],
      "metadata": {
        "id": "n3hVgawsXKQI"
      }
    },
    {
      "cell_type": "code",
      "source": [
        "dict2 = {\n",
        "    \"name\" : \"Jay\",\n",
        "    \"Age\" : 30,\n",
        "    \"City\" : \"Abd\",\n",
        "    \"Study\" : \"B-Tech\", # \"hceT-B\"\n",
        "    \"Marks\" : [10,20,30,40]\n",
        "}"
      ],
      "metadata": {
        "id": "1sqBbU8sT9PC"
      },
      "execution_count": 3,
      "outputs": []
    },
    {
      "cell_type": "code",
      "source": [
        "for i in dict2:\n",
        "  print(i, dict2[i])"
      ],
      "metadata": {
        "colab": {
          "base_uri": "https://localhost:8080/"
        },
        "id": "zYYpBgKFXE2K",
        "outputId": "8efc19a9-4262-406e-d89a-abfa30c024e8"
      },
      "execution_count": 5,
      "outputs": [
        {
          "output_type": "stream",
          "name": "stdout",
          "text": [
            "name Jay\n",
            "Age 30\n",
            "City Abd\n",
            "Study B-Tech\n",
            "Marks [10, 20, 30, 40]\n"
          ]
        }
      ]
    },
    {
      "cell_type": "code",
      "source": [
        "l = dict2.keys()\n",
        "print(l)"
      ],
      "metadata": {
        "id": "xOpEhsHpXxLc"
      },
      "execution_count": 8,
      "outputs": []
    },
    {
      "cell_type": "code",
      "source": [
        "l2 = dict2.values()\n",
        "print(l2)"
      ],
      "metadata": {
        "colab": {
          "base_uri": "https://localhost:8080/"
        },
        "id": "g6v-QzU7X4g6",
        "outputId": "d0a65774-3cb2-496b-8ae5-739e45559a92"
      },
      "execution_count": 10,
      "outputs": [
        {
          "output_type": "stream",
          "name": "stdout",
          "text": [
            "dict_values(['Jay', 30, 'Abd', 'B-Tech', [10, 20, 30, 40]])\n"
          ]
        }
      ]
    },
    {
      "cell_type": "code",
      "source": [
        "for i in dict2.keys():\n",
        "  print(i)"
      ],
      "metadata": {
        "colab": {
          "base_uri": "https://localhost:8080/"
        },
        "id": "OTdUv7j-XW1m",
        "outputId": "77b40747-b501-4afe-a4e3-41ff52c3939f"
      },
      "execution_count": 6,
      "outputs": [
        {
          "output_type": "stream",
          "name": "stdout",
          "text": [
            "name\n",
            "Age\n",
            "City\n",
            "Study\n",
            "Marks\n"
          ]
        }
      ]
    },
    {
      "cell_type": "code",
      "source": [
        "for i in dict2.values():\n",
        "  print(i)"
      ],
      "metadata": {
        "colab": {
          "base_uri": "https://localhost:8080/"
        },
        "id": "O82E2Y_fXj04",
        "outputId": "c16e76fa-9406-497d-fa2f-8908498a638a"
      },
      "execution_count": 7,
      "outputs": [
        {
          "output_type": "stream",
          "name": "stdout",
          "text": [
            "Jay\n",
            "30\n",
            "Abd\n",
            "B-Tech\n",
            "[10, 20, 30, 40]\n"
          ]
        }
      ]
    },
    {
      "cell_type": "markdown",
      "source": [
        "#Nested dictionary"
      ],
      "metadata": {
        "id": "t-nhs-fVYXCp"
      }
    },
    {
      "cell_type": "code",
      "source": [
        "dict1 = {\n",
        "    \"name\" : \"Jay\",\n",
        "    \"Age\" : 30,\n",
        "    \"City\" : \"Abd\",\n",
        "    \"Study\" : \"B-Tech\", # \"hceT-B\"\n",
        "    \"Marks\" : [10,20,30,40],\n",
        "    \"Address\" : {\n",
        "        \"name\" :50,\n",
        "        \"State\" :\"Gujarat\"\n",
        "    }\n",
        "}"
      ],
      "metadata": {
        "id": "FS5dpYeAXsMH"
      },
      "execution_count": 17,
      "outputs": []
    },
    {
      "cell_type": "code",
      "source": [
        "print(dict1[\"name\"])\n",
        "print(dict1[\"Address\"][\"name\"])"
      ],
      "metadata": {
        "colab": {
          "base_uri": "https://localhost:8080/"
        },
        "id": "2gP_MpPwYwJ3",
        "outputId": "9fc59e0d-7595-4583-d069-a50f2770ebf2"
      },
      "execution_count": 20,
      "outputs": [
        {
          "output_type": "stream",
          "name": "stdout",
          "text": [
            "Jay\n",
            "50\n"
          ]
        }
      ]
    },
    {
      "cell_type": "markdown",
      "source": [
        "# Practice code 1\n",
        "Given a dictionary where values are list of integers.\n",
        "Change the values to the average of that lists"
      ],
      "metadata": {
        "id": "f7k3ZESAZ-cs"
      }
    },
    {
      "cell_type": "code",
      "source": [
        "l = {\n",
        "    \"a\" : [22,44,66,33,45,78,9,0,8,0,0],\n",
        "    \"b\" : [12,43],\n",
        "    \"c\" : [354,67,76,34,3,5,7,5,3,2,4,6,7,8,8,9],\n",
        "     \"d\": [23,56,78,89]\n",
        "}\n",
        "for i in l:\n",
        "  avg = sum(l[i])/len(l[i])\n",
        "  l[i] = avg\n",
        "  \n",
        "print(l)"
      ],
      "metadata": {
        "id": "CnwHMwiSZDRn"
      },
      "execution_count": 27,
      "outputs": []
    },
    {
      "cell_type": "markdown",
      "source": [
        "#Practice code 2\n",
        "\n",
        "Given a dictionary where values are list of integers. Combine all the lists in one list and find its average"
      ],
      "metadata": {
        "id": "_94BHxaLcirB"
      }
    },
    {
      "cell_type": "code",
      "source": [
        "l = {\n",
        "    \"a\" : [22,44,66,33,45,78,9,0,8,0,0],\n",
        "    \"b\" : [12,43],\n",
        "    \"c\" : [354,67,76,34,3,5,7,5,3,2,4,6,7,8,8,9],\n",
        "     \"d\": [23,56,78,89]\n",
        "}\n",
        "expected_output = [22,44,66,33,45,78,9,0,8,0,0,12,43,354,67,76,34,3,5,7,5,3,2,4,6,7,8,8,9,23,56,78,89]"
      ],
      "metadata": {
        "id": "c3JywchlZn4y"
      },
      "execution_count": 32,
      "outputs": []
    },
    {
      "cell_type": "code",
      "source": [
        "output = []\n",
        "for i in l.values():\n",
        "  output = output + i\n",
        "\n",
        "#Alternative solution\n",
        "output = []\n",
        "for i in l:\n",
        "  output = output + l[i]"
      ],
      "metadata": {
        "id": "WaDSdnZbaxhw"
      },
      "execution_count": 35,
      "outputs": []
    },
    {
      "cell_type": "code",
      "source": [
        "print(output)"
      ],
      "metadata": {
        "colab": {
          "base_uri": "https://localhost:8080/"
        },
        "id": "Jz0EMD2ebFLb",
        "outputId": "a31001d9-6698-42f4-c505-515f515d7386"
      },
      "execution_count": 36,
      "outputs": [
        {
          "output_type": "stream",
          "name": "stdout",
          "text": [
            "[22, 44, 66, 33, 45, 78, 9, 0, 8, 0, 0, 12, 43, 354, 67, 76, 34, 3, 5, 7, 5, 3, 2, 4, 6, 7, 8, 8, 9, 23, 56, 78, 89]\n"
          ]
        }
      ]
    },
    {
      "cell_type": "markdown",
      "source": [
        "#Assignment 1\n",
        "\n",
        "Given a list that contains lists.\n",
        "create dictionary where 1st element will be key and rest of the element will be values(in list format)"
      ],
      "metadata": {
        "id": "Nflen7e5eYrc"
      }
    },
    {
      "cell_type": "code",
      "source": [
        "inp = [['abc',12,23,45,56], ['pqrs',55,66,77,89], ['xyz',34,6,8,4,3], ['opst',45,67,897,7,7]]"
      ],
      "metadata": {
        "id": "p99TdZPdbFHx"
      },
      "execution_count": null,
      "outputs": []
    },
    {
      "cell_type": "code",
      "source": [
        "expected_output = {\n",
        "    'abc': [12,23,45,56],\n",
        "    'pqrs' : [34,6,8,4,3],\n",
        "    'opst' : [45,67,897,7,7]\n",
        "}"
      ],
      "metadata": {
        "id": "wkbifkO6bFFZ"
      },
      "execution_count": null,
      "outputs": []
    }
  ]
}