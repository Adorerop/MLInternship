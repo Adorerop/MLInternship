{
  "nbformat": 4,
  "nbformat_minor": 0,
  "metadata": {
    "colab": {
      "provenance": []
    },
    "kernelspec": {
      "name": "python3",
      "display_name": "Python 3"
    },
    "language_info": {
      "name": "python"
    }
  },
  "cells": [
    {
      "cell_type": "markdown",
      "source": [
        "#Realtime applications and logic building questions"
      ],
      "metadata": {
        "id": "dZ-qpmWGD_hn"
      }
    },
    {
      "cell_type": "markdown",
      "source": [
        "#Practice code 1\n",
        "Read radius from user and create function to find area of circle."
      ],
      "metadata": {
        "id": "gZTRxPQjEC3T"
      }
    },
    {
      "cell_type": "code",
      "source": [
        "import math\n",
        "r = int(input(\"Enter radius : \"))\n",
        "\n",
        "def find_area(r):\n",
        "  pi = math.pi\n",
        "  area = pi * r *r\n",
        "  return(area)\n",
        "\n",
        "ans = find_area(r)\n",
        "print(ans)"
      ],
      "metadata": {
        "colab": {
          "base_uri": "https://localhost:8080/"
        },
        "id": "DgA24KbKECcf",
        "outputId": "7c5d90fc-cabf-47a1-b224-08a6192e410f"
      },
      "execution_count": 11,
      "outputs": [
        {
          "name": "stdout",
          "output_type": "stream",
          "text": [
            "Enter radius : 10\n"
          ]
        }
      ]
    },
    {
      "cell_type": "markdown",
      "source": [
        "#Practice code 2\n",
        "Find maximum from a list"
      ],
      "metadata": {
        "id": "9ZwD3u94EJVF"
      }
    },
    {
      "cell_type": "code",
      "execution_count": 21,
      "metadata": {
        "id": "EMN4kic4D0ew"
      },
      "outputs": [],
      "source": [
        "l = [4,3,5,7,6,2,1]"
      ]
    },
    {
      "cell_type": "code",
      "source": [
        "maximum = l[0]"
      ],
      "metadata": {
        "id": "fRS7tBYcJZ-_"
      },
      "execution_count": 31,
      "outputs": []
    },
    {
      "cell_type": "code",
      "source": [
        "for i in l:\n",
        "  print(\"i value is =\",i,\"maximum value is = \",maximum)\n",
        "  if(i>maximum):\n",
        "    maximum = i\n",
        "    print(\"New maximum value is =\",maximum)"
      ],
      "metadata": {
        "colab": {
          "base_uri": "https://localhost:8080/"
        },
        "id": "EHClbrwnJZ9M",
        "outputId": "b10e338c-84ae-4d51-d180-180e14da717f"
      },
      "execution_count": 32,
      "outputs": [
        {
          "output_type": "stream",
          "name": "stdout",
          "text": [
            "i value is = 4 maximum value is =  4\n",
            "i value is = 3 maximum value is =  4\n",
            "i value is = 5 maximum value is =  4\n",
            "New maximum value is = 5\n",
            "i value is = 7 maximum value is =  5\n",
            "New maximum value is = 7\n",
            "i value is = 6 maximum value is =  7\n",
            "i value is = 2 maximum value is =  7\n",
            "i value is = 1 maximum value is =  7\n"
          ]
        }
      ]
    },
    {
      "cell_type": "code",
      "source": [
        "print(maximum)"
      ],
      "metadata": {
        "colab": {
          "base_uri": "https://localhost:8080/"
        },
        "id": "BhgxxCQiJZ7F",
        "outputId": "28e7eef2-78af-4103-d3d4-fbf936c221dc"
      },
      "execution_count": 33,
      "outputs": [
        {
          "output_type": "stream",
          "name": "stdout",
          "text": [
            "7\n"
          ]
        }
      ]
    },
    {
      "cell_type": "markdown",
      "source": [
        "#Practice code 2\n",
        "\n",
        "Read n from user.\n",
        "\n",
        "Get sum of number from 1 to n."
      ],
      "metadata": {
        "id": "ZgVwTRmoEOB9"
      }
    },
    {
      "cell_type": "code",
      "source": [
        "n = int(input())"
      ],
      "metadata": {
        "colab": {
          "base_uri": "https://localhost:8080/"
        },
        "id": "cqvnr8tJERRR",
        "outputId": "30799460-2bc6-46fd-f0a5-cd38d013d327"
      },
      "execution_count": 40,
      "outputs": [
        {
          "name": "stdout",
          "output_type": "stream",
          "text": [
            "5\n"
          ]
        }
      ]
    },
    {
      "cell_type": "code",
      "source": [
        "sum1 = 0\n",
        "for i in range(n+1):\n",
        "  print(\"i value is = \", i)\n",
        "  sum1 = sum1 + i\n",
        "print(\"Answer is \",sum1)\n",
        "\n",
        "#Alternative answer\n",
        "ans = n*(n+1)/2\n",
        "print(ans)"
      ],
      "metadata": {
        "colab": {
          "base_uri": "https://localhost:8080/"
        },
        "id": "dCw4RYG_HrV8",
        "outputId": "945c66da-0423-4bcd-a39a-e9793054a157"
      },
      "execution_count": 51,
      "outputs": [
        {
          "output_type": "stream",
          "name": "stdout",
          "text": [
            "i value is =  0\n",
            "i value is =  1\n",
            "i value is =  2\n",
            "i value is =  3\n",
            "i value is =  4\n",
            "i value is =  5\n",
            "Answer is  15\n",
            "15.0\n"
          ]
        }
      ]
    },
    {
      "cell_type": "markdown",
      "source": [
        "#Practice code 3\n",
        "\n",
        "Read n from user.\n",
        "\n",
        "Get multiplication of number from 1 to n."
      ],
      "metadata": {
        "id": "Q150q34cPYA0"
      }
    },
    {
      "cell_type": "code",
      "source": [
        "n = int(input(\"Enter n : \"))"
      ],
      "metadata": {
        "colab": {
          "base_uri": "https://localhost:8080/"
        },
        "id": "VcRKfw3QPXiO",
        "outputId": "367ceb27-31a9-45bb-9b1b-96003677679a"
      },
      "execution_count": 52,
      "outputs": [
        {
          "name": "stdout",
          "output_type": "stream",
          "text": [
            "Enter n : 8\n"
          ]
        }
      ]
    },
    {
      "cell_type": "code",
      "source": [
        "mult = 1\n",
        "for i in range(1,n+1):\n",
        "  print(\"i value is :\", i)\n",
        "  mult = mult * i\n",
        "\n",
        "print(mult)"
      ],
      "metadata": {
        "colab": {
          "base_uri": "https://localhost:8080/"
        },
        "id": "F7BlSA52HrS7",
        "outputId": "c5add7b2-a50f-4899-9602-937954329c92"
      },
      "execution_count": 59,
      "outputs": [
        {
          "output_type": "stream",
          "name": "stdout",
          "text": [
            "i value is : 1\n",
            "i value is : 2\n",
            "i value is : 3\n",
            "i value is : 4\n",
            "i value is : 5\n",
            "i value is : 6\n",
            "i value is : 7\n",
            "i value is : 8\n"
          ]
        }
      ]
    },
    {
      "cell_type": "markdown",
      "source": [
        "#Practice code 4\n",
        "\n",
        "Read n from user.\n",
        "\n",
        "create function to check if the number is prime or not.\n",
        "\n",
        "prime = 2,3,5,7,11,13,17,19,23,29.........."
      ],
      "metadata": {
        "id": "rJJO_2o5QfUn"
      }
    },
    {
      "cell_type": "code",
      "source": [
        "n = int(input(\"Enter n : \"))\n",
        "\n",
        "def is_prime(n):\n",
        "  for i in range(2,n):  # 2....22\n",
        "    if(n%i == 0):\n",
        "      return(False)\n",
        "  return(True)\n",
        "\n",
        "ans = is_prime(n)\n",
        "print(ans)"
      ],
      "metadata": {
        "colab": {
          "base_uri": "https://localhost:8080/"
        },
        "id": "u944MCy9O0CJ",
        "outputId": "3a1037b4-ecf1-4253-c415-fbde0be9f249"
      },
      "execution_count": 61,
      "outputs": [
        {
          "name": "stdout",
          "output_type": "stream",
          "text": [
            "Enter n : 23\n"
          ]
        }
      ]
    },
    {
      "cell_type": "markdown",
      "source": [
        "# Practice code 5\n",
        "\n",
        "read n from user.\n",
        "\n",
        "Get the sum of the digits of the number.\n",
        "\n",
        "n = 4563\n",
        "\n",
        "sum == 4+5+6+3 = 18"
      ],
      "metadata": {
        "id": "zDUU397rSJZr"
      }
    },
    {
      "cell_type": "code",
      "source": [
        "n = int(input(\"Enter number :\"))"
      ],
      "metadata": {
        "colab": {
          "base_uri": "https://localhost:8080/"
        },
        "id": "3tkpfukzQhKy",
        "outputId": "8608c592-1d03-4816-81eb-d2d6834bb876"
      },
      "execution_count": 65,
      "outputs": [
        {
          "name": "stdout",
          "output_type": "stream",
          "text": [
            "Enter number :8456\n"
          ]
        }
      ]
    },
    {
      "cell_type": "code",
      "source": [
        "st = str(n)\n",
        "\n",
        "sum1 = 0\n",
        "for i in st:\n",
        "  sum1 = sum1 + int(i)\n",
        "\n",
        "print(sum1)"
      ],
      "metadata": {
        "id": "svDz2-IbTBuW"
      },
      "execution_count": 70,
      "outputs": []
    },
    {
      "cell_type": "markdown",
      "source": [
        "#Assignment code 1\n",
        "\n",
        "Read readius and height of cylinder from user\n",
        "create function 'find_volume' to find its volume and return it."
      ],
      "metadata": {
        "id": "tDx08FT0Hr1E"
      }
    },
    {
      "cell_type": "code",
      "source": [
        "import math\n",
        "\n",
        "r = int(input(\"Enter radius :\"))\n",
        "h = int(input(\"Enter height\"))\n",
        "\n",
        "def find_volume(r,h):\n",
        "  pi = math.pi\n",
        "  volume = pi * r*r*h\n",
        "  return(volume)\n",
        "\n",
        "ans = find_volume(r,h)\n",
        "print(ans)"
      ],
      "metadata": {
        "id": "SYDJkyqDI4Ap"
      },
      "execution_count": null,
      "outputs": []
    },
    {
      "cell_type": "markdown",
      "source": [
        "#Assignment code 2\n",
        "Take a list. Find minimum from the list.\n",
        "\n",
        "put print statement to track the flow of code."
      ],
      "metadata": {
        "id": "Ej_DgBRlL8Bk"
      }
    },
    {
      "cell_type": "code",
      "source": [
        "l = [4,3,5,7,6,2,1]"
      ],
      "metadata": {
        "id": "1ynEYFyZL9WX"
      },
      "execution_count": 34,
      "outputs": []
    },
    {
      "cell_type": "markdown",
      "source": [
        "i   minimum\n",
        "4    4\n",
        "3    3\n",
        "5    3\n",
        "7    3\n",
        "6    3\n",
        "2    2\n",
        "1    1"
      ],
      "metadata": {
        "id": "oQv3kHKbMbOq"
      }
    },
    {
      "cell_type": "code",
      "source": [
        "minimum = l[0]\n",
        "\n",
        "for i in l:\n",
        "  print(\"i value = \",i,\"minimum value = \",minimum)\n",
        "  if(i<minimum):\n",
        "    minimum = i\n",
        "    print(\"New minimum = \",minimum)\n",
        "print(minimum)"
      ],
      "metadata": {
        "colab": {
          "base_uri": "https://localhost:8080/"
        },
        "id": "4nBFmymsMay-",
        "outputId": "b089a1e2-514b-46a9-c9f6-58c18b6e419a"
      },
      "execution_count": 39,
      "outputs": [
        {
          "output_type": "stream",
          "name": "stdout",
          "text": [
            "i value =  4 minimum value =  4\n",
            "i value =  3 minimum value =  4\n",
            "New minimum =  3\n",
            "i value =  5 minimum value =  3\n",
            "i value =  7 minimum value =  3\n",
            "i value =  6 minimum value =  3\n",
            "i value =  2 minimum value =  3\n",
            "New minimum =  2\n",
            "i value =  1 minimum value =  2\n",
            "New minimum =  1\n",
            "1\n"
          ]
        }
      ]
    },
    {
      "cell_type": "markdown",
      "source": [
        "#Assignment code 3\n",
        "\n",
        "Read n from user.\n",
        "\n",
        "Get sum of squares of number from 1 to n.\n",
        "\n",
        "1*1 + 2*2 + 3*3 + 4*4 +.......+ n*n"
      ],
      "metadata": {
        "id": "Cy_tvtZWT_2W"
      }
    },
    {
      "cell_type": "markdown",
      "source": [],
      "metadata": {
        "id": "CNJIH2qgfMcH"
      }
    }
  ]
}