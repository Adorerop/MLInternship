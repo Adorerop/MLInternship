{
  "nbformat": 4,
  "nbformat_minor": 0,
  "metadata": {
    "colab": {
      "provenance": []
    },
    "kernelspec": {
      "name": "python3",
      "display_name": "Python 3"
    },
    "language_info": {
      "name": "python"
    }
  },
  "cells": [
    {
      "cell_type": "code",
      "source": [
        "n = int(input())"
      ],
      "metadata": {
        "colab": {
          "base_uri": "https://localhost:8080/"
        },
        "id": "kQP8ENwChnr7",
        "outputId": "1ebf1a2e-9c97-4f34-c0ce-b5e66c27d557"
      },
      "execution_count": null,
      "outputs": [
        {
          "name": "stdout",
          "output_type": "stream",
          "text": [
            "10\n"
          ]
        }
      ]
    },
    {
      "cell_type": "code",
      "source": [
        "for i in range(n):\n",
        "  for j in range(n):\n",
        "    print(\"*\" ,end=\" \")\n",
        "  print('\\n')"
      ],
      "metadata": {
        "colab": {
          "base_uri": "https://localhost:8080/"
        },
        "id": "C_gcJhZBQKQS",
        "outputId": "eb314bcb-c647-4192-e169-a4ca92df2572"
      },
      "execution_count": null,
      "outputs": [
        {
          "output_type": "stream",
          "name": "stdout",
          "text": [
            "* * * * * * * * * * \n",
            "\n",
            "* * * * * * * * * * \n",
            "\n",
            "* * * * * * * * * * \n",
            "\n",
            "* * * * * * * * * * \n",
            "\n",
            "* * * * * * * * * * \n",
            "\n",
            "* * * * * * * * * * \n",
            "\n",
            "* * * * * * * * * * \n",
            "\n",
            "* * * * * * * * * * \n",
            "\n",
            "* * * * * * * * * * \n",
            "\n",
            "* * * * * * * * * * \n",
            "\n"
          ]
        }
      ]
    },
    {
      "cell_type": "markdown",
      "source": [
        "# Assignment code :\n",
        "Print below * pattern :\n",
        "\n",
        "![image.png](data:image/png;base64,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)"
      ],
      "metadata": {
        "id": "K-vbpZpRQHtY"
      }
    },
    {
      "cell_type": "code",
      "source": [
        "for i in range(n):\n",
        "  for j in range(n):\n",
        "    if(i==j or i+j==n-1):\n",
        "      print(\"*\" ,end=\" \")\n",
        "    else:\n",
        "      print(\" \" ,end=\" \")\n",
        "  print('\\n')"
      ],
      "metadata": {
        "colab": {
          "base_uri": "https://localhost:8080/"
        },
        "id": "GdsLmcGSeEv6",
        "outputId": "1156bc26-34ee-4363-82d9-cddb652cb798"
      },
      "execution_count": null,
      "outputs": [
        {
          "output_type": "stream",
          "name": "stdout",
          "text": [
            "*                 * \n",
            "\n",
            "  *             *   \n",
            "\n",
            "    *         *     \n",
            "\n",
            "      *     *       \n",
            "\n",
            "        * *         \n",
            "\n",
            "        * *         \n",
            "\n",
            "      *     *       \n",
            "\n",
            "    *         *     \n",
            "\n",
            "  *             *   \n",
            "\n",
            "*                 * \n",
            "\n"
          ]
        }
      ]
    },
    {
      "cell_type": "markdown",
      "source": [
        "![image.png](data:image/png;base64,iVBORw0KGgoAAAANSUhEUgAAAMgAAADICAIAAAAiOjnJAAAXYUlEQVR4nO2dT2wbx73Hx22oxMKDuIEMh30v6q6MxkbhQKTfQ1TAB5JCIqEX0yQQ9SaJBKKbCZkofXNBKmZPEUApys0HkuLRB9n0oUXUQOQC9QPiA3cNC6gFxNyNClQGTHApvMpRmNd9h188b0NJ1Iraf5J+HxgGRc6f38z+dmZ25rszZ1RVJQhiND+z2wDkZIKOhZjCG3oCpdNps+1AjhHNZjObzXYOo8uxCPoWomFkZOTAMNgVIqZgg2MpikL/xyjOiWIsVjvWyMjI/fv3CSGDg4Plctk5UdLpdCKRIITEYjGd/b5jo5TL5StXrhBC8vm8nm7LFFQdpFIpPcH0sLy8zHFcLpcLh8OOilKr1RiGWV1d5Tiu0Wgc6yiqqvp8vlwux3FctVrVGUU/wWDwwDBnVB0TpOl02pDBezqd9vl8hUJBkqRUKiVJks/nCwaDtkfJ5/OEEEmSCoXCzMwMwzCEkGg0ehyjlMtlQRA4jkskEsFg8Pr164IgGPvsNTIysrq62jmM3qdCQ5BlmRCiKIokSYIgEEIkSXJCFAggy7KiKKIosix7YFmcHEVRlEqlAp8FQYAKsRo9TZ+BXWG1WoVWOhqNOipKo9Hw+Xyrq6s+n09nj+PYKKqqRqPRXC7n8/ns6gqtdqxgMJjL5RqNBsMwOstsTZRUKgVeGAwGs9nssY4CAzKIq3+UqR8nOha95/TffNZEoYFPbRT96HEsq6cbYPip/eCQKDTwqY1iLDjzjpgCOhZiCuhYiCmgYyGmgI6FmAI6FmIK6FiIKaBjIaaAjoWYgkMVpLYLIB3OgfVjewU6UUHahWbyVHFgHaKCdG+600yeHvTUoe0KUktbLGh+fD7fwsLC1NTU/Pz87hsun8+Xy+WZmZlYLDYzM3P//n1QUSLAgXVYLpfn5+dTqdTs7GwwGJQkyZZW33EK0i40k6eKA+sQFaT7aju700yeHvTUISpI987usJrJU8WBdYgK0gOCYXO1J3rqEBWknYLZKIB0Mnrq0PYKxJl3xBTQsRBTQMdCTAEdCzEFdCzEFNCxEFNAx0JMAR0LMQV0LMQUHKogtSs1h0CL03W5bK8WJypI9eMIqaTRKIoyODgIipfBwcEunMMJ1WKpHosQMjMzA7LjYDDYeftGPQSDQYZh8vn8wsLC8vKyEQbaD8Mw0Wh0dnaWEJJKpbpY73NCtThOQaofh0gljQVKARuHwu6p6XT6wK0utTikWhynINWPU6SShqIoSrPZhPtNkqRyudxsNg/VGzqlWvTob+zdg7Qzpkol7QLqB4rWXQqoID0SZkslbQEqp1ardf2eEipIDUvwhGlNj15LqCA1JsETpjU9ei3ZXi04846YAjoWYgroWIgpoGMhpoCOhZgCOhZiCuhYiCmgY9lAPp+HheFEInFSN2lCx7IBjuMWFhYkSbp//77P57PbHFNAx7IaOFc3lUrFYjGQW4HQ44RhtWMlEglQkI6MjFhZoYqijIyMgGIHPliWdRuzs7OxWOzBgwflcnlhYSEWi4Gmz0AEQYhEIoSQfD4PskrrsVpB6na7FxYWGIZRFIXjOMvyhVWz+fl5QgjHcTYuooGkMxKJZLNZURRzuZzhWXAcVy6Xy+VyoVCYmpoyPH1d6FnNNkrdsLq62mg0wuFwOByuVqvVarVWqxmScmcajQZkHQwGw+Ew/dOCrPcklUqBQIDjOMN3lqvValC3wWAwGo1CYY3NQo+6wdIWKxaLcRynKIogCNAZBQIBC4SzgiAkEgmGYUBdGYlEFEXJZrNHF913x82bN8PhMCEE9j82NvF8Pg/yURA3RyIRSZJqtZqxuRyMHg81Vo/l8/lSqVTX2siuqVartLG0OGvryWaz0C6a0TA7rsUihEQikevXr0ej0cHBQZ/PZ9nDNgzel5eX4SauVqsnTMKlpVwuz87O1mo1WZZjsZgtL+pY7VjZbBbGzrApsmX5MgyzvLwMfZ+9g3cLCAaDy8vLDMOkUim7bLDasagzWT++oTnaNbSyEnoL2WUATpAipoCOhZgCOhZiCuhYiCmgYyGmgI6FmAI6lpHYpd1wIFbPY51s7NJuOBBssQyjXC7fvHmTYZiFhYVcLidJ0lE2aTruYIu1B4lEIhAIhMPhkZGRbDarc+nJLu2GMzktCtJDAT1auVw+VI9Wq9VguTeVSk1NTa2urtrlVU5QkFrtWN1dMys5So9GtRuxWMzG20arIPV6vfYYoUd/c9wVpIeC47hgMAjdH+zAq7/41WoV9E+Gizb1gwpSh45CarUaiLdSqRTHcdFoVH9cG7UbFIcoSC11rKNcMyuxS41oCHCjzs/PBwKBSqUCwiwb7NDT9Bm7B2kqlYIbyLESYSf0aEdhdXWVYZhGoxGNRk/LHqTH/ZodF6B6a7WaGaNYx42xiDNGIacBVJAiJxN0LMQU0LEQU0DHOhyKosAGEOVyGdamkD1BxzockiQlEglJkgqFwoMHD+w2x7mguuFwwAlTs7OzgiBUq1W7zXEu2GIdgnQ6/fbbbxcKBegEr1y5cubMGbuNcijoWIcA1nRhsw2O42AR3W6jHAo61iHgOA6WdbPZLCEknU47U/njBNCxDg2soM/MzKBXdQAVpIeD47ibN28SQkDtZLc5e4MKUmfd8SARs3HfW6NwgoLUUsdy8nss6XQabu5YLOY07eGhgFpdXV2dnZ3lOC4cDsPR5RaDCtIfiUajV65cmZqaEgTBjJ2MLcMhCtIzqqoeGCidTht1+UFBev36dUcpSOHcEZhPn5mZAcmlc8zrgvn5eUVRTFKQjoyMrK6udg5zWvYg7Qz0yLIsK4oiiiLLsnZbdCScsAcpKkh/BLZzhp1Ru95pmCo2bS+d7QpSq58KfT4ftMxOU5DOz8/7fL5gMMgwTNcncsVisXw+D929LUNmClWQ2vXojYvQP5JOp+F54iiDkmw2G4lEYLtip905FoMz7/8P+FPXXjUyMlIoFDiOg0OXIpHIST2LUA/YYhnG1NQULCZyHAe9qt0W2Qk6lmFEo1EYYKVSqdnZ2VOu1sKu0EgqlUoqlQqHwyf1eEv9YItlJHTK/sD5wxMPtliIKaBjIaaAjoWYAjoWYgonX0F63DWrXeAEBenJP8X+FO697oRT7E+4gtSxmlXzZNCoILVCQepMzWo6nZZlOZfLxWIxr9drrD0OUZCe/FPsrc/xQGq1GpyKzXGcGafMq3iKvQUKUqdpVkHyMDMzE4vFZmZm4MHCWBm0ExSkJ/8Ue+tz7IwFMmgnnGJvdVeIqAbJoG3EidJkhBgkg3Y4qG6wAUNk0A4HWyx7OKIM2vmgYyGmgI6FmAI6FmIK6FiIKaBjIaaAjoWYAjoWYgrHTEEK+20oiiJJEnwwwUabOXoZUUF6aD0nzCjCaTawtGy8iXZz9DI6QUF6nE6xhwPZG41GMBgMh8P0T0NscwhHLyOeYn9oPacgCIlEgmEYSZIURYlEIoqiZLPZk7T9xtHLiArSLvWc1WqVtnlGWeU0jl5G2xWkx+wU+0ajAZK9XC5nnq7XXo5eRjzFvhtoRNv3+TSPo5fR9j1Ird6OGzkB6NmOGydIEVNAx0JMAR0LMQV0LMQU0LEQU0DHQkwBHQsxBXQsxBTQsRBTQMdCTOEYKEitiZLP52HZKpFI6NxPwbFRnKAgPQan2FsTheO4hYUFSZLu37+vc7cjJ0ex/RR7pytIrYkCYUBPl8vlQIR5TKM4REFqqbphcHCQKkhBEnmggtSaKCDUJISUy2U4A5ZhmM4b4Tk2SjqdpgpShmHgpDtjFaR61A3H4BR7a6IQQiKRSCAQEEWRnrV0fKPYfor9MVCQWhMFhLyqqnIcl81mj3UUVJA6KEqj0QAXpHGPbxQVFaTIcQQVpIhtoGMhpoCOhZjCMds1eUsUW81m39CQi2HqPE8I6ff77TYK2QN7Wqy1ZPLR6OiWKNJvNpaWHo2ObiwtdY74FCI+eUIIeTQ6+mh01FjDNpaWHo+PPxodfTw+vlkqGZt4d7QU5fniIhRWmJ7WVpqTscexmqJY5/lWs0m/2ZblOs9vy7It9gDC9DS9cmCPjcYALUV5NDa2lkxCXdUrFVpFa8lkZXjYVus6ccy6QvPYluWNpaVelv1wfR2+aTlg863NUmlLFAcmJ31378I31Krni4v22XUwDh28txQFusvH4+MH9o/AZqkEvdhaMgm39bYsw58QADoU+GlLFB+Njj67c4dG/+H1BaNXzqVZCanzPCS+sbQEvTY0bNruGNKE7FqKQntVYXqaNjM07rM7d9oM27PzhYZK6+JgFc2U5rhZKgnT05AObWvBpI2lpc1SyfBhQ2fsdKyNYvHZnTvwT9vvbMvyV5cuwR25JYrQQ3VOai2ZfDw+Dhf7+eIiPzy8JYq9LPtKlumdvVEs1nm+XqkQQl7yfJ3nezUnb/V5vX1e77Ys88PDba4M3gAWrmcya7du0X68zvPU8lazWef5pigSQlwMs57JgENsLC3xw8PwGXrYp8nkeiYDISvDw2vJpNvrJYTs9i1PKORiGHCLzl3zRrG4LUlgEg0MJm0Ui1pvswg9U/iGn/71148+KvX07P73t08/VVW1+sknpZ6ebz7/XFXV7xuNv7z3XqmnpykINOLLSkVVVYiiquo/JanU0/OX9977vtFQVfWbzz8v9fR8/fHHqqo+/f3vIS6E+dP58/D91x9/XOrp+f6nKyTfNxqQNaQGOaqq+qfz56kB3zca8GebDaqqvqxUSj09f/3oI22aTUGAvL4tFFRV/dunn4IZ/5QkVVW/LRRoSVVV/ct775U/+KCtrpqCQKvrrx99RG3WZk35pyRBFtVPPqEmlXp6/vHgQZeXai+cfvrX5bm5qysr8G9gcpJ+D3fthXicEOJimHcnJggh/9j/GQ3CvzsxAd0ERIQvYTLiJc/XKxUXwwzeuAE3bp3noTHQpuNiGN/dux+ur3tCoW1Zfjw+TmCCQ1H6/f4+rxfC9A0N6Sndszt3/vzOO5XhYbBE+1wyeOMGNJabDx8SQjaKRehSW83m7oe+Pq8XqqjP663z/NqtW/tVwlcXL3518eJ6JkMI2dYcfd3v93tCIT02G4idjuX2evv9fvh39pe/pN/vOWp27a/96BAeKnTryZPNhw/7/f5zgUBLUTZLJfCVPVPrZdkP7t2DbrHt0VU/zxcX1zMZTyj02xcvLt6+3dlyWg+DN27sF7jf77/65ZeEkD1HnFui+Hh8/A2G+XB9/erKShcGG44TB+/gDTA2ainK34tFQsi5/SdCfxEKEUL+XizCdYKI1G88oRDMbniuXev3+10Ms1Es0ly0aBsVGMufZVmIUud5aEtaigKzaAA0PBCxqWlsoJUamJhwMcwP+7sm2OByuy/94Q/0nzZAS1HobQMu3vvTE1nhV2jOPdeu9bKsEx5miTOnGy7dvl3n+bVkcrNUeiXL27J8IR7v21+73ef1DkxOwhj5LMvWed7FMJfn5uDXfr9/M5kkhPQHAj/+WSr1eb1tV2hLFCvDw31er8vtpplCmMEbN9YzmUdjY31DQ1qvIoS8OzGxnsn89+joWZbV/tTv99d5Xvjkk7bv2xiYmNgoFp8vLr7keZfbTQjxhELQlQMbxeJaMgk3CaRDy+UJhTZLpUdjY+f8fk8otJ7J1L74os7zr2ydC6T8XI8eplwuG7uB7NaTJz97661fhEJvejzwzStZbjWb5/x+t9f7psfz77/73RlCdl686OW4oS++YF8/FWojwmMdDM48oVAvy7aazX99993AxMR/FYtvvU75TY9nSxTPBQIDExOEkJ+/9dbOixfc9LT7p576vzs7Lrd758ULQojb57tw48avXo9mzgUCvSy78+KFi2Eu3b69LcuvZHlgcrKXZc8FAoSQVrPZy3H/WSxuiaLb6z0/Nqb9/teZzLYsQ9G0xQRj/mN8/E2PB7yhl+PgT2rVv3Z2XAwDVp0fG/v1H/94fmwMfnr7N7/5odn813ff/dulSwOTk26vd1uWXQwz9MUX//PsGZjxg6LQzwZevkKhcLAuV89TAJ4JrUX7ZHo6cfpTIXKCceIYy+FALwZDImQ/0LEODR0+Ix3ArhAxBXQsxBTQsRBTMHGMBTJi+HzsBMQwmd42iQqsJZNNUXx/bq7DnG3bBD1oqbUBtkTxLMt2WKeyBj1l6Q6zHAvEG9pvLt6+3bZe0UZLUWBtWJvIWZbd8+qaDT88TAj57YsXuy3ZLX/dzW6ZSr/fT68fzPJ7QqEP7t0zqwD60FOW7jC3K4SVeVjTXc9kOkv2/vzOOyAoAGDB364FioGJCZipP4olVL4xMDlZ5/lHY2Ow4HiWZT2hkOfaNYONdhLmTje43G7aCT4eH998+BBWYGBVxOV20xaY3t/116tmcBvByi5NBCJqexbocPv9frqEDAEIIVtPnuxu8KCTollDgpC+9ifacNIOvc2SPY1pA2QLEKtvaGgtmXyaTIL64EI8rp0Jg+Lv2WNC6eiHtp+0UcB+KDJUY1sHt18uZmDRPJa2JFqdZL/f/8G9ey6G0Wptf1xzFUVCCOhur+3stBRFmJ6mEX1374KPPk0m6zzvu3tXmJ4Gzcl6JjMwOQnaGG1IyqPRUapth6XuqysrsGz8eHz8Qjx+2esFe67t7DxNJtssgUQ2ikVogF0Mc/XLLw8co1yIx2uLi3Weh8sPxby6sgKZgqkuhrn82WdgbUtRaH9KO1DIfUsUq5rXdS7E4zC1Bsl6QqEtUYTbjIrl98vFPKx4KtyW5afJJCEEGv+BiQltBwEiFqoiurqy8v7cHB2OQG9CCFm7dWuzVPLdvXttZ8cTCmmF5ISQ9UzmQjwOS7+EEAgJI5g2ZZyLYUDHB7UMVw78FT7THhDYbQnQFMWrKysX4vGWojzLZPTUw1mWJa9FCpS+oaHLn30GAwatteBVA5OTV1dW3F6vVgAIImywp8/rfb64qBXvb5ZKg/H41ZWVXpbdWFqCiPvlYh7mOlad5x+++eZXFy/CqyZUibAtSRvFInQuWqknfAD5OfQU0JvAuwl9Xm8vx9V5HgJr5eGD8fjluTmayOCNG55QyBMKQdzd42jyWq7eUhRPKPSS5wkhL3m+l2Xb2p42S+j378/N9fv90FQc6g3EtrUgF8P0BwIvKxWqPwOrQLvhu3u33++nr+hAXtuyPDA5eSEeh/aeEAKSNVo6+EmrvN0zF/02d4G5XWEvy4JiGGQt5PWLcuBnbTdiB+Auh3dO6JdaRZv7ME/LnlAIHrN/aDb7vF7PtWvC9HRLUbZEUauFMhY6AQEKY/r9xtKSMD0NFfXqdTsKIc/u9TgMdyMV3GqVhh3YMxdTMdexzrJs2xQDvCgHw4I6z+t8tQuquM/rDXz99dGt6n09vAVpFAgAQSpu3nzb88XFlqLsHtlAvv6vvwadKrgIlJc+h2r9ADzp1bffwp8Q/sAR3p65mIrVi9DwhAVy8g1NA04I6WVZeGvU7fXSXo92lDC4Xksm4XkNurCuzfCEQhvFYktR3p+bg+5vs1SClnV34DZL9OfSfK1m3igWIf3Ln33WFoa+RkY0w69elv1Rgzo9PTAxoX031RMKuW7d2lha6hsacnu9MHhtGxfuZs9cTMXqJZ2BiQm4irvfnxyMxwkhwvQ0rSwXw8DLnISQD+7d6/f7tbsYHMUMGHu5GAYc5Zzfvy3L+3lqmyX6oe/cwjD8w2fPdj/ng6s9Hh8Xpqe1XguTf/BKozYWPIT2siwk/kqWL96+fWAPvl8u5mHWjn5t00Vt0FmWtukWmBmik0+7E4EARNNytE3ntKWwe7Jntw3kpzNA9FdtLlpL2tLcc9Mb7XKWzrm0vqGhVrO5e5buDYZxud1/fuedtpHAfvNYbcnS3PfMpUP9dMCJm9siOmkKwjeff/6yUnlZqcArr/A2rxPQI01GoZ9DecnzdHMHQsiFeLzzSqvTQMdyKBficU8oBP2+NYswxoKO5Vx6bVJ2GIJex8LtuBGKnrOidD0VIshhQWkyYgr/B+yT4weJm6PiAAAAAElFTkSuQmCC)"
      ],
      "metadata": {
        "id": "QbQosjHYZd0V"
      }
    },
    {
      "cell_type": "code",
      "execution_count": null,
      "metadata": {
        "id": "zNJutl8XP91I",
        "colab": {
          "base_uri": "https://localhost:8080/"
        },
        "outputId": "146af783-8630-4fc2-9b28-14bff31cb5c4"
      },
      "outputs": [
        {
          "output_type": "stream",
          "name": "stdout",
          "text": [
            "* * * * * * * * * * \n",
            "\n",
            "* *             * * \n",
            "\n",
            "*   *         *   * \n",
            "\n",
            "*     *     *     * \n",
            "\n",
            "*       * *       * \n",
            "\n",
            "*       * *       * \n",
            "\n",
            "*     *     *     * \n",
            "\n",
            "*   *         *   * \n",
            "\n",
            "* *             * * \n",
            "\n",
            "* * * * * * * * * * \n",
            "\n"
          ]
        }
      ],
      "source": [
        "for i in range(n):\n",
        "  for j in range(n):\n",
        "    if(i==0  or j==0 or i==n-1 or j==n-1 or i==j or i+j==n-1):\n",
        "      print(\"*\",end=\" \")\n",
        "    else:\n",
        "      print(\" \",end=\" \")\n",
        "  print(\"\\n\")"
      ]
    },
    {
      "cell_type": "markdown",
      "source": [
        "![image.png](data:image/png;base64,iVBORw0KGgoAAAANSUhEUgAAAMgAAADICAIAAAAiOjnJAAAOWUlEQVR4nO2dT0wbVx7HX3cLKT5gS66KVyoZB6kkUlaYHhKpSDVGG9BesHIIRxMqhRtIreLcQIkCtyJVirnlALaPHBKcw6LQqniickgO8VhBCpEKTLzSUgmLsaV1SlzJe/gts7Nj49jg5/nj70dRZA+/ef694ev3nn/zfeajUqnEAGg0fzI6AWBPICzABQgLcOFj3fN79+4ZkgewNLlc7ocfftAe0QuLQVugfoaGhnRHMBUCLkBYgAsQFuAChAW4AGEBLkBYgAuGCSuVSukeADthjLA2Nja+/PLLvb295eXloaEhRVEMSQPwo0KBtAkEAoFvv/12eXl5dXX10aNHLpfLkDQAPwwQ1vLy8t7entPpjEaj/f39Gxsbq6urN2/e7O/vb34ygBMGTIVer1f9X1EUl8vldDoxaNkMA0asQCAQCAS++eabu3fvRqNRr9d7/fr15qcBuGLM4j2VSj1+/Pj69es3b9787rvvsHi3H8YIq7+//+XLly6Xa2Jigh4Ykgbgh2F1LFpjMcagKluCyjvgAoQFuABhAS5AWIALEBbgAoQFuGAB2wwMNlbE7LYZGGwsitltMzDYWBRT22ZgsLEuprbNwGBjYUr/z927d0tNYWJiYmlpKRAIPHr0qFGRwCgCgYDuiDHCIkfD4eHh0tKS1+s9PDw8eyQwELMIq1Qq7e7u0oMPaqX2SGAU5cKygG0GBhsrgso74AKEBbgAYQEuQFiACxAW4AKEBbhgK9sMDDbmwT62GRhsTIV9bDMw2JgKm9hmYLAxGzaxzcBgYzp09w4tbZuBwcYozOJu4GGbgcHGQMwirBIf2wwMNkZhc9sMDDbmAZV3wAUIC3ABwgJcgLAAFyAswAUIC3ChRW0zMNhwR1fXak6B9Oeff2aM7e7uLi0tUbncnJGgRsoLpH/W/c36jY2NQCDAW81erzeXy71+/ToajS4tLV26dMmckaBGotHoxMSE9ogBwlpeXn78+PEnn3wSjUYvXbr0+++/r66uejwej8djqkhQO+XCajnbDAw2TUI3NbaIbQYGm8ZiFneDsbYZGGwajlmEVTLaNgODTWOBbabuSHA6UHkHXICwABcgLMAFCAtwAcICXICwABdgm4HBhg+6uhZsM6eLbHFgm+EV2eLANgODDRdgm4HBplnopkbYZk4d2cqYxd1gFdsMDDY1YhZhlYw2w8Bg01hgm+EYCbSg8g64AGEBLkBYgAsQFuAChAW4AGEBLsA2A4MNH3R1LdhmeEfaEthmjI+0JbDNwGDDBdhmYLBpFrqpEbaZJkTaD7O4G6xihoHBpkbMIqyS0RYXGGwaC2wzpohsBVB5B1yAsAAXICzABQgLcAHCAlyAsAAXYJsxdaSF0dW1YJsxT6SFgG3GSpEWArYZy0RaC9hmLBNpeXRTI2wzpoq0CmZxN1jF4gKDTY2YRVglo40rVom0CrDNWCzSuqDyDrgAYQEuQFiACxAW4AKEBbgAYQEuwDZjk0jToatrwTZjxUjDgW3GnpGGA9uMDSPNAGwzNow0KbqpEbYZi0Yai1ncDVYxrlgl0nDMIqyS0XYU+0UaC2wzto00G6i8Ay5AWIALEBbgAoQFuABhAS5AWIALsM20XGST0NW1YJuxdyQnYJtp9UhOwDbT0pH8gG2mpSObim5qhG3G9pE8MIu7wSp2FPtFcsIswioZbTJp5UgelAvro1KppJ0Z7927p1vOA/BBhoaGqOShgso74AKEBbgAYQEuQFiACxAW4AKEBbgAYQEuQFiACxAW4AKEBbgAYQEuQFiACxAW4AKEBbjwMdfWi4qST6fpcZvT2enzaX+al6QDUeyZnq6lqc3hYcbYXxcWdI1UJy9JxVyu4o86BMEhCOUJ70QiPdPTbZytvafrDmOsIMvZZLIgyw5BcA8OlnfBJHAUVlYU6fKptLlc3aHQ5YUFero5MlJUFMZYLdrKiiJj7CSVEHS5tUdehcN0Yjm9MzMXZ2d1B1OTk/uJRD6dvrKy8sGUzkIt3Slne27uzfy89sjf3rxRu0wXk/dbokb4jlhE78wMY+zd27eZWGwnEmGMkbbcfn9WFJ11vmUrkonFUpOTbr9/YH1de7w7FHL7/eqrq8kwxj4dHCxvx+337ycSdIrZyMRib+bn21yuC1NTnw4O5iQpn06rqvqpt7cgywPr6yZJvhnCUgeGzr6+rXA4E4+TsBo4KhRkueLx7vFxepAVRRJW+SilpWd6usapufnsP3nCGOsOhagLOgGddAWMoqmLd93gtBUObw4P0++bMVZUlK1weK2r68m5c5vDw/uJxObw8FY4rD2lqCipycm1rq6fenu35+bUdv4ZjzPG8ul0+SlVoATykkSvS+LTtrCfSLwYG6OUklev0nCrPTcrittzcz/19q51daUmJ2kyqr075f2iFzpp+maVBJSXJHXJ8eq4R7Ukr+14jVesdpoxYhG0LmaMeYJBOpKTpKwoqu+8F2NjWVFsc7ncfv87Wdb9nojU5GSb09khCHlJotXGxdnZnCTR5S4qSl3XiBLQrsMKsqxtYf/Jk4IsX5ia+iOXy8TjJAsa0ujc1K1bxVyus6+vIIqZWKywt6fOxbV0R70ymyMjeUnqHh9vczoz8fjm8PDg8+e6db1ndHQ/kSCBXpydVa9bMZdTcyZJ0dLtg8lXWYA2AN3migbu0jlIJhPt7Yn29l+uXfvl2rUfv/iCHr8/3kbyy7Vrifb21/fvl0qlt9Foor39H599lkulSqXS+8NDNZ6CqannN27Q0+c3biTa2zeuXKGnr+/f1wZXSUZ7kBJItLe/jUYrtvNes+OFMlRfkc798YsvKObXBw+oKXpaY3cOkkn1RX998IB+9K/VVW1Ptby6fZtOpKao8fIGa0xe2/EzYsyX22ZFMSuKBVluc7lO+iSfffaMMeYJBult2uZyfR4KlYepCyB6QG/QM9I9Pq4uxXS0uVwFWd6em3sxNrazuFj+ip+HQtQdNTEqr9TYHYIWTw5BoAtFDVYcSy4vLAysr1O2WVHcHBmpsrT6YPJVOn52mjEVjh4dMcZ2IpGtcDg1Oen3+cqrL4W9PcZYx/nzTchHR5UX3QqHafquu9pUT3fo9/1ibEx78KR50+33u/3+nqkpKtbsRiJq+abe5Lle7eatsXqmp3cjkYIs7ycS5Z+86G36R511Ha5kRXEnEmlzuQaePu30+crLclU4RXd0hZLqdPp8F6am3szP504Ys8+SfENo6qdCWrZXHOQ9o6OMsUw8/t/lp6LQB726qLfeWJ2DZJIx1tnXR+/4k4aQitTVHbosOUmi0Uj9pwvTzXo05zqOvwieUJM8S/INoXkjFmPM7ffvRCKVhRUMdi4u5iVpc2Sks69PvRFUI1TIoM/PHYLQkFoUtZkVRfo8lalH6HV1p2d6ej+R2AqH8+k0TU/v3r7tmZrqLKvO5CXJPTjYcf68uhrrmZqin3b6fHlJ2p6fz0nSX4LBsyTfEJo6YtG7sGJRgAZtWkvm0+nuUOjC8SWrBU8wSI3vRCL7iURDsvUEg5TPTiSyE4lc/v772s+tqztuv//KyopDEKi2/mZ+PhOLlc9xDkEoyDLFZEWx0+e7srKiiu/izEyby0VVmGIud5bkG4PuU2LTvhTkg7y8dSvR3v7q9u3aT/n33t5BMvm+od+K0ag2a+lOLpU6SCa1JYOTYk7K5yCZ1NYgeFyQipSXG5o6FVZnP5FwCAK9BfcTCarIq9XUWnBUMiyckVO3eYru1PLZs3qMbmXG44LUiImEtT0/X15oMckt1VNgs+7Ui4mE1TM1lX32jCpADq9XNSZYFJt1p15MJCyuheDmY7Pu1AusyYALEBbgAoQFuABhAS6YaPHOCbodq94sc3i97q+/buVldXOwv7AOkkntTR7yH+8sLg4+f179RLp/wjQ2+aKiZOLxfDrd//Ahv4TtQatMhW6/f/ToaPToaGB9ne6paT3gFVHvyqlH8un0VjismvRBFVpFWCpuv787FGKMqcMYiWx7bm4/kVBnzLwkvXv7lh07yvOSVJBl9cYwmQvUNouKkonFtufmMrGY1qCihuUlibZ+kKeeDDD7icT23FxDTLAmxP5TYXVejI1pJ0qHIHy1vu4QBHWjAe2BIYOUulmUTHPkjCVvzP/WcPPz1IIa1v/wYWpykjF2cXaWRsHu8XHazcwYo6f2m1tbbsTKSxKZk+h+cHcodGVlZfTo6O+//eYJBguyTAYm9Q6MQxB6Z2a6Q6FPBwfVJX/vzAxtfKUNNoyxgfX10aOjywsLBVlO3bqlfcWtO3fcfr+6UZYxlonFOn0+1b2eicXsN261yohFWw7ZsX+10+ejCVG1G7yTZdoGTQHd4+M0bXUIgnaPq245n4nHi4pyeWGBVEj266woFhVF3TPiCQZ1A5JDEGizrtvvp6HrQBTrtdWbnFYRluoudPv9nmBQtZgWZJmMddrI2pulNjPxuDqfkj06n06rt5y7y/bndGisLB2CUJDl5luHedMqwir/WgfGWFFRxKtXi4riCQa7QyF1HqydckF09vUxxtqczrNkawNaRVgVoYmMPL7shF0e1XF4vVlR7JmaQsVVR8st3sv5Q1GKikLFT+1xWiTl02n6KdOMQ7SKYsfT3NadO6ooi4pitu/nMISWFpYnGKTtwmtdXWtdXbr9C7SuLyrKWlcX7SbtPN5quzk8vNbVxagqNj5eVJTN4eEn5849OXduratL9xVWrYn9p0L6HqyK1m+HIAw8fbqzuFjY23P6fL0zM9pyvEMQBtbXM/F4YW9P/fD41fr6biSSkyR1Q1//w4fdoRCFMcacPp8aTCUG7VK9PBmqa1T8si5Lg7+wChoA/sIqaBIQFuAChAW4AGEBLkBYgAsQFuAChAW4UKFAijoWqJf+/n7dEX2BFICG8B+yinDUi64nzQAAAABJRU5ErkJggg==)"
      ],
      "metadata": {
        "id": "1rnEmvXAZtwl"
      }
    },
    {
      "cell_type": "code",
      "source": [
        "for i in range(n):\n",
        "  for j in range(n):\n",
        "    if(j<=i):\n",
        "      print(\"*\",end=\" \")\n",
        "    else:\n",
        "      print(\" \",end=\" \")\n",
        "  print(\"\\n\")"
      ],
      "metadata": {
        "colab": {
          "base_uri": "https://localhost:8080/"
        },
        "id": "LnkKxZ0Vm-VL",
        "outputId": "bf6eefb5-c088-49ba-b23d-cade8db6c9e0"
      },
      "execution_count": null,
      "outputs": [
        {
          "output_type": "stream",
          "name": "stdout",
          "text": [
            "*                   \n",
            "\n",
            "* *                 \n",
            "\n",
            "* * *               \n",
            "\n",
            "* * * *             \n",
            "\n",
            "* * * * *           \n",
            "\n",
            "* * * * * *         \n",
            "\n",
            "* * * * * * *       \n",
            "\n",
            "* * * * * * * *     \n",
            "\n",
            "* * * * * * * * *   \n",
            "\n",
            "* * * * * * * * * * \n",
            "\n"
          ]
        }
      ]
    },
    {
      "cell_type": "code",
      "source": [],
      "metadata": {
        "id": "XNpIKUwyZtcT",
        "colab": {
          "base_uri": "https://localhost:8080/"
        },
        "outputId": "0eff972f-127c-4d34-94e5-49f230cbb833"
      },
      "execution_count": null,
      "outputs": [
        {
          "output_type": "stream",
          "name": "stdout",
          "text": [
            "\n",
            "* \n",
            "* * \n",
            "* * * \n",
            "* * * * \n",
            "* * * * * \n",
            "* * * * * * \n",
            "* * * * * * * \n",
            "* * * * * * * * \n",
            "* * * * * * * * * \n"
          ]
        }
      ]
    },
    {
      "cell_type": "code",
      "source": [],
      "metadata": {
        "id": "Z4FLvIGTlJgp"
      },
      "execution_count": null,
      "outputs": []
    },
    {
      "cell_type": "code",
      "source": [],
      "metadata": {
        "id": "VUbcnFNsnKn8"
      },
      "execution_count": null,
      "outputs": []
    },
    {
      "cell_type": "code",
      "source": [],
      "metadata": {
        "id": "cXGgfZt9nKka"
      },
      "execution_count": null,
      "outputs": []
    },
    {
      "cell_type": "code",
      "source": [],
      "metadata": {
        "id": "AmHs6ZtrnKio"
      },
      "execution_count": null,
      "outputs": []
    },
    {
      "cell_type": "code",
      "source": [
        "for i in range(n):\n",
        "  print(i*'* ')"
      ],
      "metadata": {
        "id": "xBVQbynfnKgm"
      },
      "execution_count": null,
      "outputs": []
    }
  ]
}