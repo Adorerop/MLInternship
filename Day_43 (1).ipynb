{
  "nbformat": 4,
  "nbformat_minor": 0,
  "metadata": {
    "colab": {
      "provenance": []
    },
    "kernelspec": {
      "name": "python3",
      "display_name": "Python 3"
    },
    "language_info": {
      "name": "python"
    }
  },
  "cells": [
    {
      "cell_type": "code",
      "execution_count": 35,
      "metadata": {
        "colab": {
          "base_uri": "https://localhost:8080/"
        },
        "id": "i1ggXMnpDVEx",
        "outputId": "e3ae9ee9-7537-4b26-ec46-e1711cc99fc0"
      },
      "outputs": [
        {
          "output_type": "stream",
          "name": "stderr",
          "text": [
            "[nltk_data] Downloading package stopwords to /root/nltk_data...\n",
            "[nltk_data]   Package stopwords is already up-to-date!\n"
          ]
        }
      ],
      "source": [
        "import pandas as pd\n",
        "import nltk\n",
        "from nltk.corpus import stopwords\n",
        "nltk.download('stopwords')\n",
        "import string\n",
        "from sklearn.metrics import accuracy_score"
      ]
    },
    {
      "cell_type": "code",
      "source": [
        "df = pd.read_csv('spam_or_not_spam.csv')"
      ],
      "metadata": {
        "id": "Tk7W-ttvDdue"
      },
      "execution_count": 4,
      "outputs": []
    },
    {
      "cell_type": "code",
      "source": [
        "df = df.dropna()"
      ],
      "metadata": {
        "id": "YYeU6rGSDgfr"
      },
      "execution_count": 5,
      "outputs": []
    },
    {
      "cell_type": "code",
      "source": [
        "stop_words = list(set(stopwords.words('english')))\n",
        "def text_cleaning(s):\n",
        "    s = s.translate(str.maketrans('', '', string.punctuation))\n",
        "    s = ' '.join(s.split())\n",
        "    s = s.lower()\n",
        "    \n",
        "    s1 = s.split()\n",
        "    s_target = ''\n",
        "    for i in s1:\n",
        "        if(i not in stop_words):\n",
        "            s_target = s_target + ' '+ i\n",
        "            \n",
        "    s_target = s_target.strip() \n",
        "    s_final = ''.join([i for i in s_target if not i.isdigit()])\n",
        "    \n",
        "    return(s_final)"
      ],
      "metadata": {
        "id": "vx8TpxqxDgZ1"
      },
      "execution_count": 7,
      "outputs": []
    },
    {
      "cell_type": "code",
      "source": [
        "df['email_cleaned'] = df['email'].apply(text_cleaning)"
      ],
      "metadata": {
        "id": "X-OkZ0qVDgSR"
      },
      "execution_count": 8,
      "outputs": []
    },
    {
      "cell_type": "code",
      "source": [
        "del df['email']"
      ],
      "metadata": {
        "id": "ywYdukKHFmRT"
      },
      "execution_count": 10,
      "outputs": []
    },
    {
      "cell_type": "code",
      "source": [
        "X = df['email_cleaned']\n",
        "Y = df['label']"
      ],
      "metadata": {
        "id": "Sl4SCikJF9ig"
      },
      "execution_count": 11,
      "outputs": []
    },
    {
      "cell_type": "code",
      "source": [
        "from sklearn.model_selection import train_test_split\n",
        "X_train, X_test, y_train, y_test = train_test_split(X, Y, test_size=0.2, random_state=42)"
      ],
      "metadata": {
        "id": "N0CTQFR9GKeT"
      },
      "execution_count": 14,
      "outputs": []
    },
    {
      "cell_type": "code",
      "source": [
        "X_train"
      ],
      "metadata": {
        "colab": {
          "base_uri": "https://localhost:8080/"
        },
        "id": "vjvlyHCnGR-3",
        "outputId": "8b4ba457-291f-4cf0-91dc-47f59e110bd4"
      },
      "execution_count": 15,
      "outputs": [
        {
          "output_type": "execute_result",
          "data": {
            "text/plain": [
              "1569    hi wondering anybody successfully install site...\n",
              "2229    url url date supplied snowed last four weeks w...\n",
              "2296    url url date supplied popularity garage car bo...\n",
              "1800    use perl daily newsletter issue yapc number ca...\n",
              "1273    mon number number number number number matthia...\n",
              "                              ...                        \n",
              "1638    check spambayes project sf disks cheap wink pe...\n",
              "1095    installed apt get yesterday liked couple hours...\n",
              "1130    scott lipcon slipcon mercea net date mon numbe...\n",
              "1294    tue number number number number number matthia...\n",
              "860     begin forwarded text date thu number oct numbe...\n",
              "Name: email_cleaned, Length: 2399, dtype: object"
            ]
          },
          "metadata": {},
          "execution_count": 15
        }
      ]
    },
    {
      "cell_type": "code",
      "source": [
        "X_test"
      ],
      "metadata": {
        "colab": {
          "base_uri": "https://localhost:8080/"
        },
        "id": "8gLh3lh2GYcS",
        "outputId": "7c3bf954-9c60-4538-a85f-e2ddb829754d"
      },
      "execution_count": 16,
      "outputs": [
        {
          "output_type": "execute_result",
          "data": {
            "text/plain": [
              "1376    wednesday number august number number number p...\n",
              "932     number aug number number number rohit khare wr...\n",
              "144     url url date number number numbertnumber numbe...\n",
              "1752    number september number tim peters said would ...\n",
              "51      begin pgp signed message justin maccarthy wrot...\n",
              "                              ...                        \n",
              "637     begin forwarded text subject dgc chat first pu...\n",
              "695     original message james rogers jamesr best com ...\n",
              "226     forteana martin adamson martin wrote alternati...\n",
              "2603    dear ricardonumber cost effective direct email...\n",
              "1103    upon time dtd wrote thanks great work mathias ...\n",
              "Name: email_cleaned, Length: 600, dtype: object"
            ]
          },
          "metadata": {},
          "execution_count": 16
        }
      ]
    },
    {
      "cell_type": "code",
      "source": [
        "from sklearn.feature_extraction.text import CountVectorizer"
      ],
      "metadata": {
        "id": "FB38ejZvGZwv"
      },
      "execution_count": 17,
      "outputs": []
    },
    {
      "cell_type": "code",
      "source": [
        "vectorizer = CountVectorizer()"
      ],
      "metadata": {
        "id": "ZvbheOzPIN0Y"
      },
      "execution_count": 18,
      "outputs": []
    },
    {
      "cell_type": "code",
      "source": [
        "X_train = vectorizer.fit_transform(X_train)\n",
        "X_test = vectorizer.transform(X_test)"
      ],
      "metadata": {
        "id": "f4mCT9q6IRvg"
      },
      "execution_count": 19,
      "outputs": []
    },
    {
      "cell_type": "code",
      "source": [
        "X_train = X_train.toarray()"
      ],
      "metadata": {
        "id": "18-88l50IUIf"
      },
      "execution_count": 27,
      "outputs": []
    },
    {
      "cell_type": "code",
      "source": [
        "X_test = X_test.toarray()"
      ],
      "metadata": {
        "id": "vy1hSGORIWPx"
      },
      "execution_count": 28,
      "outputs": []
    },
    {
      "cell_type": "code",
      "source": [
        "from sklearn.naive_bayes import GaussianNB"
      ],
      "metadata": {
        "id": "gxEQ6UjcIe7-"
      },
      "execution_count": 29,
      "outputs": []
    },
    {
      "cell_type": "code",
      "source": [
        "lst = [10**i for i in range(-9,9)]"
      ],
      "metadata": {
        "id": "vUcEDAEjN0qJ"
      },
      "execution_count": 37,
      "outputs": []
    },
    {
      "cell_type": "code",
      "source": [
        "for i in lst: \n",
        "  clf = GaussianNB(var_smoothing = i)\n",
        "  clf.fit(X_train, y_train)\n",
        "  pred = clf.predict(X_test)\n",
        "  acc = accuracy_score(pred,y_test)\n",
        "\n",
        "  print(i, acc)"
      ],
      "metadata": {
        "colab": {
          "base_uri": "https://localhost:8080/"
        },
        "id": "q9WxpXJcI5fz",
        "outputId": "e5c946b4-3f6d-4656-e2db-f319c16c5378"
      },
      "execution_count": 39,
      "outputs": [
        {
          "output_type": "stream",
          "name": "stdout",
          "text": [
            "1e-09 0.9566666666666667\n",
            "1e-08 0.9566666666666667\n",
            "1e-07 0.965\n",
            "1e-06 0.9833333333333333\n",
            "1e-05 0.9466666666666667\n",
            "0.0001 0.8866666666666667\n",
            "0.001 0.8483333333333334\n",
            "0.01 0.8383333333333334\n",
            "0.1 0.835\n",
            "1 0.8333333333333334\n",
            "10 0.8333333333333334\n",
            "100 0.8333333333333334\n",
            "1000 0.8333333333333334\n",
            "10000 0.8333333333333334\n",
            "100000 0.8333333333333334\n",
            "1000000 0.8333333333333334\n",
            "10000000 0.8333333333333334\n",
            "100000000 0.8333333333333334\n"
          ]
        }
      ]
    },
    {
      "cell_type": "code",
      "source": [
        "clf = GaussianNB(var_smoothing = 10**(-6))\n",
        "clf.fit(X_train, y_train)\n",
        "pred = clf.predict(X_test)\n",
        "acc = accuracy_score(pred,y_test)\n",
        "\n",
        "print(acc)"
      ],
      "metadata": {
        "colab": {
          "base_uri": "https://localhost:8080/"
        },
        "id": "Yr2UWzFRJtPQ",
        "outputId": "0af69ec0-0f0f-4a27-e2e0-063abfa7415d"
      },
      "execution_count": 41,
      "outputs": [
        {
          "output_type": "stream",
          "name": "stdout",
          "text": [
            "0.9833333333333333\n"
          ]
        }
      ]
    },
    {
      "cell_type": "markdown",
      "source": [
        "#TfIdf transformation"
      ],
      "metadata": {
        "id": "wStUsVbIPaLa"
      }
    },
    {
      "cell_type": "code",
      "source": [
        "from sklearn.feature_extraction.text import TfidfVectorizer"
      ],
      "metadata": {
        "id": "dlLuOLdROtYU"
      },
      "execution_count": 42,
      "outputs": []
    },
    {
      "cell_type": "code",
      "source": [
        "vectorizer = TfidfVectorizer()"
      ],
      "metadata": {
        "id": "5okjSXTOPdUP"
      },
      "execution_count": 43,
      "outputs": []
    },
    {
      "cell_type": "code",
      "source": [
        "X_train, X_test, y_train, y_test = train_test_split(X, Y, test_size=0.2, random_state=42)"
      ],
      "metadata": {
        "id": "S4cx5U8cPhnf"
      },
      "execution_count": 44,
      "outputs": []
    },
    {
      "cell_type": "code",
      "source": [
        "X_train = vectorizer.fit_transform(X_train)\n",
        "X_test = vectorizer.transform(X_test)"
      ],
      "metadata": {
        "id": "un6TZ8dkPnko"
      },
      "execution_count": 45,
      "outputs": []
    },
    {
      "cell_type": "code",
      "source": [
        "X_train = X_train.toarray()"
      ],
      "metadata": {
        "id": "KsCaQiouPpnc"
      },
      "execution_count": 46,
      "outputs": []
    },
    {
      "cell_type": "code",
      "source": [
        "X_test = X_test.toarray()"
      ],
      "metadata": {
        "id": "D0RG7fk4PsQe"
      },
      "execution_count": 47,
      "outputs": []
    },
    {
      "cell_type": "code",
      "source": [
        "for i in lst: \n",
        "  clf = GaussianNB(var_smoothing = i)\n",
        "  clf.fit(X_train, y_train)\n",
        "  pred = clf.predict(X_test)\n",
        "  acc = accuracy_score(pred,y_test)\n",
        "\n",
        "  print(i, acc)"
      ],
      "metadata": {
        "colab": {
          "base_uri": "https://localhost:8080/"
        },
        "id": "YXbAEUeoPtx7",
        "outputId": "bf4c1f55-d5b6-4060-a53a-9380402a1298"
      },
      "execution_count": 48,
      "outputs": [
        {
          "output_type": "stream",
          "name": "stdout",
          "text": [
            "1e-09 0.9566666666666667\n",
            "1e-08 0.9566666666666667\n",
            "1e-07 0.9566666666666667\n",
            "1e-06 0.96\n",
            "1e-05 0.97\n",
            "0.0001 0.9816666666666667\n",
            "0.001 0.9333333333333333\n",
            "0.01 0.5483333333333333\n",
            "0.1 0.4166666666666667\n",
            "1 0.9233333333333333\n",
            "10 0.8333333333333334\n",
            "100 0.8333333333333334\n",
            "1000 0.8333333333333334\n",
            "10000 0.8333333333333334\n",
            "100000 0.8333333333333334\n",
            "1000000 0.8333333333333334\n",
            "10000000 0.8333333333333334\n",
            "100000000 0.8333333333333334\n"
          ]
        }
      ]
    },
    {
      "cell_type": "code",
      "source": [],
      "metadata": {
        "id": "Bz696gG9PxrS"
      },
      "execution_count": null,
      "outputs": []
    }
  ]
}