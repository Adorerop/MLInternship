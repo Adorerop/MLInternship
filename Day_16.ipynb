{
  "cells": [
    {
      "cell_type": "markdown",
      "metadata": {
        "id": "iB8jvpZYjw-i"
      },
      "source": [
        "#2-D Matrix"
      ]
    },
    {
      "cell_type": "code",
      "execution_count": 15,
      "metadata": {
        "id": "Uhm4KKFT_ak_"
      },
      "outputs": [],
      "source": [
        "mat = [[21,34,42,54],[45,67,21,54],[67,33,44,56]]"
      ]
    },
    {
      "cell_type": "code",
      "execution_count": 1,
      "metadata": {
        "colab": {
          "base_uri": "https://localhost:8080/"
        },
        "id": "AirYXrV2_vSJ",
        "outputId": "2428bd0b-0931-4bef-d200-51a79e775a00"
      },
      "outputs": [
        {
          "ename": "NameError",
          "evalue": "name 'mat' is not defined",
          "output_type": "error",
          "traceback": [
            "\u001b[1;31m---------------------------------------------------------------------------\u001b[0m",
            "\u001b[1;31mNameError\u001b[0m                                 Traceback (most recent call last)",
            "Cell \u001b[1;32mIn[1], line 1\u001b[0m\n\u001b[1;32m----> 1\u001b[0m \u001b[39mfor\u001b[39;00m i \u001b[39min\u001b[39;00m mat:\n\u001b[0;32m      2\u001b[0m   \u001b[39mprint\u001b[39m(i)\n",
            "\u001b[1;31mNameError\u001b[0m: name 'mat' is not defined"
          ]
        }
      ],
      "source": [
        "for i in mat:\n",
        "  print(i)"
      ]
    },
    {
      "cell_type": "markdown",
      "metadata": {
        "id": "5bvIIuibt2yN"
      },
      "source": [
        "#Above matrix is called 3*4 matrix"
      ]
    },
    {
      "cell_type": "code",
      "execution_count": 18,
      "metadata": {
        "colab": {
          "base_uri": "https://localhost:8080/"
        },
        "id": "grBJDWzUsAie",
        "outputId": "490798dc-33c1-4279-fef8-5f20a7619bdd"
      },
      "outputs": [
        {
          "name": "stdout",
          "output_type": "stream",
          "text": [
            "3\n"
          ]
        }
      ],
      "source": [
        "row_counts = len(mat)\n",
        "print(row_counts)\n",
        "\n",
        "column_count = len(mat[1])\n",
        "print(column_count)"
      ]
    },
    {
      "cell_type": "markdown",
      "metadata": {
        "id": "nYz0p8lKtn6S"
      },
      "source": [
        "#Read 3*3 integer matrix from user."
      ]
    },
    {
      "cell_type": "code",
      "execution_count": 32,
      "metadata": {
        "colab": {
          "base_uri": "https://localhost:8080/"
        },
        "id": "uvPQSTmXswS4",
        "outputId": "f256cb83-e4d3-46c4-f016-f46bfe154e37"
      },
      "outputs": [
        {
          "name": "stdout",
          "output_type": "stream",
          "text": [
            "Enter variable4\n",
            "Enter variable5\n",
            "Enter variable7\n",
            "Enter variable2\n",
            "Enter variable5\n",
            "Enter variable3\n",
            "Enter variable5\n",
            "Enter variable7\n",
            "Enter variable4\n"
          ]
        }
      ],
      "source": [
        "matrix = []\n",
        "for i in range(3):\n",
        "\n",
        "  row = []\n",
        "  for j in range(3):\n",
        "    var = int(input(\"Enter variable : \"))\n",
        "    row.append(var)\n",
        "  matrix.append(row)"
      ]
    },
    {
      "cell_type": "code",
      "execution_count": 43,
      "metadata": {
        "id": "tp0wzY8utmjV"
      },
      "outputs": [],
      "source": [
        "matrix = []\n",
        "for j in range(3):\n",
        "  row = []\n",
        "  for i in range(3):\n",
        "    row.append(\"Char\")\n",
        "  matrix.append(row)"
      ]
    },
    {
      "cell_type": "markdown",
      "metadata": {
        "id": "F6ALZbBdzonj"
      },
      "source": [
        "#Matrix is given. Print each and every element in matrix format without brackets"
      ]
    },
    {
      "cell_type": "code",
      "execution_count": 46,
      "metadata": {
        "colab": {
          "base_uri": "https://localhost:8080/"
        },
        "id": "Dg1UywT7zYYX",
        "outputId": "80776aea-e4cb-4922-e419-dd7f17acee94"
      },
      "outputs": [
        {
          "name": "stdout",
          "output_type": "stream",
          "text": [
            "[1, 2, 3]\n",
            "[4, 2, 9]\n",
            "[0, 0, 6]\n"
          ]
        }
      ],
      "source": [
        "mat = [[1,2,3],[4,2,9],[0,0,6]]\n",
        "for i in mat:\n",
        "  print(i)"
      ]
    },
    {
      "cell_type": "markdown",
      "metadata": {
        "id": "wxIlt6Huz5fG"
      },
      "source": [
        "Expected output:\n",
        "\n",
        "1 2 3\n",
        "\n",
        "4 2 9\n",
        "\n",
        "0 0 6"
      ]
    },
    {
      "cell_type": "code",
      "execution_count": 49,
      "metadata": {
        "colab": {
          "base_uri": "https://localhost:8080/"
        },
        "id": "wN2f2PoStmcI",
        "outputId": "e54c51f3-774d-4d92-958e-8f9e38411193"
      },
      "outputs": [
        {
          "name": "stdout",
          "output_type": "stream",
          "text": [
            "1 2 3 \n",
            "\n",
            "4 2 9 \n",
            "\n",
            "0 0 6 \n",
            "\n"
          ]
        }
      ],
      "source": [
        "for i in range(3):\n",
        "  for j in range(3):\n",
        "    print(mat[i][j],end = \" \")\n",
        "  print('\\n')"
      ]
    },
    {
      "cell_type": "markdown",
      "metadata": {
        "id": "D6oPdiSV1WM8"
      },
      "source": [
        "#Practice problem\n",
        "2 matrix are given with same dimension.\n",
        "\n",
        "Perform addition operation of 2 elements and store result to RES matrix"
      ]
    },
    {
      "cell_type": "code",
      "execution_count": 57,
      "metadata": {
        "colab": {
          "base_uri": "https://localhost:8080/"
        },
        "id": "s-2ZBg1iw4Gs",
        "outputId": "a829fec2-aec8-4e14-89b6-62ead9a44268"
      },
      "outputs": [
        {
          "name": "stdout",
          "output_type": "stream",
          "text": [
            "***************\n",
            "[1, 2, 3]\n",
            "[4, 2, 9]\n",
            "[0, 0, 6]\n",
            "***************\n",
            "[4, 1, 4]\n",
            "[2, 1, 0]\n",
            "[7, 0, 4]\n"
          ]
        }
      ],
      "source": [
        "mat1 = [[1,2,3],[4,2,9],[0,0,6]]\n",
        "mat2 = [[4,1,4],[2,1,0],[7,0,4]]\n",
        "print(\"***************\")\n",
        "for i in mat1:\n",
        "  print(i)\n",
        "print(\"***************\")\n",
        "for i in mat2:\n",
        "  print(i)"
      ]
    },
    {
      "cell_type": "code",
      "execution_count": 59,
      "metadata": {
        "id": "kCyhvqLGw6jl"
      },
      "outputs": [],
      "source": [
        "RES = []\n",
        "for i in range(3):\n",
        "  row = []\n",
        "  for j in range(3):\n",
        "    sm = mat1[i][j] +mat2[i][j]\n",
        "    row.append(sm)\n",
        "  RES.append(row)"
      ]
    },
    {
      "cell_type": "code",
      "execution_count": 61,
      "metadata": {
        "colab": {
          "base_uri": "https://localhost:8080/"
        },
        "id": "JCDBPdMJw-KQ",
        "outputId": "c30f6412-a1e1-4eb6-f4fe-7bea55b9a49b"
      },
      "outputs": [
        {
          "name": "stdout",
          "output_type": "stream",
          "text": [
            "[5, 3, 7]\n",
            "[6, 3, 9]\n",
            "[7, 0, 10]\n"
          ]
        }
      ],
      "source": [
        "for i in RES:\n",
        "  print(i)"
      ]
    },
    {
      "cell_type": "markdown",
      "metadata": {
        "id": "dPvF4Srt3YKn"
      },
      "source": [
        "#Assignment code:\n",
        "Given 2 matrix (size is 3*3) \n",
        "\n",
        "Concat them both and store them with new Matrix RES.\n",
        "\n",
        "if length of RES variable is greater than 7 prin its indexes.\n"
      ]
    },
    {
      "cell_type": "code",
      "execution_count": 64,
      "metadata": {
        "colab": {
          "base_uri": "https://localhost:8080/"
        },
        "id": "cwMitXCm4ddF",
        "outputId": "8be6bf8b-d57f-4130-e96d-039612766066"
      },
      "outputs": [
        {
          "name": "stdout",
          "output_type": "stream",
          "text": [
            "**************\n",
            "['abc', 'asd', 'hgf']\n",
            "['sdf', 'sddfgh', 'sdf']\n",
            "['qw', 'gh', 'vb']\n",
            "**************\n",
            "['sa', 'gg', 'hh']\n",
            "['a', 'k', 'm']\n",
            "['f', 'g', 'h']\n"
          ]
        }
      ],
      "source": [
        "mat1 = [['abc','asd','hgf'],['sdf','sddfgh','sdf'],['qw','gh','vb']]\n",
        "mat2 = [['sa','gg','hh'],['a','k','m'],['f','g','h']]\n",
        "print(\"**************\")\n",
        "for i in mat1:\n",
        "  print(i)\n",
        "print(\"**************\")\n",
        "for i in mat2:\n",
        "  print(i)"
      ]
    }
  ],
  "metadata": {
    "colab": {
      "provenance": []
    },
    "kernelspec": {
      "display_name": "Python 3",
      "language": "python",
      "name": "python3"
    },
    "language_info": {
      "codemirror_mode": {
        "name": "ipython",
        "version": 3
      },
      "file_extension": ".py",
      "mimetype": "text/x-python",
      "name": "python",
      "nbconvert_exporter": "python",
      "pygments_lexer": "ipython3",
      "version": "3.10.9"
    },
    "vscode": {
      "interpreter": {
        "hash": "ad07ebab88d1e5b94220597f580ab388a2da609d4a866ff34500956748c9067d"
      }
    }
  },
  "nbformat": 4,
  "nbformat_minor": 0
}
