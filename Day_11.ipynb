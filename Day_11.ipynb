{
  "nbformat": 4,
  "nbformat_minor": 0,
  "metadata": {
    "colab": {
      "provenance": []
    },
    "kernelspec": {
      "name": "python3",
      "display_name": "Python 3"
    },
    "language_info": {
      "name": "python"
    }
  },
  "cells": [
    {
      "cell_type": "markdown",
      "source": [
        "#Realtime applications and logic building questions"
      ],
      "metadata": {
        "id": "DgTAC7oVnyCv"
      }
    },
    {
      "cell_type": "markdown",
      "source": [
        "#Practice code 1\n",
        "Read radius from user and create function to find area of circle\n"
      ],
      "metadata": {
        "id": "WaYbdhXdoFEx"
      }
    },
    {
      "cell_type": "code",
      "source": [
        "r = int(input())"
      ],
      "metadata": {
        "colab": {
          "base_uri": "https://localhost:8080/"
        },
        "id": "UA5LzKaWaS0U",
        "outputId": "6fb1150d-1d6c-4705-9681-9cfa2fb76efd"
      },
      "execution_count": 27,
      "outputs": [
        {
          "name": "stdout",
          "output_type": "stream",
          "text": [
            "5\n"
          ]
        }
      ]
    },
    {
      "cell_type": "code",
      "source": [
        "import math\n",
        "\n",
        "def find_area(r):\n",
        "  pi = math.pi\n",
        "  area = pi*r*r\n",
        "  return(area)\n",
        "\n",
        "area = find_area(r)\n",
        "print(area)"
      ],
      "metadata": {
        "id": "VVYlt2w8api4"
      },
      "execution_count": 29,
      "outputs": []
    },
    {
      "cell_type": "markdown",
      "source": [
        "#Practice code 2\n",
        "Find maximum from a list"
      ],
      "metadata": {
        "id": "94o6JXvLrabH"
      }
    },
    {
      "cell_type": "code",
      "source": [
        "l = [4,3,5,7,6,2,1]"
      ],
      "metadata": {
        "id": "8IGylSBeeNrk"
      },
      "execution_count": 40,
      "outputs": []
    },
    {
      "cell_type": "code",
      "source": [
        "max = l[0]\n",
        "print(\"Initially first variable of list is maximum which is :\",max)\n",
        "for i in l:\n",
        "  print(\"Now i is,\",i, \" and max is \", max)\n",
        "  if(i>max):\n",
        "    max = i\n",
        "    print(\"Max is updated which is :\", max)\n",
        "print(max)"
      ],
      "metadata": {
        "colab": {
          "base_uri": "https://localhost:8080/"
        },
        "id": "cJ9elcoQeNkM",
        "outputId": "8dc59e1f-afff-4bc2-b75d-e10f57685cf7"
      },
      "execution_count": 42,
      "outputs": [
        {
          "output_type": "stream",
          "name": "stdout",
          "text": [
            "Initially first variable of list is maximum which is : 4\n",
            "Now i is, 4  and max is  4\n",
            "Now i is, 3  and max is  4\n",
            "Now i is, 5  and max is  4\n",
            "Max is updated which is : 5\n",
            "Now i is, 7  and max is  5\n",
            "Max is updated which is : 7\n",
            "Now i is, 6  and max is  7\n",
            "Now i is, 2  and max is  7\n",
            "Now i is, 1  and max is  7\n"
          ]
        }
      ]
    },
    {
      "cell_type": "markdown",
      "source": [
        "#Practice code 2\n",
        "\n",
        "Read n from user.\n",
        "\n",
        "Get sum of number from 1 to n."
      ],
      "metadata": {
        "id": "RUiPy4BKuStK"
      }
    },
    {
      "cell_type": "code",
      "source": [
        "n = int(input(\"Enter n :\"))"
      ],
      "metadata": {
        "colab": {
          "base_uri": "https://localhost:8080/"
        },
        "id": "EJRyI6qVeNee",
        "outputId": "d53d72b1-5cdd-4699-a55f-184b102f684e"
      },
      "execution_count": 43,
      "outputs": [
        {
          "name": "stdout",
          "output_type": "stream",
          "text": [
            "Enter n :5\n"
          ]
        }
      ]
    },
    {
      "cell_type": "code",
      "source": [
        "s = 0\n",
        "for i in range(n+1):\n",
        "  s = s + i\n",
        "print(s)\n",
        "\n",
        "new_sum = n*(n+1)/2\n",
        "print(new_sum)"
      ],
      "metadata": {
        "id": "V_FNoPsQqKx4"
      },
      "execution_count": 47,
      "outputs": []
    },
    {
      "cell_type": "markdown",
      "source": [
        "#Practice code 3\n",
        "\n",
        "Read n from user.\n",
        "\n",
        "Get multiplication of number from 1 to n."
      ],
      "metadata": {
        "id": "38bVMU8kw0oQ"
      }
    },
    {
      "cell_type": "code",
      "source": [
        "n = int(input(\"Enter n : \"))\n",
        "\n",
        "m = 1\n",
        "for i in range(1,n+1):\n",
        "  m = m * i\n",
        "print(m)"
      ],
      "metadata": {
        "colab": {
          "base_uri": "https://localhost:8080/"
        },
        "id": "AA6bzIYYqKrG",
        "outputId": "85ab4e22-fc4b-452f-da95-5abe8c7916f1"
      },
      "execution_count": 51,
      "outputs": [
        {
          "name": "stdout",
          "output_type": "stream",
          "text": [
            "Enter n : 5\n"
          ]
        }
      ]
    },
    {
      "cell_type": "markdown",
      "source": [
        "#Practice code 4\n",
        "\n",
        "Read n from user.\n",
        "\n",
        "create function to check if the number is prime or not.\n",
        "\n",
        "primre = 2,3,5,7,11,13,17,19,23,29.........."
      ],
      "metadata": {
        "id": "6vosyRwxyDwu"
      }
    },
    {
      "cell_type": "code",
      "source": [
        "n = int(input(\"Enter integer : \"))"
      ],
      "metadata": {
        "colab": {
          "base_uri": "https://localhost:8080/"
        },
        "id": "bNjCPqhbqKnU",
        "outputId": "03886d68-0b61-4e34-ab8c-951773fbfc2e"
      },
      "execution_count": 54,
      "outputs": [
        {
          "name": "stdout",
          "output_type": "stream",
          "text": [
            "Enter integer : 23\n"
          ]
        }
      ]
    },
    {
      "cell_type": "code",
      "source": [
        "def is_prime(n):\n",
        "  for i in range(2,n):\n",
        "    if(n%i == 0):\n",
        "      return (\"Number is not prime\")\n",
        "      break\n",
        "  return (\"Number is prime\")"
      ],
      "metadata": {
        "id": "siQpqOGbx4TU"
      },
      "execution_count": 56,
      "outputs": []
    },
    {
      "cell_type": "code",
      "source": [
        "result = is_prime(n)\n",
        "print(result)"
      ],
      "metadata": {
        "id": "W9rP93JZx4Lj"
      },
      "execution_count": 57,
      "outputs": []
    },
    {
      "cell_type": "markdown",
      "source": [
        "# Practice code 5\n",
        "\n",
        "read n from user.\n",
        "\n",
        "Get the sum of the digits of the number.\n",
        "\n",
        "n = 4563\n",
        "\n",
        "sum == 4+5+6+3 = 18"
      ],
      "metadata": {
        "id": "qvmYnhqp0acA"
      }
    },
    {
      "cell_type": "code",
      "source": [
        "n = int(input(\"Enter n : \"))"
      ],
      "metadata": {
        "colab": {
          "base_uri": "https://localhost:8080/"
        },
        "id": "PDOuWpQyx3-d",
        "outputId": "e137e194-c17b-4d08-bbc2-e7f131d9b1ce"
      },
      "execution_count": 59,
      "outputs": [
        {
          "name": "stdout",
          "output_type": "stream",
          "text": [
            "Enter n : 4563\n"
          ]
        }
      ]
    },
    {
      "cell_type": "code",
      "source": [
        "st = str(n)"
      ],
      "metadata": {
        "id": "-AQcQ9Pex361"
      },
      "execution_count": 60,
      "outputs": []
    },
    {
      "cell_type": "code",
      "source": [
        "s=0\n",
        "\n",
        "for i in range(len(st)):\n",
        "  s = s + int(st[i])\n",
        "\n",
        "s = 0\n",
        "for i in st:\n",
        "  s= s + int(i)"
      ],
      "metadata": {
        "id": "UwY0Agfix34M"
      },
      "execution_count": 66,
      "outputs": []
    },
    {
      "cell_type": "code",
      "source": [],
      "metadata": {
        "id": "Vl1faTuS1MQJ"
      },
      "execution_count": 71,
      "outputs": []
    },
    {
      "cell_type": "markdown",
      "source": [
        "#Assignment code 1\n",
        "\n",
        "Read readius and height of cylinder from user\n",
        "create function 'find_volume' to find its volume and return it."
      ],
      "metadata": {
        "id": "mgttO2flqL1W"
      }
    },
    {
      "cell_type": "markdown",
      "source": [
        "#Assignment code 2\n",
        "Take a list. Find minimum from the list.\n",
        "\n",
        "put print statement to track the flow of code."
      ],
      "metadata": {
        "id": "-2g9JB3ht5IP"
      }
    },
    {
      "cell_type": "markdown",
      "source": [
        "#Assignment code 3\n",
        "\n",
        "Read n from user.\n",
        "\n",
        "Get sum of squares of number from 1 to n.\n"
      ],
      "metadata": {
        "id": "W54RGmzywVCA"
      }
    }
  ]
}