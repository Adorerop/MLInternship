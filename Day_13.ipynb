{
  "nbformat": 4,
  "nbformat_minor": 0,
  "metadata": {
    "colab": {
      "provenance": []
    },
    "kernelspec": {
      "name": "python3",
      "display_name": "Python 3"
    },
    "language_info": {
      "name": "python"
    }
  },
  "cells": [
    {
      "cell_type": "markdown",
      "source": [
        "#Realtime applications and logic building questions"
      ],
      "metadata": {
        "id": "Fo1IE_3bJEtU"
      }
    },
    {
      "cell_type": "markdown",
      "source": [
        "#(1) Read string from user and check if it is palindrome or not."
      ],
      "metadata": {
        "id": "n2Ki3koBLDfM"
      }
    },
    {
      "cell_type": "code",
      "execution_count": 1,
      "metadata": {
        "colab": {
          "base_uri": "https://localhost:8080/"
        },
        "id": "kou1GTz6I9mI",
        "outputId": "ef52732f-eb46-4cbe-8c1d-e369b5760db0"
      },
      "outputs": [
        {
          "name": "stdout",
          "output_type": "stream",
          "text": [
            "Enter stringabcdcba\n"
          ]
        }
      ],
      "source": [
        "st = input(\"Enter string\")"
      ]
    },
    {
      "cell_type": "code",
      "source": [
        "def is_palindrome(st):\n",
        "  rev = st[::-1]\n",
        "  if(st == rev):\n",
        "    return(True)\n",
        "  else:\n",
        "    return(False)\n",
        "\n",
        "res = is_palindrome(st)\n",
        "print(res)"
      ],
      "metadata": {
        "id": "SqxTgeXsPtVQ"
      },
      "execution_count": 7,
      "outputs": []
    },
    {
      "cell_type": "markdown",
      "source": [
        "#(2) Write a program to swap 2 variables "
      ],
      "metadata": {
        "id": "oHRklncDQuPH"
      }
    },
    {
      "cell_type": "code",
      "source": [
        "a = 17\n",
        "b = 3\n",
        "\n",
        "a,b = b,a\n",
        "print(a,b)"
      ],
      "metadata": {
        "id": "_UOTBlU8QWkG"
      },
      "execution_count": 14,
      "outputs": []
    },
    {
      "cell_type": "markdown",
      "source": [
        "#(3) Write a program to swap first and last element of an list"
      ],
      "metadata": {
        "id": "Gmgv6HFAR6_r"
      }
    },
    {
      "cell_type": "code",
      "source": [
        "l = [33,22,56,97,24,67,23,90]\n",
        "\n",
        "l[0], l[-1] = l[-1], l[0]\n"
      ],
      "metadata": {
        "id": "MVjqWbbeQba7"
      },
      "execution_count": 20,
      "outputs": []
    },
    {
      "cell_type": "markdown",
      "source": [
        "# 'in' keyword in python"
      ],
      "metadata": {
        "id": "O6uVT2NHSyCG"
      }
    },
    {
      "cell_type": "code",
      "source": [
        "print(22 in [22,33,55,66])\n",
        "\n",
        "print('ab' in 'abcd')\n",
        "\n",
        "dict1 = {'k1':'v1','k2':'v2','k3':'v3'}\n",
        "print('k1' in dict1)\n",
        "print('v1' in dict1)"
      ],
      "metadata": {
        "colab": {
          "base_uri": "https://localhost:8080/"
        },
        "id": "Z0V8YLZTRaZs",
        "outputId": "3d14cc3c-a1cf-4a2f-ea75-4febb719becb"
      },
      "execution_count": 30,
      "outputs": [
        {
          "output_type": "stream",
          "name": "stdout",
          "text": [
            "True\n",
            "True\n",
            "True\n",
            "False\n"
          ]
        }
      ]
    },
    {
      "cell_type": "markdown",
      "source": [
        "#(4) Read a string from user. Count vowels in a string\n",
        "\n",
        "vowels : a,e,i,o,u"
      ],
      "metadata": {
        "id": "fgCUlmAhT9Fv"
      }
    },
    {
      "cell_type": "code",
      "source": [
        "st =input(\"Enter string : \")"
      ],
      "metadata": {
        "colab": {
          "base_uri": "https://localhost:8080/"
        },
        "id": "shKVGmT8RaN_",
        "outputId": "6080faba-a591-47be-f2fc-2c0e1fce431d"
      },
      "execution_count": 52,
      "outputs": [
        {
          "name": "stdout",
          "output_type": "stream",
          "text": [
            "Enter string : parth\n"
          ]
        }
      ]
    },
    {
      "cell_type": "code",
      "source": [
        "count = 0\n",
        "for i in st.lower():\n",
        "  if(i in \"aeiouAEIOU\"):\n",
        "    count = count + 1\n",
        "\n",
        "#Alternative method\n",
        "count = 0\n",
        "for i in st:\n",
        "  if((i in \"aeiou\") or (i in \"AEIOU\")):\n",
        "    count = count + 1"
      ],
      "metadata": {
        "id": "RJH22Z9RQdGA"
      },
      "execution_count": 53,
      "outputs": []
    },
    {
      "cell_type": "code",
      "source": [
        "count"
      ],
      "metadata": {
        "colab": {
          "base_uri": "https://localhost:8080/"
        },
        "id": "m43rOHz5X86g",
        "outputId": "2eb60339-0825-4b38-b0da-7b926a29f74b"
      },
      "execution_count": 55,
      "outputs": [
        {
          "output_type": "execute_result",
          "data": {
            "text/plain": [
              "1"
            ]
          },
          "metadata": {},
          "execution_count": 55
        }
      ]
    },
    {
      "cell_type": "markdown",
      "source": [
        "# Print consonent of above string"
      ],
      "metadata": {
        "id": "IyHWZ9BMXCqP"
      }
    },
    {
      "cell_type": "code",
      "source": [
        "count1 = 0\n",
        "for i in st:\n",
        "  if(i not in \"aeiouAEIOU\"):\n",
        "    count1 = count1 + 1\n",
        "print(count1)\n",
        "\n",
        "#Alternative method \n",
        "print(len(st) - count)"
      ],
      "metadata": {
        "colab": {
          "base_uri": "https://localhost:8080/"
        },
        "id": "NWLFG6p8WjsE",
        "outputId": "c09ebcc3-8d9b-494e-e377-664d6cec1524"
      },
      "execution_count": 56,
      "outputs": [
        {
          "output_type": "stream",
          "name": "stdout",
          "text": [
            "4\n",
            "4\n"
          ]
        }
      ]
    },
    {
      "cell_type": "markdown",
      "source": [
        "#(5) Read a string from user. write a program to create dictionary where key is character and value is total count of the character."
      ],
      "metadata": {
        "id": "WSSCuV_TYRrk"
      }
    },
    {
      "cell_type": "code",
      "source": [
        "st = input(\"Enter string : \")"
      ],
      "metadata": {
        "colab": {
          "base_uri": "https://localhost:8080/"
        },
        "id": "NF8SWgogYRZG",
        "outputId": "683a7d50-8775-4801-b3d4-3f0167648048"
      },
      "execution_count": 57,
      "outputs": [
        {
          "name": "stdout",
          "output_type": "stream",
          "text": [
            "Enter string : aabcccbcf\n"
          ]
        }
      ]
    },
    {
      "cell_type": "code",
      "source": [
        "expected_dict1 = {\n",
        "    'a':2,\n",
        "    'b':2,\n",
        "    'c':4,\n",
        "    'f':1\n",
        "}"
      ],
      "metadata": {
        "id": "niHNDj6dSjU5"
      },
      "execution_count": 58,
      "outputs": []
    },
    {
      "cell_type": "markdown",
      "source": [
        "dict1 = {}\n",
        "aabcccbcf\n",
        "for loop :\n",
        " (a not in {}) : {'a',1}\n",
        " (a not in {'a',1}):\n",
        "      else : dict1['a'] = dict1['a']+1\n",
        "\n",
        "  {'a': 2}\n",
        "  {'a' : 2, 'b' :1}\n",
        "  {'a' : 2, 'b' :2,'c':4,'f':1}\n",
        "\n",
        "\n"
      ],
      "metadata": {
        "id": "A17PhiaVaOe7"
      }
    },
    {
      "cell_type": "code",
      "source": [
        "dict1 = {}\n",
        "for i in st:\n",
        "  if(i not in dict1):\n",
        "    dict1[i] = 1\n",
        "  else:\n",
        "    dict1[i] = dict1[i] + 1"
      ],
      "metadata": {
        "id": "FUNVdoiBTrjQ"
      },
      "execution_count": 60,
      "outputs": []
    },
    {
      "cell_type": "code",
      "source": [
        "print(dict1)"
      ],
      "metadata": {
        "colab": {
          "base_uri": "https://localhost:8080/"
        },
        "id": "UfU8Syf6XoWG",
        "outputId": "b23dbc1c-f9cc-48cb-8708-abae5ca0974e"
      },
      "execution_count": 61,
      "outputs": [
        {
          "output_type": "execute_result",
          "data": {
            "text/plain": [
              "{'a': 2, 'b': 2, 'c': 4, 'f': 1}"
            ]
          },
          "metadata": {},
          "execution_count": 61
        }
      ]
    },
    {
      "cell_type": "markdown",
      "source": [
        "#Assignment code 1\n",
        " Read n from user where n is total number of students in a class.\n",
        " \n",
        " Read dictionary from user for each and every student of class with keys : \"name\" and \"marks\".\n",
        "\n",
        " Add all the dictionaries to l1 list.\n",
        "\n",
        "\n",
        " in l1 list if the students marks are less then 33 add the students to l2 list with new key value pair : \"Result\" : \"fail\"\n",
        "\n",
        "  in l1 list if the students marks are greater then or equal to 33, add the students to l3 list with new key value pair : \"Result\" : \"pass\""
      ],
      "metadata": {
        "id": "Lu0hM2i8bh9c"
      }
    },
    {
      "cell_type": "code",
      "source": [],
      "metadata": {
        "id": "GwT9yM1hZtt8"
      },
      "execution_count": null,
      "outputs": []
    }
  ]
}