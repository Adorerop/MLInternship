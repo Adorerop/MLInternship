{
  "nbformat": 4,
  "nbformat_minor": 0,
  "metadata": {
    "colab": {
      "provenance": []
    },
    "kernelspec": {
      "name": "python3",
      "display_name": "Python 3"
    },
    "language_info": {
      "name": "python"
    }
  },
  "cells": [
    {
      "cell_type": "markdown",
      "source": [
        "#Assignment code 1\n",
        "\n",
        "Find a method to check if the character is alphabet or not."
      ],
      "metadata": {
        "id": "SZtt6bXVfXX4"
      }
    },
    {
      "cell_type": "code",
      "execution_count": null,
      "metadata": {
        "colab": {
          "base_uri": "https://localhost:8080/"
        },
        "id": "OHQo92TDfWmm",
        "outputId": "dbe201e3-25a1-4284-9288-380e23c715ad"
      },
      "outputs": [
        {
          "output_type": "stream",
          "name": "stdout",
          "text": [
            "True\n"
          ]
        }
      ],
      "source": [
        "txt = \"ABCabc\"\n",
        "x = txt.isalpha()\n",
        "print(x)"
      ]
    },
    {
      "cell_type": "markdown",
      "source": [
        "#Assignment code 2\n",
        "\n",
        "Given a string  \n",
        "\n",
        "Convert all uppercase character to lower case and all lowercase to uppercase. "
      ],
      "metadata": {
        "id": "UWfb1hwjfZiu"
      }
    },
    {
      "cell_type": "code",
      "source": [
        "inp =  \"Hi, How Are YOU?\"\n",
        "expected_output = \"hI, hOW aRE you?\""
      ],
      "metadata": {
        "id": "t3htYMjrfeZ5"
      },
      "execution_count": null,
      "outputs": []
    },
    {
      "cell_type": "code",
      "source": [
        "output = \"\"\n",
        "for i in inp:\n",
        "  if(not i.isalpha()):\n",
        "    output = output + i\n",
        "  else:\n",
        "    if(i.isupper()):\n",
        "      j = i.lower()\n",
        "    if(i.islower()):\n",
        "      j = i.upper()\n",
        "    output = output + j\n",
        "#########Alternative solution###\n",
        "output = \"\"\n",
        "for i in inp:\n",
        "  if(i.isalpha()):\n",
        "    if(i.isupper()):\n",
        "      j = i.lower()\n",
        "    if(i.islower()):\n",
        "      j = i.upper()\n",
        "    output = output + j\n",
        "  else:\n",
        "    output = output + i"
      ],
      "metadata": {
        "id": "CQx-nhdWfp2D"
      },
      "execution_count": null,
      "outputs": []
    },
    {
      "cell_type": "markdown",
      "source": [
        "#While loop\n",
        "It is based on condition."
      ],
      "metadata": {
        "id": "iAPLqejCqY7o"
      }
    },
    {
      "cell_type": "code",
      "source": [
        "i = 0\n",
        "while(i<5):\n",
        "  print(i)\n",
        "  i = i+1"
      ],
      "metadata": {
        "colab": {
          "base_uri": "https://localhost:8080/"
        },
        "id": "9xAQoU2KpREq",
        "outputId": "8d092040-2584-4cfa-e77f-1e307a066a15"
      },
      "execution_count": null,
      "outputs": [
        {
          "output_type": "stream",
          "name": "stdout",
          "text": [
            "0\n",
            "1\n",
            "2\n",
            "3\n",
            "4\n"
          ]
        }
      ]
    },
    {
      "cell_type": "code",
      "source": [
        "#Infinite while loop\n",
        "i = 0\n",
        "while(i<5):\n",
        "  print(i)"
      ],
      "metadata": {
        "id": "MHZLDDZApDaE"
      },
      "execution_count": null,
      "outputs": []
    },
    {
      "cell_type": "markdown",
      "source": [
        "While loop with break condition"
      ],
      "metadata": {
        "id": "uZzib616rQkG"
      }
    },
    {
      "cell_type": "code",
      "source": [
        "i = 0\n",
        "while(i<20):\n",
        "  if(i>12):\n",
        "    break\n",
        "  print(i)\n",
        "  i = i+1"
      ],
      "metadata": {
        "colab": {
          "base_uri": "https://localhost:8080/"
        },
        "id": "6OqxusuGoQSo",
        "outputId": "4393b3dd-363f-4289-cded-4dd138eaecf0"
      },
      "execution_count": null,
      "outputs": [
        {
          "output_type": "stream",
          "name": "stdout",
          "text": [
            "0\n",
            "1\n",
            "2\n",
            "3\n",
            "4\n",
            "5\n",
            "6\n",
            "7\n",
            "8\n",
            "9\n",
            "10\n",
            "11\n",
            "12\n"
          ]
        }
      ]
    },
    {
      "cell_type": "markdown",
      "source": [
        "#Practice code\n",
        "\n",
        "Read users choice y/n with while loop.\n",
        "\n",
        "if user enters n break the loop. If user enters y get student name from user and append it to lst list."
      ],
      "metadata": {
        "id": "S--C3dGRsDCB"
      }
    },
    {
      "cell_type": "code",
      "source": [
        "lst =[]\n",
        "choice = 'y'\n",
        "while(True):\n",
        "  choice = input(\"Enter choice...Do you want to enter data ?\")\n",
        "  if(choice=='n'):\n",
        "    break\n",
        "  else:\n",
        "    name = input(\"Enter student name\")\n",
        "    lst.append(name)"
      ],
      "metadata": {
        "colab": {
          "base_uri": "https://localhost:8080/"
        },
        "id": "8Zbn7LUmn1m1",
        "outputId": "6df9a838-c049-40ef-cd06-610e055393d2"
      },
      "execution_count": null,
      "outputs": [
        {
          "name": "stdout",
          "output_type": "stream",
          "text": [
            "Enter choice...Do you want to enter data ?y\n",
            "Enter student nameParth\n",
            "Enter choice...Do you want to enter data ?y\n",
            "Enter student nameRaj\n",
            "Enter choice...Do you want to enter data ?y\n",
            "Enter student nameJay\n",
            "Enter choice...Do you want to enter data ?n\n"
          ]
        }
      ]
    },
    {
      "cell_type": "code",
      "source": [
        "print(lst)"
      ],
      "metadata": {
        "colab": {
          "base_uri": "https://localhost:8080/"
        },
        "id": "lVVCNANLtQaR",
        "outputId": "22b7ceba-75ee-4b08-eac3-bc2c729757f0"
      },
      "execution_count": null,
      "outputs": [
        {
          "output_type": "stream",
          "name": "stdout",
          "text": [
            "['Parth', 'Raj', 'Jay']\n"
          ]
        }
      ]
    },
    {
      "cell_type": "markdown",
      "source": [
        "#File operations in python"
      ],
      "metadata": {
        "id": "-uZ4Tf-KuPVV"
      }
    },
    {
      "cell_type": "markdown",
      "source": [
        "Read data from file"
      ],
      "metadata": {
        "id": "KhqtuHDDvq8p"
      }
    },
    {
      "cell_type": "code",
      "source": [
        "f1 = open('abc.txt','r')\n",
        "for ln in f1:\n",
        "  print(ln)\n",
        "f1.close()"
      ],
      "metadata": {
        "colab": {
          "base_uri": "https://localhost:8080/"
        },
        "id": "Jv4pIYh3toOZ",
        "outputId": "0546f292-fbe5-45e3-bfcf-6d720b522fef"
      },
      "execution_count": null,
      "outputs": [
        {
          "output_type": "stream",
          "name": "stdout",
          "text": [
            "Hi \n",
            "\n",
            "How are you ?\n",
            "\n",
            "I am fine.\n",
            "\n",
            "Where are you ?\n",
            "\n",
            "I am in BrainyBeams\n",
            "\n"
          ]
        }
      ]
    },
    {
      "cell_type": "code",
      "source": [
        "f1 = open('abc.txt','r')\n",
        "print(f1.read())\n",
        "f1.close()"
      ],
      "metadata": {
        "colab": {
          "base_uri": "https://localhost:8080/"
        },
        "id": "4K2CME3Cudk3",
        "outputId": "a643e272-87ff-486d-e6b1-55f16e6dca88"
      },
      "execution_count": null,
      "outputs": [
        {
          "output_type": "stream",
          "name": "stdout",
          "text": [
            "Hi \n",
            "How are you ?\n",
            "I am fine.\n",
            "Where are you ?\n",
            "I am in BrainyBeams\n",
            "\n"
          ]
        }
      ]
    },
    {
      "cell_type": "markdown",
      "source": [
        "Create file and write on file"
      ],
      "metadata": {
        "id": "8MPV4gl6vxII"
      }
    },
    {
      "cell_type": "code",
      "source": [
        "f2 = open(\"writing.txt\",\"w\")\n",
        "f2.write(\"This is first line\\n\")\n",
        "f2.write(\"This is second line\\n\")\n",
        "f2.close()"
      ],
      "metadata": {
        "id": "GmPWFT8mumBR"
      },
      "execution_count": null,
      "outputs": []
    },
    {
      "cell_type": "markdown",
      "source": [
        "Append content on already existing file"
      ],
      "metadata": {
        "id": "4ZIoaXZuxHWk"
      }
    },
    {
      "cell_type": "code",
      "source": [
        "f3 = open(\"writing.txt\",\"a\")\n",
        "f3.write(\"This is 3rd line\")\n",
        "f3.close()"
      ],
      "metadata": {
        "id": "QcVbs6Z9wXLz"
      },
      "execution_count": null,
      "outputs": []
    },
    {
      "cell_type": "code",
      "source": [
        "f4 = open(\"writing.txt\",\"a\")\n",
        "f4.write(\"This is 4th line\")\n",
        "f4.close()"
      ],
      "metadata": {
        "colab": {
          "base_uri": "https://localhost:8080/"
        },
        "id": "ZWUldNyUxRfG",
        "outputId": "446b1306-c0bf-4769-c06f-ff0734457901"
      },
      "execution_count": null,
      "outputs": [
        {
          "output_type": "execute_result",
          "data": {
            "text/plain": [
              "16"
            ]
          },
          "metadata": {},
          "execution_count": 59
        }
      ]
    }
  ]
}